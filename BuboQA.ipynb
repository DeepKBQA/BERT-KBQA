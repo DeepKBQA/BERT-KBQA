{
  "nbformat": 4,
  "nbformat_minor": 0,
  "metadata": {
    "colab": {
      "name": "BuboQA.ipynb",
      "provenance": [],
      "mount_file_id": "https://github.com/meti-94/BERT-QA/blob/main/BuboQA.ipynb",
      "authorship_tag": "ABX9TyNxNkO09Y52ywcoiplQ7Bby",
      "include_colab_link": true
    },
    "kernelspec": {
      "display_name": "Python 3",
      "name": "python3"
    },
    "language_info": {
      "name": "python"
    },
    "accelerator": "GPU"
  },
  "cells": [
    {
      "cell_type": "markdown",
      "metadata": {
        "id": "view-in-github",
        "colab_type": "text"
      },
      "source": [
        "<a href=\"https://colab.research.google.com/github/meti-94/BERT-QA/blob/main/BuboQA.ipynb\" target=\"_parent\"><img src=\"https://colab.research.google.com/assets/colab-badge.svg\" alt=\"Open In Colab\"/></a>"
      ]
    },
    {
      "cell_type": "code",
      "metadata": {
        "colab": {
          "base_uri": "https://localhost:8080/"
        },
        "id": "y2G_f0l42567",
        "outputId": "d351bdcb-e2bb-4a34-9054-9d9aa3ad3ee2"
      },
      "source": [
        "!pip install fuzzywuzzy\n",
        "!pip uninstall -y torch\n",
        "!pip install torch==0.4.1\n",
        "!pip install torchtext==0.2.3"
      ],
      "execution_count": 1,
      "outputs": [
        {
          "output_type": "stream",
          "text": [
            "Collecting fuzzywuzzy\n",
            "  Downloading https://files.pythonhosted.org/packages/43/ff/74f23998ad2f93b945c0309f825be92e04e0348e062026998b5eefef4c33/fuzzywuzzy-0.18.0-py2.py3-none-any.whl\n",
            "Installing collected packages: fuzzywuzzy\n",
            "Successfully installed fuzzywuzzy-0.18.0\n",
            "Uninstalling torch-1.8.1+cu101:\n",
            "  Successfully uninstalled torch-1.8.1+cu101\n",
            "Collecting torch==0.4.1\n",
            "\u001b[?25l  Downloading https://files.pythonhosted.org/packages/a2/6f/60e77fe7a4b4e23808f1e4c6261dec2ea15abbfd91b0d791f107365f4f2b/torch-0.4.1-cp37-cp37m-manylinux1_x86_64.whl (519.5MB)\n",
            "\u001b[K     |████████████████████████████████| 519.5MB 34kB/s \n",
            "\u001b[31mERROR: torchvision 0.9.1+cu101 has requirement torch==1.8.1, but you'll have torch 0.4.1 which is incompatible.\u001b[0m\n",
            "\u001b[31mERROR: torchtext 0.9.1 has requirement torch==1.8.1, but you'll have torch 0.4.1 which is incompatible.\u001b[0m\n",
            "\u001b[31mERROR: fastai 1.0.61 has requirement torch>=1.0.0, but you'll have torch 0.4.1 which is incompatible.\u001b[0m\n",
            "\u001b[?25hInstalling collected packages: torch\n",
            "Successfully installed torch-0.4.1\n",
            "Collecting torchtext==0.2.3\n",
            "\u001b[?25l  Downloading https://files.pythonhosted.org/packages/78/90/474d5944d43001a6e72b9aaed5c3e4f77516fbef2317002da2096fd8b5ea/torchtext-0.2.3.tar.gz (42kB)\n",
            "\u001b[K     |████████████████████████████████| 51kB 4.5MB/s \n",
            "\u001b[?25hRequirement already satisfied: tqdm in /usr/local/lib/python3.7/dist-packages (from torchtext==0.2.3) (4.41.1)\n",
            "Requirement already satisfied: requests in /usr/local/lib/python3.7/dist-packages (from torchtext==0.2.3) (2.23.0)\n",
            "Requirement already satisfied: certifi>=2017.4.17 in /usr/local/lib/python3.7/dist-packages (from requests->torchtext==0.2.3) (2020.12.5)\n",
            "Requirement already satisfied: urllib3!=1.25.0,!=1.25.1,<1.26,>=1.21.1 in /usr/local/lib/python3.7/dist-packages (from requests->torchtext==0.2.3) (1.24.3)\n",
            "Requirement already satisfied: chardet<4,>=3.0.2 in /usr/local/lib/python3.7/dist-packages (from requests->torchtext==0.2.3) (3.0.4)\n",
            "Requirement already satisfied: idna<3,>=2.5 in /usr/local/lib/python3.7/dist-packages (from requests->torchtext==0.2.3) (2.10)\n",
            "Building wheels for collected packages: torchtext\n",
            "  Building wheel for torchtext (setup.py) ... \u001b[?25l\u001b[?25hdone\n",
            "  Created wheel for torchtext: filename=torchtext-0.2.3-cp37-none-any.whl size=40134 sha256=bfa5cbb9f75c2745f00e80fcc1677e45c8c6c25c69d9efd34294bee80b051e9e\n",
            "  Stored in directory: /root/.cache/pip/wheels/42/a6/f4/b267328bde6bb680094a0c173e8e5627ccc99543abded97204\n",
            "Successfully built torchtext\n",
            "Installing collected packages: torchtext\n",
            "  Found existing installation: torchtext 0.9.1\n",
            "    Uninstalling torchtext-0.9.1:\n",
            "      Successfully uninstalled torchtext-0.9.1\n",
            "Successfully installed torchtext-0.2.3\n"
          ],
          "name": "stdout"
        }
      ]
    },
    {
      "cell_type": "code",
      "metadata": {
        "colab": {
          "base_uri": "https://localhost:8080/"
        },
        "id": "7IfQguh2qMFi",
        "outputId": "99ab0c61-3742-43b2-b42d-a9be45bd305b"
      },
      "source": [
        "!git clone https://github.com/castorini/BuboQA.git\n",
        "%cd BuboQA"
      ],
      "execution_count": 11,
      "outputs": [
        {
          "output_type": "stream",
          "text": [
            "Cloning into 'BuboQA'...\n",
            "remote: Enumerating objects: 1383, done.\u001b[K\n",
            "remote: Total 1383 (delta 0), reused 0 (delta 0), pack-reused 1383\u001b[K\n",
            "Receiving objects: 100% (1383/1383), 361.07 KiB | 4.40 MiB/s, done.\n",
            "Resolving deltas: 100% (908/908), done.\n",
            "/content/BuboQA\n"
          ],
          "name": "stdout"
        }
      ]
    },
    {
      "cell_type": "code",
      "metadata": {
        "id": "qdbYq4kDqd0c",
        "colab": {
          "base_uri": "https://localhost:8080/"
        },
        "outputId": "6818b5ad-8ac1-48b6-9c76-93ac27136422"
      },
      "source": [
        "%cd /content/BuboQA\n",
        "!bash setup.sh "
      ],
      "execution_count": 32,
      "outputs": [
        {
          "output_type": "stream",
          "text": [
            "/content/BuboQA\n",
            "Running fetch_dataset script\n",
            "Downloading SimpleQuestions dataset...\n",
            "\n",
            "--2021-04-01 09:44:21--  https://git.uwaterloo.ca/jimmylin/BuboQA-data/raw/master/SimpleQuestions_v2.tgz\n",
            "Resolving git.uwaterloo.ca (git.uwaterloo.ca)... 129.97.83.4\n",
            "Connecting to git.uwaterloo.ca (git.uwaterloo.ca)|129.97.83.4|:443... connected.\n",
            "HTTP request sent, awaiting response... 200 OK\n",
            "Length: 423435590 (404M) [application/x-gzip]\n",
            "Saving to: ‘SimpleQuestions_v2.tgz’\n",
            "\n",
            "SimpleQuestions_v2. 100%[===================>] 403.82M  29.7MB/s    in 14s     \n",
            "\n",
            "2021-04-01 09:44:40 (28.2 MB/s) - ‘SimpleQuestions_v2.tgz’ saved [423435590/423435590]\n",
            "\n",
            "\n",
            "\n",
            "Unzipping SimpleQuestions dataset...\n",
            "\n",
            "tar: Ignoring unknown extended header keyword 'SCHILY.dev'\n",
            "tar: Ignoring unknown extended header keyword 'SCHILY.ino'\n",
            "tar: Ignoring unknown extended header keyword 'SCHILY.nlink'\n",
            "./._SimpleQuestions_v2\n",
            "tar: Ignoring unknown extended header keyword 'LIBARCHIVE.creationtime'\n",
            "tar: Ignoring unknown extended header keyword 'SCHILY.dev'\n",
            "tar: Ignoring unknown extended header keyword 'SCHILY.ino'\n",
            "tar: Ignoring unknown extended header keyword 'SCHILY.nlink'\n",
            "SimpleQuestions_v2/\n",
            "tar: Ignoring unknown extended header keyword 'SCHILY.dev'\n",
            "tar: Ignoring unknown extended header keyword 'SCHILY.ino'\n",
            "tar: Ignoring unknown extended header keyword 'SCHILY.nlink'\n",
            "SimpleQuestions_v2/._annotated_fb_data_test.txt\n",
            "tar: Ignoring unknown extended header keyword 'LIBARCHIVE.creationtime'\n",
            "tar: Ignoring unknown extended header keyword 'SCHILY.dev'\n",
            "tar: Ignoring unknown extended header keyword 'SCHILY.ino'\n",
            "tar: Ignoring unknown extended header keyword 'SCHILY.nlink'\n",
            "SimpleQuestions_v2/annotated_fb_data_test.txt\n",
            "tar: Ignoring unknown extended header keyword 'SCHILY.dev'\n",
            "tar: Ignoring unknown extended header keyword 'SCHILY.ino'\n",
            "tar: Ignoring unknown extended header keyword 'SCHILY.nlink'\n",
            "SimpleQuestions_v2/._annotated_fb_data_train.txt\n",
            "tar: Ignoring unknown extended header keyword 'LIBARCHIVE.creationtime'\n",
            "tar: Ignoring unknown extended header keyword 'SCHILY.dev'\n",
            "tar: Ignoring unknown extended header keyword 'SCHILY.ino'\n",
            "tar: Ignoring unknown extended header keyword 'SCHILY.nlink'\n",
            "SimpleQuestions_v2/annotated_fb_data_train.txt\n",
            "tar: Ignoring unknown extended header keyword 'SCHILY.dev'\n",
            "tar: Ignoring unknown extended header keyword 'SCHILY.ino'\n",
            "tar: Ignoring unknown extended header keyword 'SCHILY.nlink'\n",
            "SimpleQuestions_v2/._annotated_fb_data_valid.txt\n",
            "tar: Ignoring unknown extended header keyword 'LIBARCHIVE.creationtime'\n",
            "tar: Ignoring unknown extended header keyword 'SCHILY.dev'\n",
            "tar: Ignoring unknown extended header keyword 'SCHILY.ino'\n",
            "tar: Ignoring unknown extended header keyword 'SCHILY.nlink'\n",
            "SimpleQuestions_v2/annotated_fb_data_valid.txt\n",
            "tar: Ignoring unknown extended header keyword 'LIBARCHIVE.creationtime'\n",
            "tar: Ignoring unknown extended header keyword 'SCHILY.dev'\n",
            "tar: Ignoring unknown extended header keyword 'SCHILY.ino'\n",
            "tar: Ignoring unknown extended header keyword 'SCHILY.nlink'\n",
            "SimpleQuestions_v2/freebase-subsets/\n",
            "tar: Ignoring unknown extended header keyword 'SCHILY.dev'\n",
            "tar: Ignoring unknown extended header keyword 'SCHILY.ino'\n",
            "tar: Ignoring unknown extended header keyword 'SCHILY.nlink'\n",
            "SimpleQuestions_v2/._LICENSE.txt\n",
            "tar: Ignoring unknown extended header keyword 'LIBARCHIVE.creationtime'\n",
            "tar: Ignoring unknown extended header keyword 'SCHILY.dev'\n",
            "tar: Ignoring unknown extended header keyword 'SCHILY.ino'\n",
            "tar: Ignoring unknown extended header keyword 'SCHILY.nlink'\n",
            "SimpleQuestions_v2/LICENSE.txt\n",
            "tar: Ignoring unknown extended header keyword 'LIBARCHIVE.creationtime'\n",
            "tar: Ignoring unknown extended header keyword 'SCHILY.dev'\n",
            "tar: Ignoring unknown extended header keyword 'SCHILY.ino'\n",
            "tar: Ignoring unknown extended header keyword 'SCHILY.nlink'\n",
            "SimpleQuestions_v2/README.txt\n",
            "tar: Ignoring unknown extended header keyword 'LIBARCHIVE.creationtime'\n",
            "tar: Ignoring unknown extended header keyword 'SCHILY.dev'\n",
            "tar: Ignoring unknown extended header keyword 'SCHILY.ino'\n",
            "tar: Ignoring unknown extended header keyword 'SCHILY.nlink'\n",
            "SimpleQuestions_v2/freebase-subsets/freebase-FB2M.txt\n",
            "tar: Ignoring unknown extended header keyword 'LIBARCHIVE.creationtime'\n",
            "tar: Ignoring unknown extended header keyword 'SCHILY.dev'\n",
            "tar: Ignoring unknown extended header keyword 'SCHILY.ino'\n",
            "tar: Ignoring unknown extended header keyword 'SCHILY.nlink'\n",
            "SimpleQuestions_v2/freebase-subsets/freebase-FB5M.txt\n",
            "Downloading Embeddings...\n",
            "\n",
            "--2021-04-01 09:45:50--  https://git.uwaterloo.ca/jimmylin/BuboQA-data/raw/master/sq_glove300d.pt\n",
            "Resolving git.uwaterloo.ca (git.uwaterloo.ca)... 129.97.83.4\n",
            "Connecting to git.uwaterloo.ca (git.uwaterloo.ca)|129.97.83.4|:443... connected.\n",
            "HTTP request sent, awaiting response... 200 OK\n",
            "Length: 63772772 (61M) [application/octet-stream]\n",
            "Saving to: ‘sq_glove300d.pt’\n",
            "\n",
            "sq_glove300d.pt     100%[===================>]  60.82M  20.8MB/s    in 2.9s    \n",
            "\n",
            "2021-04-01 09:45:54 (20.8 MB/s) - ‘sq_glove300d.pt’ saved [63772772/63772772]\n",
            "\n",
            "Downloading Features...\n",
            "\n",
            "--2021-04-01 09:45:54--  https://git.uwaterloo.ca/jimmylin/BuboQA-data/raw/master/feature4lr.zip\n",
            "Resolving git.uwaterloo.ca (git.uwaterloo.ca)... 129.97.83.4\n",
            "Connecting to git.uwaterloo.ca (git.uwaterloo.ca)|129.97.83.4|:443... connected.\n",
            "HTTP request sent, awaiting response... 200 OK\n",
            "Length: 192472025 (184M) [application/zip]\n",
            "Saving to: ‘feature4lr.zip’\n",
            "\n",
            "feature4lr.zip      100%[===================>] 183.55M  29.9MB/s    in 7.0s    \n",
            "\n",
            "2021-04-01 09:46:03 (26.3 MB/s) - ‘feature4lr.zip’ saved [192472025/192472025]\n",
            "\n",
            "Archive:  feature4lr.zip\n",
            "  inflating: lr_glove_rel_features/feature.test  \n",
            "  inflating: lr_glove_rel_features/feature.train  \n",
            "  inflating: lr_glove_rel_features/feature.valid  \n",
            "Downloading Mapping to wiki...\n",
            "\n",
            "--2021-04-01 09:46:09--  https://git.uwaterloo.ca/jimmylin/BuboQA-data/raw/master/fb2w.nt\n",
            "Resolving git.uwaterloo.ca (git.uwaterloo.ca)... 129.97.83.4\n",
            "Connecting to git.uwaterloo.ca (git.uwaterloo.ca)|129.97.83.4|:443... connected.\n",
            "HTTP request sent, awaiting response... 200 OK\n",
            "Length: 254669084 (243M) [text/plain]\n",
            "Saving to: ‘fb2w.nt’\n",
            "\n",
            "fb2w.nt             100%[===================>] 242.87M  30.4MB/s    in 9.0s    \n",
            "\n",
            "2021-04-01 09:46:20 (27.1 MB/s) - ‘fb2w.nt’ saved [254669084/254669084]\n",
            "\n",
            "\n",
            "\n",
            "Downloading the names file...\n",
            "\n",
            "--2021-04-01 09:46:20--  https://git.uwaterloo.ca/jimmylin/BuboQA-data/raw/master/FB5M.name.txt.bz2\n",
            "Resolving git.uwaterloo.ca (git.uwaterloo.ca)... 129.97.83.4\n",
            "Connecting to git.uwaterloo.ca (git.uwaterloo.ca)|129.97.83.4|:443... connected.\n",
            "HTTP request sent, awaiting response... 200 OK\n",
            "Length: 66651588 (64M) [application/octet-stream]\n",
            "Saving to: ‘FB5M.name.txt.bz2’\n",
            "\n",
            "FB5M.name.txt.bz2   100%[===================>]  63.56M  21.6MB/s    in 2.9s    \n",
            "\n",
            "2021-04-01 09:46:24 (21.6 MB/s) - ‘FB5M.name.txt.bz2’ saved [66651588/66651588]\n",
            "\n",
            "\n",
            "\n",
            "Trimming the names file for subset 2M...\n",
            "\n",
            "Freebase subset: data/SimpleQuestions_v2/freebase-subsets/freebase-FB2M.txt\n",
            "Names file from CFO: data/freebase_names/FB5M.name.txt\n",
            "Output trimmed names file: data/freebase_names/names.trimmed.2M.txt\n",
            "getting all entity MIDs from Freebase subset...\n",
            "line: 0\n",
            "line: 1000000\n",
            "line: 2000000\n",
            "line: 3000000\n",
            "line: 4000000\n",
            "line: 5000000\n",
            "line: 6000000\n",
            "line: 7000000\n",
            "line: 8000000\n",
            "line: 9000000\n",
            "line: 10000000\n",
            "trimming names...\n",
            "line: 0\n",
            "line: 1000000\n",
            "line: 2000000\n",
            "line: 3000000\n",
            "line: 4000000\n",
            "line: 5000000\n",
            "Trimmed the names file.\n",
            "Create the names map index for 2M-freebase-subset...\n",
            "\n",
            "Names file path: data/freebase_names/names.trimmed.2M.txt\n",
            "Pickle output path: indexes/names_2M.pkl\n",
            "getting names map...\n",
            "line: 0\n",
            "line: 1000000\n",
            "line: 2000000\n",
            "Created the names index.\n",
            "\n",
            "\n",
            "Create processed, augmented dataset...\n",
            "\n",
            "/usr/local/lib/python3.7/dist-packages/fuzzywuzzy/fuzz.py:11: UserWarning: Using slow pure-python SequenceMatcher. Install python-Levenshtein to remove this warning\n",
            "  warnings.warn('Using slow pure-python SequenceMatcher. Install python-Levenshtein to remove this warning')\n",
            "Dataset: data/SimpleQuestions_v2\n",
            "Index - Names: indexes/names_2M.pkl\n",
            "Output: data/processed_simplequestions_dataset\n",
            "loading index from: indexes/names_2M.pkl\n",
            "creating new datasets...\n",
            "reading from data/SimpleQuestions_v2/annotated_fb_data_train.txt\n",
            "line: 0\n",
            "lineid train-439 - name not found. fb:m.0fzjr3p Skip\n",
            "lineid train-622 - name not found. fb:m.0dz8wx Skip\n",
            "lineid train-658 - name not found. fb:m.0_8982w Skip\n",
            "lineid train-1234 - name not found. fb:m.07m_vq Skip\n",
            "lineid train-1771 - name not found. fb:m.0318_03 Skip\n",
            "lineid train-1970 - name not found. fb:m.0dyvxvf Skip\n",
            "lineid train-2306 - name not found. fb:m.0lmk5l Skip\n",
            "lineid train-3004 - name not found. fb:m.0djb8lg Skip\n",
            "lineid train-3556 - name not found. fb:m.0lqhmfb Skip\n",
            "lineid train-4130 - name not found. fb:m.0zj79nx Skip\n",
            "lineid train-4688 - name not found. fb:m.01hh6cr Skip\n",
            "lineid train-5080 - name not found. fb:m.03whpdf Skip\n",
            "lineid train-5336 - name not found. fb:m.0k33swc Skip\n",
            "lineid train-5343 - name not found. fb:m.0_rs5qn Skip\n",
            "lineid train-5477 - name not found. fb:m.03whpdf Skip\n",
            "lineid train-5859 - name not found. fb:m.0dn4zj6 Skip\n",
            "lineid train-5871 - name not found. fb:m.01r33px Skip\n",
            "lineid train-6963 - name not found. fb:m.0ghvmn2 Skip\n",
            "lineid train-7425 - name not found. fb:m.026r5k7 Skip\n",
            "lineid train-7579 - name not found. fb:m.0185gpf Skip\n",
            "lineid train-7608 - name not found. fb:m.0wpj3tz Skip\n",
            "lineid train-7761 - name not found. fb:m.0_kd_78 Skip\n",
            "lineid train-8382 - name not found. fb:m.05f9062 Skip\n",
            "lineid train-8799 - name not found. fb:m.02kby38 Skip\n",
            "lineid train-9939 - name not found. fb:m.07xd4 Skip\n",
            "lineid train-10199 - name not found. fb:m.0kdxy97 Skip\n",
            "lineid train-10514 - name not found. fb:m.05n0276 Skip\n",
            "lineid train-10559 - name not found. fb:m.0lns8qj Skip\n",
            "lineid train-10669 - name not found. fb:m.0c03x2r Skip\n",
            "lineid train-10972 - name not found. fb:m.0bbhl2 Skip\n",
            "lineid train-10995 - name not found. fb:m.0wjc55v Skip\n",
            "lineid train-11257 - name not found. fb:m.0_jf3xs Skip\n",
            "lineid train-11628 - name not found. fb:m.0smw0jl Skip\n",
            "lineid train-11767 - name not found. fb:m.0ftmr4x Skip\n",
            "lineid train-12369 - name not found. fb:m.09wjv_ Skip\n",
            "lineid train-12507 - name not found. fb:m.01lp4t3 Skip\n",
            "lineid train-12715 - name not found. fb:m.0wznr96 Skip\n",
            "lineid train-12824 - name not found. fb:m.0w9c45l Skip\n",
            "lineid train-13224 - name not found. fb:m.036yp_6 Skip\n",
            "lineid train-13373 - name not found. fb:m.0jwgv1b Skip\n",
            "lineid train-13527 - name not found. fb:m.0vmysv4 Skip\n",
            "lineid train-13991 - name not found. fb:m.04fxlmx Skip\n",
            "lineid train-14194 - name not found. fb:m.0frw6z5 Skip\n",
            "lineid train-14756 - name not found. fb:m.0n6gqmf Skip\n",
            "lineid train-14850 - name not found. fb:m.02qqqtd Skip\n",
            "lineid train-15096 - name not found. fb:m.018wk4z Skip\n",
            "lineid train-15329 - name not found. fb:m.0135s2d Skip\n",
            "lineid train-16031 - name not found. fb:m.02h7hyr Skip\n",
            "lineid train-16145 - name not found. fb:m.0l76y8l Skip\n",
            "lineid train-16750 - name not found. fb:m.0gyrjjh Skip\n",
            "lineid train-17262 - name not found. fb:m.03h53dg Skip\n",
            "lineid train-17923 - name not found. fb:m.02pqq4j Skip\n",
            "lineid train-18483 - name not found. fb:m.04t50cr Skip\n",
            "lineid train-19149 - name not found. fb:m.01793jx Skip\n",
            "lineid train-19197 - name not found. fb:m.0f1q1b7 Skip\n",
            "lineid train-19371 - name not found. fb:m.0kd9z1j Skip\n",
            "lineid train-19923 - name not found. fb:m.0kynrjn Skip\n",
            "lineid train-19968 - name not found. fb:m.0rvgq2z Skip\n",
            "lineid train-20402 - name not found. fb:m.0gfgv_d Skip\n",
            "lineid train-20856 - name not found. fb:m.02hvshq Skip\n",
            "lineid train-20881 - name not found. fb:m.0ndpq5d Skip\n",
            "lineid train-21079 - name not found. fb:m.02kd3j2 Skip\n",
            "lineid train-21358 - name not found. fb:m.0gfgv_d Skip\n",
            "lineid train-21757 - name not found. fb:m.0djb9ln Skip\n",
            "lineid train-22022 - name not found. fb:m.0tnfs_7 Skip\n",
            "lineid train-22876 - name not found. fb:m.0mmrg0w Skip\n",
            "lineid train-23093 - name not found. fb:m.09vxjfw Skip\n",
            "lineid train-23800 - name not found. fb:m.02kc1nh Skip\n",
            "lineid train-24702 - name not found. fb:m.0hglp1p Skip\n",
            "lineid train-26613 - name not found. fb:m.03xy_kt Skip\n",
            "lineid train-26698 - name not found. fb:m.0gf5l4n Skip\n",
            "lineid train-26704 - name not found. fb:m.06bshn Skip\n",
            "lineid train-28235 - name not found. fb:m.02kcb4m Skip\n",
            "lineid train-29015 - name not found. fb:m.0frkct6 Skip\n",
            "lineid train-29186 - name not found. fb:m.0j93_x5 Skip\n",
            "lineid train-30217 - name not found. fb:m.0v1sqj6 Skip\n",
            "lineid train-30277 - name not found. fb:m.0ft9sk5 Skip\n",
            "lineid train-30349 - name not found. fb:m.03_nrrk Skip\n",
            "lineid train-30975 - name not found. fb:m.0djbg6m Skip\n",
            "lineid train-31000 - name not found. fb:m.0q8g37n Skip\n",
            "lineid train-31185 - name not found. fb:m.02x5_pr Skip\n",
            "lineid train-31597 - name not found. fb:m.0x3hs9b Skip\n",
            "lineid train-32182 - name not found. fb:m.0_kdlrp Skip\n",
            "lineid train-32397 - name not found. fb:m.0vwbwy Skip\n",
            "lineid train-32931 - name not found. fb:m.0hqxrsf Skip\n",
            "lineid train-33163 - name not found. fb:m.02ww_qc Skip\n",
            "lineid train-33492 - name not found. fb:m.0yb169k Skip\n",
            "lineid train-34047 - name not found. fb:m.0_rqnny Skip\n",
            "lineid train-34553 - name not found. fb:m.0lf79y Skip\n",
            "lineid train-34723 - name not found. fb:m.0sj26dn Skip\n",
            "lineid train-34912 - name not found. fb:m.0_sywhx Skip\n",
            "lineid train-35335 - name not found. fb:m.02wy5lc Skip\n",
            "lineid train-35358 - name not found. fb:m.0hqxrsf Skip\n",
            "lineid train-35469 - name not found. fb:m.0dpbrmz Skip\n",
            "lineid train-35524 - name not found. fb:m.0dr08bk Skip\n",
            "lineid train-35566 - name not found. fb:m.02h664x Skip\n",
            "lineid train-36865 - name not found. fb:m.0dswyx9 Skip\n",
            "lineid train-37064 - name not found. fb:m.0vc96hj Skip\n",
            "lineid train-37222 - name not found. fb:m.0kynd3j Skip\n",
            "lineid train-37974 - name not found. fb:m.0g6tq91 Skip\n",
            "lineid train-38022 - name not found. fb:m.02h664x Skip\n",
            "lineid train-38035 - name not found. fb:m.03xwypw Skip\n",
            "lineid train-38337 - name not found. fb:m.0_6djtp Skip\n",
            "lineid train-38666 - name not found. fb:m.0zbvxwj Skip\n",
            "lineid train-39106 - name not found. fb:m.0f3jvpm Skip\n",
            "lineid train-39318 - name not found. fb:m.023rmqq Skip\n",
            "lineid train-40898 - name not found. fb:m.0zhqwxs Skip\n",
            "lineid train-41031 - name not found. fb:m.01_jgb Skip\n",
            "lineid train-41405 - name not found. fb:m.06k9h8 Skip\n",
            "lineid train-41594 - name not found. fb:m.0y603xz Skip\n",
            "lineid train-42025 - name not found. fb:m.04vd3rl Skip\n",
            "lineid train-42049 - name not found. fb:m.0rs6mp4 Skip\n",
            "lineid train-43276 - name not found. fb:m.01x3j7r Skip\n",
            "lineid train-43564 - name not found. fb:m.0274slz Skip\n",
            "lineid train-43880 - name not found. fb:m.0x6kxjp Skip\n",
            "lineid train-44916 - name not found. fb:m.03whpdf Skip\n",
            "lineid train-45158 - name not found. fb:m.0gyk8tl Skip\n",
            "lineid train-45809 - name not found. fb:m.0sh4pjl Skip\n",
            "lineid train-46456 - name not found. fb:m.0fm7hh3 Skip\n",
            "lineid train-46770 - name not found. fb:m.0sppl08 Skip\n",
            "lineid train-47414 - name not found. fb:m.0ch8kqd Skip\n",
            "lineid train-47587 - name not found. fb:m.0w7cbr8 Skip\n",
            "lineid train-47741 - name not found. fb:m.01h0wn7 Skip\n",
            "lineid train-48002 - name not found. fb:m.0v36s9l Skip\n",
            "lineid train-48049 - name not found. fb:m.0_mtrfk Skip\n",
            "lineid train-48227 - name not found. fb:m.02x5zsw Skip\n",
            "lineid train-49673 - name not found. fb:m.0fzyrn_ Skip\n",
            "lineid train-50213 - name not found. fb:m.0_jf3xs Skip\n",
            "lineid train-50274 - name not found. fb:m.0_kd_78 Skip\n",
            "lineid train-50335 - name not found. fb:m.0crrv4f Skip\n",
            "lineid train-50915 - name not found. fb:m.0gxc234 Skip\n",
            "lineid train-51198 - name not found. fb:m.0f12rzg Skip\n",
            "lineid train-51372 - name not found. fb:m.0dtywr Skip\n",
            "lineid train-51626 - name not found. fb:m.05wrx38 Skip\n",
            "lineid train-51654 - name not found. fb:m.0c3ffj Skip\n",
            "lineid train-51719 - name not found. fb:m.0qt3xdy Skip\n",
            "lineid train-52876 - name not found. fb:m.0wyfx9s Skip\n",
            "lineid train-53064 - name not found. fb:m.02h664x Skip\n",
            "lineid train-53710 - name not found. fb:m.01w8rcl Skip\n",
            "lineid train-53914 - name not found. fb:m.0gh7mr8 Skip\n",
            "lineid train-54455 - name not found. fb:m.0fpdpgh Skip\n",
            "lineid train-55274 - name not found. fb:m.0c0mb7h Skip\n",
            "lineid train-55751 - name not found. fb:m.0pfx1x Skip\n",
            "lineid train-56208 - name not found. fb:m.0_vbksf Skip\n",
            "lineid train-56262 - name not found. fb:m.02qgvhg Skip\n",
            "lineid train-56333 - name not found. fb:m.09glxwc Skip\n",
            "lineid train-58167 - name not found. fb:m.01kt5b6 Skip\n",
            "lineid train-58264 - name not found. fb:m.09cm87 Skip\n",
            "lineid train-58745 - name not found. fb:m.0h2d0b8 Skip\n",
            "lineid train-59193 - name not found. fb:m.0_wjz54 Skip\n",
            "lineid train-59510 - name not found. fb:m.0slw743 Skip\n",
            "lineid train-59918 - name not found. fb:m.05n0276 Skip\n",
            "lineid train-59960 - name not found. fb:m.01jxwrn Skip\n",
            "lineid train-60025 - name not found. fb:m.0dtywr Skip\n",
            "lineid train-60952 - name not found. fb:m.059xkp_ Skip\n",
            "lineid train-61116 - name not found. fb:m.0b9t5pg Skip\n",
            "lineid train-61406 - name not found. fb:m.01ngk0 Skip\n",
            "lineid train-61422 - name not found. fb:m.0ymrldg Skip\n",
            "lineid train-61504 - name not found. fb:m.04b2s4m Skip\n",
            "lineid train-62107 - name not found. fb:m.0xp1ks5 Skip\n",
            "lineid train-62139 - name not found. fb:m.0fr8cn2 Skip\n",
            "lineid train-62765 - name not found. fb:m.04t05rf Skip\n",
            "lineid train-63180 - name not found. fb:m.013rpk Skip\n",
            "lineid train-63181 - name not found. fb:m.0kyq7nc Skip\n",
            "lineid train-64144 - name not found. fb:m.0xzkpwn Skip\n",
            "lineid train-64950 - name not found. fb:m.01qv8vy Skip\n",
            "lineid train-65588 - name not found. fb:m.0f7f957 Skip\n",
            "lineid train-65982 - name not found. fb:m.07_3zt Skip\n",
            "lineid train-66361 - name not found. fb:m.09rs_y9 Skip\n",
            "lineid train-67456 - name not found. fb:m.027kwms Skip\n",
            "lineid train-67866 - name not found. fb:m.0w7cbr8 Skip\n",
            "lineid train-67920 - name not found. fb:m.0g8z9vt Skip\n",
            "lineid train-67924 - name not found. fb:m.04g1nc5 Skip\n",
            "lineid train-68484 - name not found. fb:m.017tbqr Skip\n",
            "lineid train-69180 - name not found. fb:m.0shdpvm Skip\n",
            "lineid train-69855 - name not found. fb:m.0gkspc0 Skip\n",
            "lineid train-70232 - name not found. fb:m.032xhtt Skip\n",
            "lineid train-70308 - name not found. fb:m.03b_0q5 Skip\n",
            "lineid train-71995 - name not found. fb:m.0djb2pp Skip\n",
            "lineid train-72014 - name not found. fb:m.0101l0v Skip\n",
            "lineid train-72396 - name not found. fb:m.05_5d Skip\n",
            "lineid train-73433 - name not found. fb:m.023h4nv Skip\n",
            "lineid train-74632 - name not found. fb:m.0dmr3r0 Skip\n",
            "lineid train-74760 - name not found. fb:m.0ftzc Skip\n",
            "lineid train-74904 - name not found. fb:m.0nbyg9c Skip\n",
            "lineid train-75194 - name not found. fb:m.0l12d70 Skip\n",
            "lineid train-75232 - name not found. fb:m.05qd883 Skip\n",
            "lineid train-75373 - name not found. fb:m.0q57lty Skip\n",
            "wrote to data/processed_simplequestions_dataset/train.txt\n",
            "Exact Match Entity : 72558 out of 75910 : 0.9558424450006586\n",
            "reading from data/SimpleQuestions_v2/annotated_fb_data_valid.txt\n",
            "line: 0\n",
            "lineid valid-23 - name not found. fb:m.0zvwcn5 Skip\n",
            "lineid valid-114 - name not found. fb:m.03g22tr Skip\n",
            "lineid valid-475 - name not found. fb:m.0346hsv Skip\n",
            "lineid valid-702 - name not found. fb:m.02z6y3p Skip\n",
            "lineid valid-902 - name not found. fb:m.08vqg8n Skip\n",
            "lineid valid-1168 - name not found. fb:m.045p9_r Skip\n",
            "lineid valid-1169 - name not found. fb:m.03czw5g Skip\n",
            "lineid valid-1270 - name not found. fb:m.0bvrjh4 Skip\n",
            "lineid valid-1595 - name not found. fb:m.0h4867 Skip\n",
            "lineid valid-2044 - name not found. fb:m.02qplxv Skip\n",
            "lineid valid-2416 - name not found. fb:m.0_s2kgd Skip\n",
            "lineid valid-2906 - name not found. fb:m.0sn24jv Skip\n",
            "lineid valid-3958 - name not found. fb:m.0gg9r39 Skip\n",
            "lineid valid-4575 - name not found. fb:m.07gkcf Skip\n",
            "lineid valid-4850 - name not found. fb:m.0g3jrr Skip\n",
            "lineid valid-4888 - name not found. fb:m.0gjqd5 Skip\n",
            "lineid valid-4923 - name not found. fb:m.0fm7jjs Skip\n",
            "lineid valid-5239 - name not found. fb:m.04mmj61 Skip\n",
            "lineid valid-6956 - name not found. fb:m.0q8g37n Skip\n",
            "lineid valid-7154 - name not found. fb:m.01642b5 Skip\n",
            "lineid valid-7981 - name not found. fb:m.0g7tndy Skip\n",
            "lineid valid-8402 - name not found. fb:m.0dyf8sh Skip\n",
            "lineid valid-8650 - name not found. fb:m.0f_0htj Skip\n",
            "lineid valid-8676 - name not found. fb:m.0gbjh51 Skip\n",
            "lineid valid-8880 - name not found. fb:m.0crs0fz Skip\n",
            "lineid valid-8910 - name not found. fb:m.02hkxws Skip\n",
            "lineid valid-9190 - name not found. fb:m.01bz6g5 Skip\n",
            "lineid valid-9741 - name not found. fb:m.0djb2pp Skip\n",
            "lineid valid-9771 - name not found. fb:m.02h664x Skip\n",
            "lineid valid-10339 - name not found. fb:m.0cl6z16 Skip\n",
            "wrote to data/processed_simplequestions_dataset/valid.txt\n",
            "Exact Match Entity : 10396 out of 10845 : 0.9585984324573537\n",
            "reading from data/SimpleQuestions_v2/annotated_fb_data_test.txt\n",
            "line: 0\n",
            "lineid test-163 - name not found. fb:m.0qg9698\n",
            "lineid test-231 - name not found. fb:m.0y9w_wv\n",
            "lineid test-401 - name not found. fb:m.02ww_qc\n",
            "lineid test-772 - name not found. fb:m.03yvtl5\n",
            "lineid test-922 - name not found. fb:m.01k0677\n",
            "lineid test-1557 - name not found. fb:m.0gw7q_r\n",
            "lineid test-1788 - name not found. fb:m.0319xp\n",
            "lineid test-1829 - name not found. fb:m.0jw1qp1\n",
            "lineid test-2022 - name not found. fb:m.0g71sbj\n",
            "lineid test-2145 - name not found. fb:m.0z85h70\n",
            "lineid test-2233 - name not found. fb:m.0nn66b_\n",
            "lineid test-2315 - name not found. fb:m.0fr47rb\n",
            "lineid test-2408 - name not found. fb:m.0f8w6q8\n",
            "lineid test-3217 - name not found. fb:m.05ssss_\n",
            "lineid test-4510 - name not found. fb:m.05n0276\n",
            "lineid test-4607 - name not found. fb:m.02h664x\n",
            "lineid test-5024 - name not found. fb:m.0j3wpr6\n",
            "lineid test-5036 - name not found. fb:m.058mwwp\n",
            "lineid test-5166 - name not found. fb:m.0x17tvr\n",
            "lineid test-5989 - name not found. fb:m.02h7hyr\n",
            "lineid test-6340 - name not found. fb:m.0zmpz4\n",
            "lineid test-6429 - name not found. fb:m.0g1vb16\n",
            "lineid test-7059 - name not found. fb:m.033g8n3\n",
            "lineid test-7218 - name not found. fb:m.0nm3chn\n",
            "lineid test-7270 - name not found. fb:m.02qkdzb\n",
            "lineid test-7392 - name not found. fb:m.0b44bzz\n",
            "lineid test-7819 - name not found. fb:m.07kg0mk\n",
            "lineid test-8617 - name not found. fb:m.0d_bb4h\n",
            "lineid test-8690 - name not found. fb:m.013f7rh\n",
            "lineid test-9808 - name not found. fb:m.0rtydgw\n",
            "lineid test-10178 - name not found. fb:m.0jbctxx\n",
            "lineid test-10911 - name not found. fb:m.0f5n8xz\n",
            "lineid test-11027 - name not found. fb:m.02h664x\n",
            "lineid test-11793 - name not found. fb:m.0byd4y8\n",
            "lineid test-11976 - name not found. fb:m.0mkvdy4\n",
            "lineid test-13147 - name not found. fb:m.02kc1x8\n",
            "lineid test-13284 - name not found. fb:m.02h664x\n",
            "lineid test-13426 - name not found. fb:m.0zgl46r\n",
            "lineid test-13570 - name not found. fb:m.0kpck1k\n",
            "lineid test-13755 - name not found. fb:m.0_jqh5j\n",
            "lineid test-14252 - name not found. fb:m.0km51t_\n",
            "lineid test-14556 - name not found. fb:m.0v48dg8\n",
            "lineid test-16353 - name not found. fb:m.0k33swc\n",
            "lineid test-17143 - name not found. fb:m.06hsptf\n",
            "lineid test-17670 - name not found. fb:m.04w2yxm\n",
            "lineid test-17749 - name not found. fb:m.0r4l5d\n",
            "lineid test-18139 - name not found. fb:m.0fjg6cy\n",
            "lineid test-18557 - name not found. fb:m.0h81j6h\n",
            "lineid test-18577 - name not found. fb:m.02kbxdm\n",
            "lineid test-18890 - name not found. fb:m.0cz7_3h\n",
            "lineid test-19512 - name not found. fb:m.06k50f\n",
            "lineid test-19605 - name not found. fb:m.0ls67qg\n",
            "lineid test-19630 - name not found. fb:m.01npl51\n",
            "lineid test-20627 - name not found. fb:m.04634rs\n",
            "wrote to data/processed_simplequestions_dataset/test.txt\n",
            "Exact Match Entity : 20718 out of 21687 : 0.9553188546133629\n",
            "wrote to data/processed_simplequestions_dataset/all.txt\n",
            "DONE!\n",
            "Augmented dataset with line ids, shorted names, entity names.\n",
            "\n",
            "\n",
            "DONE!\n",
            "\\n\\nRunning create_indexes script...\\n\n",
            "mkdir: cannot create directory ‘indexes’: File exists\n",
            "\n",
            "\n",
            "Create the reachability index for 2M-freebase-subset...\n",
            "\n",
            "Freebase subset: data/SimpleQuestions_v2/freebase-subsets/freebase-FB2M.txt\n",
            "Pickle output: indexes/reachability_2M.pkl\n",
            "creating the index map...\n",
            "line: 0\n",
            "line: 1000000\n",
            "line: 2000000\n",
            "line: 3000000\n",
            "line: 4000000\n",
            "line: 5000000\n",
            "line: 6000000\n",
            "line: 7000000\n",
            "line: 8000000\n",
            "line: 9000000\n",
            "line: 10000000\n",
            "num keys: 1959805\n",
            "total key-value pairs: 10843106\n",
            "DONE\n",
            "Created the reachability index.\n",
            "\n",
            "\n",
            "Create the inverted index for entity names for 2M-freebase-subset...\n",
            "\n",
            "Names: data/freebase_names/names.trimmed.2M.txt\n",
            "Pickle output: indexes/entity_2M.pkl\n",
            "creating the index map...\n",
            "line: 0\n",
            "line: 1000000\n",
            "line: 2000000\n",
            "num keys: 4798616\n",
            "total key-value pairs: 17560776\n",
            "dumping to pickle...\n",
            "tcmalloc: large alloc 1073741824 bytes == 0x5590a981a000 @  0x7f0061d0e1e7 0x5590129509b8 0x5590129d272f 0x5590129cf53e 0x5590129d0d8b 0x5590129d094a 0x5590129d025e 0x5590129ceaac 0x5590128c06a2 0x55901291e00c 0x55901291dde0 0x559012992244 0x55901291f69a 0x55901298da45 0x55901298cb0e 0x55901298c813 0x559012a56592 0x559012a5690d 0x559012a567b6 0x559012a2e103 0x559012a2ddac 0x7f0060af8bf7 0x559012a2dc8a\n",
            "tcmalloc: large alloc 2147483648 bytes == 0x5590e981a000 @  0x7f0061d0e1e7 0x5590129509b8 0x5590129d272f 0x5590129cf744 0x5590129cf418 0x5590129d0d8b 0x5590129d094a 0x5590129d0211 0x5590129ceaac 0x5590128c06a2 0x55901291e00c 0x55901291dde0 0x559012992244 0x55901291f69a 0x55901298da45 0x55901298cb0e 0x55901298c813 0x559012a56592 0x559012a5690d 0x559012a567b6 0x559012a2e103 0x559012a2ddac 0x7f0060af8bf7 0x559012a2dc8a\n",
            "DONE\n",
            "Created the entity index.\n",
            "\n",
            "\n",
            "Create the index for degree counts for 2M-freebase-subset...\n",
            "\n",
            "Freebase subset: data/SimpleQuestions_v2/freebase-subsets/freebase-FB2M.txt\n",
            "Pickle output: indexes/degrees_2M.pkl\n",
            "creating the index map...\n",
            "line: 0\n",
            "line: 1000000\n",
            "line: 2000000\n",
            "line: 3000000\n",
            "line: 4000000\n",
            "line: 5000000\n",
            "line: 6000000\n",
            "line: 7000000\n",
            "line: 8000000\n",
            "line: 9000000\n",
            "line: 10000000\n",
            "num keys: 1968568\n",
            "total key-value pairs: 10843106\n",
            "DONE\n",
            "Created the reachability index.\n",
            "\n",
            "\n",
            "DONE!\n",
            "\\n\\nDONE!\n"
          ],
          "name": "stdout"
        }
      ]
    },
    {
      "cell_type": "code",
      "metadata": {
        "colab": {
          "base_uri": "https://localhost:8080/"
        },
        "id": "mdSm1ujqiL1E",
        "outputId": "5bd347ea-a0ff-4d7c-9a18-86c8d0219f4c"
      },
      "source": [
        "!wget http://nlp.stanford.edu/data/glove.6B.zip"
      ],
      "execution_count": 2,
      "outputs": [
        {
          "output_type": "stream",
          "text": [
            "--2021-04-01 08:46:05--  http://nlp.stanford.edu/data/glove.6B.zip\n",
            "Resolving nlp.stanford.edu (nlp.stanford.edu)... 171.64.67.140\n",
            "Connecting to nlp.stanford.edu (nlp.stanford.edu)|171.64.67.140|:80... connected.\n",
            "HTTP request sent, awaiting response... 302 Found\n",
            "Location: https://nlp.stanford.edu/data/glove.6B.zip [following]\n",
            "--2021-04-01 08:46:05--  https://nlp.stanford.edu/data/glove.6B.zip\n",
            "Connecting to nlp.stanford.edu (nlp.stanford.edu)|171.64.67.140|:443... connected.\n",
            "HTTP request sent, awaiting response... 301 Moved Permanently\n",
            "Location: http://downloads.cs.stanford.edu/nlp/data/glove.6B.zip [following]\n",
            "--2021-04-01 08:46:06--  http://downloads.cs.stanford.edu/nlp/data/glove.6B.zip\n",
            "Resolving downloads.cs.stanford.edu (downloads.cs.stanford.edu)... 171.64.64.22\n",
            "Connecting to downloads.cs.stanford.edu (downloads.cs.stanford.edu)|171.64.64.22|:80... connected.\n",
            "HTTP request sent, awaiting response... 200 OK\n",
            "Length: 862182613 (822M) [application/zip]\n",
            "Saving to: ‘glove.6B.zip’\n",
            "\n",
            "glove.6B.zip        100%[===================>] 822.24M  5.10MB/s    in 2m 42s  \n",
            "\n",
            "2021-04-01 08:48:48 (5.09 MB/s) - ‘glove.6B.zip’ saved [862182613/862182613]\n",
            "\n"
          ],
          "name": "stdout"
        }
      ]
    },
    {
      "cell_type": "code",
      "metadata": {
        "colab": {
          "base_uri": "https://localhost:8080/"
        },
        "id": "G3nkBJOciZFy",
        "outputId": "2ae996e5-468e-4f7d-80dc-012bd185a449"
      },
      "source": [
        "!unzip glove*.zip"
      ],
      "execution_count": 3,
      "outputs": [
        {
          "output_type": "stream",
          "text": [
            "Archive:  glove.6B.zip\n",
            "  inflating: glove.6B.50d.txt        \n",
            "  inflating: glove.6B.100d.txt       \n",
            "  inflating: glove.6B.200d.txt       \n",
            "  inflating: glove.6B.300d.txt       \n"
          ],
          "name": "stdout"
        }
      ]
    },
    {
      "cell_type": "code",
      "metadata": {
        "id": "VebRdDdNP4iK"
      },
      "source": [
        ""
      ],
      "execution_count": null,
      "outputs": []
    },
    {
      "cell_type": "code",
      "metadata": {
        "id": "0sxfyBX-P4fe"
      },
      "source": [
        ""
      ],
      "execution_count": null,
      "outputs": []
    },
    {
      "cell_type": "code",
      "metadata": {
        "id": "a3juJeqWP4cv"
      },
      "source": [
        ""
      ],
      "execution_count": null,
      "outputs": []
    },
    {
      "cell_type": "code",
      "metadata": {
        "id": "9FWKKMeAP4Z1"
      },
      "source": [
        ""
      ],
      "execution_count": null,
      "outputs": []
    },
    {
      "cell_type": "code",
      "metadata": {
        "id": "9JD-WFIkP4W7"
      },
      "source": [
        ""
      ],
      "execution_count": null,
      "outputs": []
    },
    {
      "cell_type": "code",
      "metadata": {
        "id": "OdSUkhHLP4Tk"
      },
      "source": [
        ""
      ],
      "execution_count": null,
      "outputs": []
    },
    {
      "cell_type": "code",
      "metadata": {
        "id": "K8WkoCmvqqFs"
      },
      "source": [
        "import pandas as pd\n",
        "from collections import Counter\n",
        "from tqdm import tqdm\n",
        "from sklearn.preprocessing import LabelBinarizer\n",
        "from copy import copy\n",
        "import numpy as np\n",
        "from sklearn.linear_model import LogisticRegression"
      ],
      "execution_count": 4,
      "outputs": []
    },
    {
      "cell_type": "code",
      "metadata": {
        "colab": {
          "base_uri": "https://localhost:8080/"
        },
        "id": "UJtXHRCrjTgZ",
        "outputId": "9af95533-fb71-4b97-86c5-d862ff22e4e8"
      },
      "source": [
        "print('Indexing word vectors.')\n",
        "\n",
        "embeddings_index = {}\n",
        "f = open('glove.6B.300d.txt', encoding='utf-8')\n",
        "for line in f:\n",
        "    values = line.split()\n",
        "    word = values[0]\n",
        "    coefs = np.asarray(values[1:], dtype='float32')\n",
        "    embeddings_index[word] = coefs\n",
        "f.close()\n",
        "\n",
        "print('Found %s word vectors.' % len(embeddings_index))"
      ],
      "execution_count": 5,
      "outputs": [
        {
          "output_type": "stream",
          "text": [
            "Indexing word vectors.\n",
            "Found 400000 word vectors.\n"
          ],
          "name": "stdout"
        }
      ]
    },
    {
      "cell_type": "code",
      "metadata": {
        "id": "zjkmM1ylThev"
      },
      "source": [
        "train = pd.read_excel('/content/drive/MyDrive/QA/train.xlsx')\n",
        "valid = pd.read_excel('/content/drive/MyDrive/QA/valid.xlsx')\n",
        "test = pd.read_excel('/content/drive/MyDrive/QA/test.xlsx')"
      ],
      "execution_count": 45,
      "outputs": []
    },
    {
      "cell_type": "code",
      "metadata": {
        "id": "tQKaAz5ETwHZ"
      },
      "source": [
        "def sentence2vector(sentence):\n",
        "  vectors = []\n",
        "  for word in sentence.split():\n",
        "    if word in embeddings_index:\n",
        "      vectors.append(embeddings_index[word])\n",
        "    else:\n",
        "      pass\n",
        "  vectors = np.array(vectors)\n",
        "  vector = np.mean(vectors, axis=0)\n",
        "  return vector\n",
        "\n",
        "def get_classes_map(dataframe):\n",
        "  all_normal_rels = [eval(item)[1] for item in dataframe.normalized_triple.to_list()]\n",
        "  rel2class = {}\n",
        "  counter = 0\n",
        "  for item in all_normal_rels:\n",
        "    if item in rel2class:\n",
        "      pass\n",
        "    else:\n",
        "      rel2class[item]=counter\n",
        "      counter+=1\n",
        "  # list(set(all_normal_rels))\n",
        "  return rel2class\n",
        "def get_frequent_rels(dataframe, count):\n",
        "  all_normal_rels = [eval(item)[1] for item in dataframe.normalized_triple.to_list()]\n",
        "  most_frequent_rels = [word for word, word_count in Counter(all_normal_rels).most_common(count)]\n",
        "  return most_frequent_rels\n",
        "def get_features(dataframe, most_frequent_rels):\n",
        "  onehot_features = []\n",
        "  for idx, row in tqdm(dataframe.iterrows()):\n",
        "    temp_rel = eval(row.normalized_triple)[1]\n",
        "    if temp_rel in most_frequent_rels:\n",
        "      onehot_features.append(most_frequent_rels.index(temp_rel))\n",
        "    else:\n",
        "      onehot_features.append(len(most_frequent_rels))\n",
        "  label_binarizer = LabelBinarizer()\n",
        "  label_binarizer.fit(range(max(onehot_features)+1))\n",
        "  onehot_features = label_binarizer.transform(onehot_features)\n",
        "  embeddings_features = np.zeros((len(dataframe), 300), )\n",
        "  for idx, row in tqdm(dataframe.iterrows()):\n",
        "    vector = sentence2vector(row.Question)\n",
        "    embeddings_features[idx, :] = vector\n",
        "  features = np.hstack((embeddings_features, onehot_features))\n",
        "  return np.nan_to_num(features)\n",
        "def get_labels(dataframe, classes_map):\n",
        "  labels = []\n",
        "  for idx, row in tqdm(dataframe.iterrows()):\n",
        "    temp_rel = eval(row.normalized_triple)[1]\n",
        "    if temp_rel in classes_map:\n",
        "      labels.append(classes_map[temp_rel])\n",
        "    else:\n",
        "      labels.append(-1)\n",
        "  return labels"
      ],
      "execution_count": 46,
      "outputs": []
    },
    {
      "cell_type": "code",
      "metadata": {
        "colab": {
          "base_uri": "https://localhost:8080/"
        },
        "id": "BwaZDDkhT9aB",
        "outputId": "cb49510d-749b-4f2c-975b-177e687f48d1"
      },
      "source": [
        "most_frequent_rels = get_frequent_rels(train, 300)\n",
        "class_map = get_classes_map(train)\n",
        "train_featurs = get_features(train, most_frequent_rels)\n",
        "train_labels = get_labels(train, class_map)\n",
        "valid_featurs = get_features(valid, most_frequent_rels)\n",
        "valid_labels = get_labels(valid, class_map)\n",
        "test_featurs = get_features(test, most_frequent_rels)\n",
        "test_labels = get_labels(test, class_map)\n",
        "\n",
        "\n"
      ],
      "execution_count": 47,
      "outputs": [
        {
          "output_type": "stream",
          "text": [
            "9921it [00:01, 5916.19it/s]\n",
            "393it [00:00, 3927.09it/s]/usr/local/lib/python3.7/dist-packages/numpy/core/fromnumeric.py:3373: RuntimeWarning: Mean of empty slice.\n",
            "  out=out, **kwargs)\n",
            "/usr/local/lib/python3.7/dist-packages/numpy/core/_methods.py:170: RuntimeWarning: invalid value encountered in double_scalars\n",
            "  ret = ret.dtype.type(ret / rcount)\n",
            "9921it [00:02, 4505.47it/s]\n",
            "9921it [00:01, 6429.38it/s]\n",
            "1751it [00:00, 5624.37it/s]\n",
            "1751it [00:00, 4660.45it/s]\n",
            "1751it [00:00, 6444.82it/s]\n",
            "5003it [00:00, 5903.58it/s]\n",
            "5003it [00:01, 4278.39it/s]\n",
            "5003it [00:00, 6390.84it/s]\n"
          ],
          "name": "stderr"
        }
      ]
    },
    {
      "cell_type": "code",
      "metadata": {
        "id": "L7914rgkVyGS"
      },
      "source": [
        "train_mask = np.array(train_labels)>=0\n",
        "valid_mask = np.array(valid_labels)>=0\n",
        "test_mask = np.array(test_labels)>=0\n",
        "tsv_train = copy(train.loc[train_mask, ['Question']])\n",
        "tsv_valid = copy(valid.loc[valid_mask, ['Question']])\n",
        "tsv_test = copy(test.loc[test_mask, ['Question']])\n",
        "tsv_train['rel_label'] = np.array(train_labels)[train_mask].tolist()\n",
        "tsv_valid['rel_label'] = np.array(valid_labels)[valid_mask].tolist()\n",
        "tsv_test['rel_label'] = np.array(test_labels)[test_mask].tolist()\n",
        "tsv_train.to_csv('/content/drive/MyDrive/QA/train.tsv', sep = '\\t', index=False)\n",
        "tsv_valid.to_csv('/content/drive/MyDrive/QA/valid.tsv', sep = '\\t', index=False)\n",
        "tsv_test.to_csv('/content/drive/MyDrive/QA/test.tsv', sep = '\\t', index=False)\n"
      ],
      "execution_count": 48,
      "outputs": []
    },
    {
      "cell_type": "code",
      "metadata": {
        "id": "5LDyjp6HlZ2x"
      },
      "source": [
        "from torchtext import data\n",
        "\n",
        "class ReverbDataset(data.TabularDataset):\n",
        "    @classmethod\n",
        "    def splits(cls, text_field, label_field, path,\n",
        "               train='train.tsv', validation='valid.tsv', test='test.tsv'):\n",
        "        return super(ReverbDataset, cls).splits(\n",
        "            path=path, train=train, validation=validation, test=test,\n",
        "            format='tsv', fields=[('Question', text_field), ('rel_label', label_field)]\n",
        "        )"
      ],
      "execution_count": 49,
      "outputs": []
    },
    {
      "cell_type": "code",
      "metadata": {
        "id": "LaE500VwtnPx",
        "outputId": "e69df37e-3661-4731-b17b-37c05092c8ae",
        "colab": {
          "base_uri": "https://localhost:8080/"
        }
      },
      "source": [
        "%cd /content/BuboQA/relation_prediction/nn\n",
        "!python train.py  --fix_embed --relation_prediction_mode GRU \\\n",
        "                  --data_dir /content/drive/MyDrive/QA/ > gru.txt"
      ],
      "execution_count": null,
      "outputs": [
        {
          "output_type": "stream",
          "text": [
            "/content/BuboQA/relation_prediction/nn\n",
            "/usr/local/lib/python3.7/dist-packages/torchtext/data/field.py:322: UserWarning: volatile was removed and now has no effect. Use `with torch.no_grad():` instead.\n",
            "  return Variable(arr, volatile=not train)\n"
          ],
          "name": "stdout"
        }
      ]
    },
    {
      "cell_type": "code",
      "metadata": {
        "id": "3cVw1OaTtnKC"
      },
      "source": [
        ""
      ],
      "execution_count": null,
      "outputs": []
    },
    {
      "cell_type": "code",
      "metadata": {
        "id": "Uj44ARUVtnHi"
      },
      "source": [
        ""
      ],
      "execution_count": null,
      "outputs": []
    },
    {
      "cell_type": "code",
      "metadata": {
        "id": "DHEFLkbhtnEq"
      },
      "source": [
        ""
      ],
      "execution_count": null,
      "outputs": []
    },
    {
      "cell_type": "code",
      "metadata": {
        "colab": {
          "base_uri": "https://localhost:8080/"
        },
        "id": "6zjNut0WYtM4",
        "outputId": "125af202-ba52-48b5-c8fd-2e0501798135"
      },
      "source": [
        "clf = LogisticRegression()\n",
        "# print(valid_featurs.shape, train_featur)\n",
        "X = np.vstack((train_featurs, valid_featurs)); y = np.array(train_labels+valid_labels)\n",
        "\n",
        "mask = y >= 0\n",
        "X = X[mask]; y=y[mask]\n",
        "\n",
        "clf.fit(X, y)\n",
        "\n",
        "X_test, y_test = test_featurs, np.array(test_labels)\n",
        "mask = y_test >= 0\n",
        "X_test = X_test[mask]; y_test=y_test[mask]\n",
        "\n",
        "\n",
        "predicted_test = clf.predict(X_test)\n",
        "accuracy_on_test = 100.0 * np.mean(predicted_test == y_test)\n",
        "print(\"Accuracy on Test set: {}\".format(accuracy_on_test))"
      ],
      "execution_count": null,
      "outputs": [
        {
          "output_type": "stream",
          "text": [
            "/usr/local/lib/python3.7/dist-packages/sklearn/linear_model/_logistic.py:940: ConvergenceWarning: lbfgs failed to converge (status=1):\n",
            "STOP: TOTAL NO. of ITERATIONS REACHED LIMIT.\n",
            "\n",
            "Increase the number of iterations (max_iter) or scale the data as shown in:\n",
            "    https://scikit-learn.org/stable/modules/preprocessing.html\n",
            "Please also refer to the documentation for alternative solver options:\n",
            "    https://scikit-learn.org/stable/modules/linear_model.html#logistic-regression\n",
            "  extra_warning_msg=_LOGISTIC_SOLVER_CONVERGENCE_MSG)\n"
          ],
          "name": "stderr"
        },
        {
          "output_type": "stream",
          "text": [
            "Accuracy on Test set: 56.273199703043794\n"
          ],
          "name": "stdout"
        }
      ]
    },
    {
      "cell_type": "code",
      "metadata": {
        "id": "LwZrtxDMRauH"
      },
      "source": [
        ""
      ],
      "execution_count": null,
      "outputs": []
    }
  ]
}