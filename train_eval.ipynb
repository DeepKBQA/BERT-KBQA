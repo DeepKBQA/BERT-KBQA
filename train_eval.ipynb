{
  "nbformat": 4,
  "nbformat_minor": 0,
  "metadata": {
    "accelerator": "GPU",
    "colab": {
      "name": "train_eval.ipynb",
      "provenance": [],
      "collapsed_sections": [],
      "include_colab_link": true
    },
    "kernelspec": {
      "display_name": "Python 3",
      "language": "python",
      "name": "python3"
    },
    "language_info": {
      "codemirror_mode": {
        "name": "ipython",
        "version": 3
      },
      "file_extension": ".py",
      "mimetype": "text/x-python",
      "name": "python",
      "nbconvert_exporter": "python",
      "pygments_lexer": "ipython3",
      "version": "3.8.5"
    }
  },
  "cells": [
    {
      "cell_type": "markdown",
      "metadata": {
        "id": "view-in-github",
        "colab_type": "text"
      },
      "source": [
        "<a href=\"https://colab.research.google.com/github/meti-94/BERT-QA/blob/main/train_eval.ipynb\" target=\"_parent\"><img src=\"https://colab.research.google.com/assets/colab-badge.svg\" alt=\"Open In Colab\"/></a>"
      ]
    },
    {
      "cell_type": "code",
      "metadata": {
        "colab": {
          "base_uri": "https://localhost:8080/"
        },
        "id": "DQ-LV62ByxcR",
        "outputId": "82b1ba67-86b0-4df6-cf02-4acd8a0e0b87"
      },
      "source": [
        "!pip install transformers\n",
        "!pip uninstall -y tensorflow\n",
        "!pip install fuzzywuzzy[speedup]\n",
        "!pip install networkx"
      ],
      "execution_count": 1,
      "outputs": [
        {
          "output_type": "stream",
          "text": [
            "Collecting transformers\n",
            "\u001b[?25l  Downloading https://files.pythonhosted.org/packages/b0/9e/5b80becd952d5f7250eaf8fc64b957077b12ccfe73e9c03d37146ab29712/transformers-4.6.0-py3-none-any.whl (2.3MB)\n",
            "\u001b[K     |████████████████████████████████| 2.3MB 5.4MB/s \n",
            "\u001b[?25hRequirement already satisfied: numpy>=1.17 in /usr/local/lib/python3.7/dist-packages (from transformers) (1.19.5)\n",
            "Requirement already satisfied: tqdm>=4.27 in /usr/local/lib/python3.7/dist-packages (from transformers) (4.41.1)\n",
            "Requirement already satisfied: filelock in /usr/local/lib/python3.7/dist-packages (from transformers) (3.0.12)\n",
            "Requirement already satisfied: packaging in /usr/local/lib/python3.7/dist-packages (from transformers) (20.9)\n",
            "Collecting sacremoses\n",
            "\u001b[?25l  Downloading https://files.pythonhosted.org/packages/75/ee/67241dc87f266093c533a2d4d3d69438e57d7a90abb216fa076e7d475d4a/sacremoses-0.0.45-py3-none-any.whl (895kB)\n",
            "\u001b[K     |████████████████████████████████| 901kB 18.7MB/s \n",
            "\u001b[?25hCollecting tokenizers<0.11,>=0.10.1\n",
            "\u001b[?25l  Downloading https://files.pythonhosted.org/packages/ae/04/5b870f26a858552025a62f1649c20d29d2672c02ff3c3fb4c688ca46467a/tokenizers-0.10.2-cp37-cp37m-manylinux2010_x86_64.whl (3.3MB)\n",
            "\u001b[K     |████████████████████████████████| 3.3MB 31.8MB/s \n",
            "\u001b[?25hRequirement already satisfied: requests in /usr/local/lib/python3.7/dist-packages (from transformers) (2.23.0)\n",
            "Collecting huggingface-hub==0.0.8\n",
            "  Downloading https://files.pythonhosted.org/packages/a1/88/7b1e45720ecf59c6c6737ff332f41c955963090a18e72acbcbeac6b25e86/huggingface_hub-0.0.8-py3-none-any.whl\n",
            "Requirement already satisfied: regex!=2019.12.17 in /usr/local/lib/python3.7/dist-packages (from transformers) (2019.12.20)\n",
            "Requirement already satisfied: importlib-metadata; python_version < \"3.8\" in /usr/local/lib/python3.7/dist-packages (from transformers) (4.0.1)\n",
            "Requirement already satisfied: pyparsing>=2.0.2 in /usr/local/lib/python3.7/dist-packages (from packaging->transformers) (2.4.7)\n",
            "Requirement already satisfied: six in /usr/local/lib/python3.7/dist-packages (from sacremoses->transformers) (1.15.0)\n",
            "Requirement already satisfied: click in /usr/local/lib/python3.7/dist-packages (from sacremoses->transformers) (7.1.2)\n",
            "Requirement already satisfied: joblib in /usr/local/lib/python3.7/dist-packages (from sacremoses->transformers) (1.0.1)\n",
            "Requirement already satisfied: certifi>=2017.4.17 in /usr/local/lib/python3.7/dist-packages (from requests->transformers) (2020.12.5)\n",
            "Requirement already satisfied: urllib3!=1.25.0,!=1.25.1,<1.26,>=1.21.1 in /usr/local/lib/python3.7/dist-packages (from requests->transformers) (1.24.3)\n",
            "Requirement already satisfied: idna<3,>=2.5 in /usr/local/lib/python3.7/dist-packages (from requests->transformers) (2.10)\n",
            "Requirement already satisfied: chardet<4,>=3.0.2 in /usr/local/lib/python3.7/dist-packages (from requests->transformers) (3.0.4)\n",
            "Requirement already satisfied: typing-extensions>=3.6.4; python_version < \"3.8\" in /usr/local/lib/python3.7/dist-packages (from importlib-metadata; python_version < \"3.8\"->transformers) (3.7.4.3)\n",
            "Requirement already satisfied: zipp>=0.5 in /usr/local/lib/python3.7/dist-packages (from importlib-metadata; python_version < \"3.8\"->transformers) (3.4.1)\n",
            "Installing collected packages: sacremoses, tokenizers, huggingface-hub, transformers\n",
            "Successfully installed huggingface-hub-0.0.8 sacremoses-0.0.45 tokenizers-0.10.2 transformers-4.6.0\n",
            "Uninstalling tensorflow-2.4.1:\n",
            "  Successfully uninstalled tensorflow-2.4.1\n",
            "Collecting fuzzywuzzy[speedup]\n",
            "  Downloading https://files.pythonhosted.org/packages/43/ff/74f23998ad2f93b945c0309f825be92e04e0348e062026998b5eefef4c33/fuzzywuzzy-0.18.0-py2.py3-none-any.whl\n",
            "Collecting python-levenshtein>=0.12; extra == \"speedup\"\n",
            "\u001b[?25l  Downloading https://files.pythonhosted.org/packages/2a/dc/97f2b63ef0fa1fd78dcb7195aca577804f6b2b51e712516cc0e902a9a201/python-Levenshtein-0.12.2.tar.gz (50kB)\n",
            "\u001b[K     |████████████████████████████████| 51kB 2.3MB/s \n",
            "\u001b[?25hRequirement already satisfied: setuptools in /usr/local/lib/python3.7/dist-packages (from python-levenshtein>=0.12; extra == \"speedup\"->fuzzywuzzy[speedup]) (56.1.0)\n",
            "Building wheels for collected packages: python-levenshtein\n",
            "  Building wheel for python-levenshtein (setup.py) ... \u001b[?25l\u001b[?25hdone\n",
            "  Created wheel for python-levenshtein: filename=python_Levenshtein-0.12.2-cp37-cp37m-linux_x86_64.whl size=149804 sha256=afe271b2ceeae5bc7fe46ce5a707eb233d9ccc03246495157d44b89a8002ca0e\n",
            "  Stored in directory: /root/.cache/pip/wheels/b3/26/73/4b48503bac73f01cf18e52cd250947049a7f339e940c5df8fc\n",
            "Successfully built python-levenshtein\n",
            "Installing collected packages: python-levenshtein, fuzzywuzzy\n",
            "Successfully installed fuzzywuzzy-0.18.0 python-levenshtein-0.12.2\n",
            "Requirement already satisfied: networkx in /usr/local/lib/python3.7/dist-packages (2.5.1)\n",
            "Requirement already satisfied: decorator<5,>=4.3 in /usr/local/lib/python3.7/dist-packages (from networkx) (4.4.2)\n"
          ],
          "name": "stdout"
        }
      ]
    },
    {
      "cell_type": "code",
      "metadata": {
        "colab": {
          "base_uri": "https://localhost:8080/"
        },
        "id": "lK5AY1cWmoqG",
        "outputId": "4da5ed71-ae54-444c-847d-19307d6e5474"
      },
      "source": [
        "!git clone https://github.com/meti-94/BERT-QA.git"
      ],
      "execution_count": 2,
      "outputs": [
        {
          "output_type": "stream",
          "text": [
            "Cloning into 'BERT-QA'...\n",
            "remote: Enumerating objects: 373, done.\u001b[K\n",
            "remote: Counting objects: 100% (79/79), done.\u001b[K\n",
            "remote: Compressing objects: 100% (61/61), done.\u001b[K\n",
            "remote: Total 373 (delta 27), reused 57 (delta 14), pack-reused 294\u001b[K\n",
            "Receiving objects: 100% (373/373), 82.47 MiB | 22.60 MiB/s, done.\n",
            "Resolving deltas: 100% (131/131), done.\n"
          ],
          "name": "stdout"
        }
      ]
    },
    {
      "cell_type": "code",
      "metadata": {
        "colab": {
          "base_uri": "https://localhost:8080/"
        },
        "id": "2-eIIezrzF9g",
        "outputId": "6d96ca7c-08a3-4cb4-c6ac-d6863831f8b3"
      },
      "source": [
        "%cd /content/BERT-QA/src\n",
        "!python train.py"
      ],
      "execution_count": 4,
      "outputs": [
        {
          "output_type": "stream",
          "text": [
            "/content/BERT-QA/src\n",
            "DEBUG:urllib3.connectionpool:Starting new HTTPS connection (1): huggingface.co:443\n",
            "DEBUG:urllib3.connectionpool:https://huggingface.co:443 \"HEAD /bert-base-uncased/resolve/main/config.json HTTP/1.1\" 200 0\n",
            "DEBUG:urllib3.connectionpool:Starting new HTTPS connection (1): huggingface.co:443\n",
            "DEBUG:urllib3.connectionpool:https://huggingface.co:443 \"HEAD /bert-base-uncased/resolve/main/pytorch_model.bin HTTP/1.1\" 302 0\n",
            "DEBUG:filelock:Attempting to acquire lock 139679583571216 on /root/.cache/huggingface/transformers/a8041bf617d7f94ea26d15e218abd04afc2004805632abc0ed2066aa16d50d04.faf6ea826ae9c5867d12b22257f9877e6b8367890837bd60f7c54a29633f7f2f.lock\n",
            "INFO:filelock:Lock 139679583571216 acquired on /root/.cache/huggingface/transformers/a8041bf617d7f94ea26d15e218abd04afc2004805632abc0ed2066aa16d50d04.faf6ea826ae9c5867d12b22257f9877e6b8367890837bd60f7c54a29633f7f2f.lock\n",
            "DEBUG:urllib3.connectionpool:Starting new HTTPS connection (1): cdn-lfs.huggingface.co:443\n",
            "DEBUG:urllib3.connectionpool:https://cdn-lfs.huggingface.co:443 \"GET /bert-base-uncased/097417381d6c7230bd9e3557456d726de6e83245ec8b24f529f60198a67b203a HTTP/1.1\" 200 440473133\n",
            "Downloading: 100% 440M/440M [00:10<00:00, 40.3MB/s]\n",
            "DEBUG:filelock:Attempting to release lock 139679583571216 on /root/.cache/huggingface/transformers/a8041bf617d7f94ea26d15e218abd04afc2004805632abc0ed2066aa16d50d04.faf6ea826ae9c5867d12b22257f9877e6b8367890837bd60f7c54a29633f7f2f.lock\n",
            "INFO:filelock:Lock 139679583571216 released on /root/.cache/huggingface/transformers/a8041bf617d7f94ea26d15e218abd04afc2004805632abc0ed2066aa16d50d04.faf6ea826ae9c5867d12b22257f9877e6b8367890837bd60f7c54a29633f7f2f.lock\n",
            "Some weights of the model checkpoint at bert-base-uncased were not used when initializing BertModel: ['cls.predictions.transform.LayerNorm.weight', 'cls.predictions.transform.dense.weight', 'cls.predictions.transform.dense.bias', 'cls.predictions.transform.LayerNorm.bias', 'cls.seq_relationship.weight', 'cls.predictions.decoder.weight', 'cls.predictions.bias', 'cls.seq_relationship.bias']\n",
            "- This IS expected if you are initializing BertModel from the checkpoint of a model trained on another task or with another architecture (e.g. initializing a BertForSequenceClassification model from a BertForPreTraining model).\n",
            "- This IS NOT expected if you are initializing BertModel from the checkpoint of a model that you expect to be exactly identical (initializing a BertForSequenceClassification model from a BertForSequenceClassification model).\n",
            "DEBUG:urllib3.connectionpool:Starting new HTTPS connection (1): huggingface.co:443\n",
            "DEBUG:urllib3.connectionpool:https://huggingface.co:443 \"HEAD /bert-base-uncased/resolve/main/vocab.txt HTTP/1.1\" 200 0\n",
            "DEBUG:filelock:Attempting to acquire lock 139679567852560 on /root/.cache/huggingface/transformers/45c3f7a79a80e1cf0a489e5c62b43f173c15db47864303a55d623bb3c96f72a5.d789d64ebfe299b0e416afc4a169632f903f693095b4629a7ea271d5a0cf2c99.lock\n",
            "INFO:filelock:Lock 139679567852560 acquired on /root/.cache/huggingface/transformers/45c3f7a79a80e1cf0a489e5c62b43f173c15db47864303a55d623bb3c96f72a5.d789d64ebfe299b0e416afc4a169632f903f693095b4629a7ea271d5a0cf2c99.lock\n",
            "DEBUG:urllib3.connectionpool:Starting new HTTPS connection (1): huggingface.co:443\n",
            "DEBUG:urllib3.connectionpool:https://huggingface.co:443 \"GET /bert-base-uncased/resolve/main/vocab.txt HTTP/1.1\" 200 231508\n",
            "Downloading: 100% 232k/232k [00:00<00:00, 326kB/s]\n",
            "DEBUG:filelock:Attempting to release lock 139679567852560 on /root/.cache/huggingface/transformers/45c3f7a79a80e1cf0a489e5c62b43f173c15db47864303a55d623bb3c96f72a5.d789d64ebfe299b0e416afc4a169632f903f693095b4629a7ea271d5a0cf2c99.lock\n",
            "INFO:filelock:Lock 139679567852560 released on /root/.cache/huggingface/transformers/45c3f7a79a80e1cf0a489e5c62b43f173c15db47864303a55d623bb3c96f72a5.d789d64ebfe299b0e416afc4a169632f903f693095b4629a7ea271d5a0cf2c99.lock\n",
            "DEBUG:urllib3.connectionpool:Starting new HTTPS connection (1): huggingface.co:443\n",
            "DEBUG:urllib3.connectionpool:https://huggingface.co:443 \"HEAD /bert-base-uncased/resolve/main/added_tokens.json HTTP/1.1\" 404 0\n",
            "DEBUG:urllib3.connectionpool:Starting new HTTPS connection (1): huggingface.co:443\n",
            "DEBUG:urllib3.connectionpool:https://huggingface.co:443 \"HEAD /bert-base-uncased/resolve/main/special_tokens_map.json HTTP/1.1\" 404 0\n",
            "DEBUG:urllib3.connectionpool:Starting new HTTPS connection (1): huggingface.co:443\n",
            "DEBUG:urllib3.connectionpool:https://huggingface.co:443 \"HEAD /bert-base-uncased/resolve/main/tokenizer_config.json HTTP/1.1\" 200 0\n",
            "DEBUG:filelock:Attempting to acquire lock 139679567852560 on /root/.cache/huggingface/transformers/c1d7f0a763fb63861cc08553866f1fc3e5a6f4f07621be277452d26d71303b7e.20430bd8e10ef77a7d2977accefe796051e01bc2fc4aa146bc862997a1a15e79.lock\n",
            "INFO:filelock:Lock 139679567852560 acquired on /root/.cache/huggingface/transformers/c1d7f0a763fb63861cc08553866f1fc3e5a6f4f07621be277452d26d71303b7e.20430bd8e10ef77a7d2977accefe796051e01bc2fc4aa146bc862997a1a15e79.lock\n",
            "DEBUG:urllib3.connectionpool:Starting new HTTPS connection (1): huggingface.co:443\n",
            "DEBUG:urllib3.connectionpool:https://huggingface.co:443 \"GET /bert-base-uncased/resolve/main/tokenizer_config.json HTTP/1.1\" 200 28\n",
            "Downloading: 100% 28.0/28.0 [00:00<00:00, 17.7kB/s]\n",
            "DEBUG:filelock:Attempting to release lock 139679567852560 on /root/.cache/huggingface/transformers/c1d7f0a763fb63861cc08553866f1fc3e5a6f4f07621be277452d26d71303b7e.20430bd8e10ef77a7d2977accefe796051e01bc2fc4aa146bc862997a1a15e79.lock\n",
            "INFO:filelock:Lock 139679567852560 released on /root/.cache/huggingface/transformers/c1d7f0a763fb63861cc08553866f1fc3e5a6f4f07621be277452d26d71303b7e.20430bd8e10ef77a7d2977accefe796051e01bc2fc4aa146bc862997a1a15e79.lock\n",
            "DEBUG:urllib3.connectionpool:Starting new HTTPS connection (1): huggingface.co:443\n",
            "DEBUG:urllib3.connectionpool:https://huggingface.co:443 \"HEAD /bert-base-uncased/resolve/main/tokenizer.json HTTP/1.1\" 200 0\n",
            "DEBUG:filelock:Attempting to acquire lock 139679567801360 on /root/.cache/huggingface/transformers/534479488c54aeaf9c3406f647aa2ec13648c06771ffe269edabebd4c412da1d.7f2721073f19841be16f41b0a70b600ca6b880c8f3df6f3535cbc704371bdfa4.lock\n",
            "INFO:filelock:Lock 139679567801360 acquired on /root/.cache/huggingface/transformers/534479488c54aeaf9c3406f647aa2ec13648c06771ffe269edabebd4c412da1d.7f2721073f19841be16f41b0a70b600ca6b880c8f3df6f3535cbc704371bdfa4.lock\n",
            "DEBUG:urllib3.connectionpool:Starting new HTTPS connection (1): huggingface.co:443\n",
            "DEBUG:urllib3.connectionpool:https://huggingface.co:443 \"GET /bert-base-uncased/resolve/main/tokenizer.json HTTP/1.1\" 200 466062\n",
            "Downloading: 100% 466k/466k [00:00<00:00, 525kB/s]\n",
            "DEBUG:filelock:Attempting to release lock 139679567801360 on /root/.cache/huggingface/transformers/534479488c54aeaf9c3406f647aa2ec13648c06771ffe269edabebd4c412da1d.7f2721073f19841be16f41b0a70b600ca6b880c8f3df6f3535cbc704371bdfa4.lock\n",
            "INFO:filelock:Lock 139679567801360 released on /root/.cache/huggingface/transformers/534479488c54aeaf9c3406f647aa2ec13648c06771ffe269edabebd4c412da1d.7f2721073f19841be16f41b0a70b600ca6b880c8f3df6f3535cbc704371bdfa4.lock\n",
            "Train Epoch Number 1: 100% 50/50 [00:52<00:00,  1.06s/it]\n",
            "INFO:root:Epoch number: 1 Train Loss is equal: 385.64788818359375\n",
            "Eval Epoch Number 1: 100% 9/9 [00:03<00:00,  2.83it/s]\n",
            "INFO:root:Epoch number: 1 Eval Loss is equal: 25.097280502319336\n",
            "Train Epoch Number 2: 100% 50/50 [00:53<00:00,  1.08s/it]\n",
            "INFO:root:Epoch number: 2 Train Loss is equal: 29.039154052734375\n",
            "Eval Epoch Number 2: 100% 9/9 [00:03<00:00,  2.82it/s]\n",
            "INFO:root:Epoch number: 2 Eval Loss is equal: 16.507787704467773\n",
            "Train Epoch Number 3: 100% 50/50 [00:54<00:00,  1.08s/it]\n",
            "INFO:root:Epoch number: 3 Train Loss is equal: 18.451129913330078\n",
            "Eval Epoch Number 3: 100% 9/9 [00:03<00:00,  2.82it/s]\n",
            "INFO:root:Epoch number: 3 Eval Loss is equal: 14.268351554870605\n",
            "Train Epoch Number 4: 100% 50/50 [00:53<00:00,  1.07s/it]\n",
            "INFO:root:Epoch number: 4 Train Loss is equal: 14.980324745178223\n",
            "Eval Epoch Number 4: 100% 9/9 [00:03<00:00,  2.83it/s]\n",
            "INFO:root:Epoch number: 4 Eval Loss is equal: 14.724984169006348\n",
            "Train Epoch Number 5: 100% 50/50 [00:54<00:00,  1.08s/it]\n",
            "INFO:root:Epoch number: 5 Train Loss is equal: 12.177876472473145\n",
            "Eval Epoch Number 5: 100% 9/9 [00:03<00:00,  2.83it/s]\n",
            "INFO:root:Epoch number: 5 Eval Loss is equal: 13.095353126525879\n",
            "Train Epoch Number 6: 100% 50/50 [00:54<00:00,  1.08s/it]\n",
            "INFO:root:Epoch number: 6 Train Loss is equal: 11.029131889343262\n",
            "Eval Epoch Number 6: 100% 9/9 [00:03<00:00,  2.83it/s]\n",
            "INFO:root:Epoch number: 6 Eval Loss is equal: 15.33167552947998\n",
            "Predicting ...: 100% 51/51 [00:09<00:00,  5.35it/s]\n",
            "INFO:root:Dataset-wide F1, precision and recall:\n",
            "INFO:root:0.9903744259978806, 0.9926535670030093, 0.9881057268722467\n",
            "INFO:root:Averaged F1, precision and recall:\n",
            "INFO:root:0.9886853412785434, 0.9900659604237458, 0.987308567240608\n",
            "INFO:root:Span accuracy\n",
            "INFO:root:0.9858085148910654\n",
            "INFO:root:Dataset-wide F1, precision and recall:\n",
            "INFO:root:0.9935804514392212, 0.994060773480663, 0.9931005933489719\n",
            "INFO:root:Averaged F1, precision and recall:\n",
            "INFO:root:0.9958545829352299, 0.9959409275069878, 0.9957682533337148\n",
            "INFO:root:Span accuracy\n",
            "INFO:root:0.9772136717969219\n",
            "Question                    Node               Edge\n",
            "--------------------------  -----------------  --------------------\n",
            "Where was Bill Gates Born?  ['bill', 'gates']  ['was', 'born', '?']\n"
          ],
          "name": "stdout"
        }
      ]
    },
    {
      "cell_type": "code",
      "metadata": {
        "colab": {
          "base_uri": "https://localhost:8080/"
        },
        "id": "S6h_BRN-zs6k",
        "outputId": "3a8f2b36-2bf8-4bbf-8057-4ea59e2b8563"
      },
      "source": [
        "!python evaluation.py "
      ],
      "execution_count": 12,
      "outputs": [
        {
          "output_type": "stream",
          "text": [
            "DEBUG:urllib3.connectionpool:Starting new HTTPS connection (1): huggingface.co:443\n",
            "DEBUG:urllib3.connectionpool:https://huggingface.co:443 \"HEAD /bert-base-uncased/resolve/main/config.json HTTP/1.1\" 200 0\n",
            "DEBUG:urllib3.connectionpool:Starting new HTTPS connection (1): huggingface.co:443\n",
            "DEBUG:urllib3.connectionpool:https://huggingface.co:443 \"HEAD /bert-base-uncased/resolve/main/pytorch_model.bin HTTP/1.1\" 302 0\n",
            "Some weights of the model checkpoint at bert-base-uncased were not used when initializing BertModel: ['cls.predictions.transform.LayerNorm.weight', 'cls.predictions.bias', 'cls.predictions.transform.LayerNorm.bias', 'cls.predictions.transform.dense.weight', 'cls.predictions.transform.dense.bias', 'cls.seq_relationship.bias', 'cls.seq_relationship.weight', 'cls.predictions.decoder.weight']\n",
            "- This IS expected if you are initializing BertModel from the checkpoint of a model trained on another task or with another architecture (e.g. initializing a BertForSequenceClassification model from a BertForPreTraining model).\n",
            "- This IS NOT expected if you are initializing BertModel from the checkpoint of a model that you expect to be exactly identical (initializing a BertForSequenceClassification model from a BertForSequenceClassification model).\n",
            "DEBUG:urllib3.connectionpool:Starting new HTTPS connection (1): huggingface.co:443\n",
            "DEBUG:urllib3.connectionpool:https://huggingface.co:443 \"HEAD /bert-base-uncased/resolve/main/vocab.txt HTTP/1.1\" 200 0\n",
            "DEBUG:urllib3.connectionpool:Starting new HTTPS connection (1): huggingface.co:443\n",
            "DEBUG:urllib3.connectionpool:https://huggingface.co:443 \"HEAD /bert-base-uncased/resolve/main/added_tokens.json HTTP/1.1\" 404 0\n",
            "DEBUG:urllib3.connectionpool:Starting new HTTPS connection (1): huggingface.co:443\n",
            "DEBUG:urllib3.connectionpool:https://huggingface.co:443 \"HEAD /bert-base-uncased/resolve/main/special_tokens_map.json HTTP/1.1\" 404 0\n",
            "DEBUG:urllib3.connectionpool:Starting new HTTPS connection (1): huggingface.co:443\n",
            "DEBUG:urllib3.connectionpool:https://huggingface.co:443 \"HEAD /bert-base-uncased/resolve/main/tokenizer_config.json HTTP/1.1\" 200 0\n",
            "DEBUG:urllib3.connectionpool:Starting new HTTPS connection (1): huggingface.co:443\n",
            "DEBUG:urllib3.connectionpool:https://huggingface.co:443 \"HEAD /bert-base-uncased/resolve/main/tokenizer.json HTTP/1.1\" 200 0\n",
            "INFO:numexpr.utils:NumExpr defaulting to 2 threads.\n",
            "Indexing ...: 100% 407236/407236 [00:53<00:00, 7583.59it/s]\n",
            "  0% 0/5003 [00:00<?, ?it/s]The Question:  ['how', 'do', 'protocols', 'vary']\n",
            "Node: protocols, Edge: do vary\n",
            "Sorted candidates:  [(267285, 0.93811, 1.0, 0.6645859073649143)]\n",
            "Actual line number:  267285\n",
            "  0% 1/5003 [00:00<56:28,  1.48it/s]The Question:  ['of', 'what', 'is', 'a', 'shooting', 'star', 'another', 'brand']\n",
            "Node: a shooting star, Edge: of is another brand\n",
            "Sorted candidates:  [(8600, 0.91404, 1.0, 1.0000000000000002)]\n",
            "Actual line number:  8600\n",
            "  0% 2/5003 [00:01<56:46,  1.47it/s]The Question:  ['where', 'was', 'the', 'hometown', 'of', 'angie', 'debo']\n",
            "Node: angie debo, Edge: was the hometown of\n",
            "Sorted candidates:  [(212931, 0.9409, 1.0, 1.0000000000000002)]\n",
            "Actual line number:  212931\n",
            "  0% 3/5003 [00:02<57:46,  1.44it/s]The Question:  ['where', 'curium', 'does', 'not', 'occur']\n",
            "Node: curium, Edge: does not occur\n",
            "Sorted candidates:  [(89850, 0.9511700000000001, 1.0, 0.986554414128868)]\n",
            "Actual line number:  89850\n",
            "  0% 4/5003 [00:02<58:00,  1.44it/s]The Question:  ['who', 'died', 'in', 'moraga']\n",
            "Node: moraga, Edge: died in\n",
            "Sorted candidates:  [(385331, 0.92794, 1.0, 1.0000000000000002)]\n",
            "Actual line number:  385331\n",
            "  0% 5/5003 [00:03<1:00:19,  1.38it/s]The Question:  ['what', 'also', 'offers', 'perst']\n",
            "Node: perst, Edge: also offers\n",
            "Sorted candidates:  [(218200, 0.9096799999999999, 1.0, 1.0)]\n",
            "Actual line number:  218200\n",
            "  0% 6/5003 [00:04<59:53,  1.39it/s]  The Question:  ['who', 'was', 'a', 'co-founder', 'of', 'the', 'natural', 'resources', 'defense', 'council']\n",
            "Node: the natural resources defense council, Edge: was a co - founder of\n",
            "Sorted candidates:  [(308885, 0.93806, 1.0, 1.0)]\n",
            "Actual line number:  308885\n",
            "  0% 7/5003 [00:05<1:00:34,  1.37it/s]The Question:  ['who', 'became', 'a', 'star', 'in', 'the', 'american', 'hockey', 'league']\n",
            "Node: the american hockey league, Edge: became a star in\n",
            "Sorted candidates:  [(217531, 0.9088700000000001, 1.0, 1.0), (107818, 0.9101799999999999, 0.72284880423064, 0.7834415379456606)]\n",
            "Actual line number:  217531\n",
            "  0% 8/5003 [00:05<1:00:17,  1.38it/s]The Question:  ['when', 'were', 'personal', 'ranks', 'reintroduced']\n",
            "Node: personal ranks, Edge: were reintroduced\n",
            "Sorted candidates:  [(256000, 0.9157700000000001, 1.0, 0.9864233809915312)]\n",
            "Actual line number:  256000\n",
            "  0% 9/5003 [00:06<59:36,  1.40it/s]  The Question:  ['by', 'whom', 'was', 'zen', 'habits', 'created']\n",
            "Node: zen habits, Edge: by was created\n",
            "Sorted candidates:  [(392400, 0.9096799999999999, 1.0, 1.0)]\n",
            "Actual line number:  392400\n",
            "  0% 10/5003 [00:07<58:47,  1.42it/s]The Question:  ['what', 'was', 'created', 'on', 'february', '24', ',', '1978']\n",
            "Node: february 24 , 1978, Edge: was created on\n",
            "Sorted candidates:  [(117750, 0.91619, 1.0, 1.0), (37729, 0.9511700000000001, 0.6528912497702093, 0.8757966754721113)]\n",
            "Actual line number:  117750\n",
            "  0% 11/5003 [00:07<58:40,  1.42it/s]The Question:  ['over', 'what', 'has', 'jewish', 'leadership', 'evolved']\n",
            "Node: jewish leadership, Edge: over has evolved\n",
            "Sorted candidates:  [(173400, 0.93811, 1.0, 1.0)]\n",
            "Actual line number:  173400\n",
            "  0% 12/5003 [00:08<57:57,  1.44it/s]The Question:  ['when', 'did', 'actual', 'construction', 'begin']\n",
            "Node: actual construction, Edge: did begin\n",
            "Sorted candidates:  [(396070, 0.92504, 0.5405267818010334, 0.756966007589346), (82915, 0.9273600000000001, 0.5405267818010334, 0.679522883858011), (82968, 0.9273600000000001, 0.5405267818010334, 0.679522883858011), (83518, 0.93811, 0.5405267818010334, 0.6031496209625641), (82889, 0.95804, 0.5405267818010334, 0.5929751283564669), (83116, 0.9509299999999999, 0.5405267818010334, 0.5929751283564669), (83152, 0.9509299999999999, 0.5405267818010334, 0.5929751283564669), (83195, 0.9509299999999999, 0.5405267818010334, 0.5929751283564669), (83748, 0.9509299999999999, 0.5405267818010334, 0.5929751283564669), (83395, 0.9509299999999999, 0.5405267818010334, 0.5728646451200685), (82930, 0.95321, 0.5405267818010334, 0.5658842186964409), (83217, 0.9509299999999999, 0.5405267818010334, 0.5658842186964409), (82874, 0.9509299999999999, 0.5405267818010334, 0.5435182544308216), (83383, 0.9509299999999999, 0.5405267818010334, 0.5435182544308216), (83507, 0.95804, 0.5405267818010334, 0.5435182544308216), (83535, 0.9509299999999999, 0.5405267818010334, 0.5435182544308216), (83677, 0.9509299999999999, 0.5405267818010334, 0.5435182544308216), (83025, 0.9509299999999999, 0.5405267818010334, 0.5423541659756514), (83605, 0.93811, 0.5405267818010334, 0.5200055759419202), (83253, 0.9509299999999999, 0.5405267818010334, 0.515105766967934), (83262, 0.9509299999999999, 0.5405267818010334, 0.515105766967934), (83281, 0.9509299999999999, 0.5405267818010334, 0.515105766967934), (83327, 0.9509299999999999, 0.5405267818010334, 0.515105766967934), (83398, 0.9509299999999999, 0.5405267818010334, 0.515105766967934), (83407, 0.9509299999999999, 0.5405267818010334, 0.515105766967934)]\n",
            "Actual line number:  19000\n",
            "  0% 13/5003 [00:09<57:27,  1.45it/s]The Question:  ['what', 'typically', 'include', 'nationalised', 'industries']\n",
            "Node: nationalised industries, Edge: typically include\n",
            "Sorted candidates:  [(267600, 0.94094, 1.0, 1.0)]\n",
            "Actual line number:  267600\n",
            "  0% 14/5003 [00:09<57:41,  1.44it/s]The Question:  ['what', 'sounds', 'like', 'pov.']\n",
            "Node: pov ., Edge: sounds like\n",
            "Sorted candidates:  [(48600, 0.90081, 1.0, 1.0000000000000002)]\n",
            "Actual line number:  48600\n",
            "  0% 15/5003 [00:10<57:26,  1.45it/s]The Question:  ['where', 'is', 'l2cap', 'used']\n",
            "Node: l2cap, Edge: is used\n",
            "Traceback (most recent call last):\n",
            "  File \"evaluation.py\", line 32, in <module>\n",
            "    temp = RKBG.tfidf_query(node=node, edge=edge)\n",
            "  File \"/content/BERT-QA/src/graph.py\", line 117, in tfidf_query\n",
            "    nodes = self.tfidf_nodes_query(node)\n",
            "  File \"/content/BERT-QA/src/graph.py\", line 104, in tfidf_nodes_query\n",
            "    similarities = get_tf_idf_query_similarity(self.nodes_vectorizer, self.nodes_tfidf, search_phrase)\n",
            "  File \"/content/BERT-QA/src/utils.py\", line 101, in get_tf_idf_query_similarity\n",
            "    cosineSimilarities = cosine_similarity(query_tfidf, docs_tfidf).flatten()\n",
            "  File \"/usr/local/lib/python3.7/dist-packages/sklearn/metrics/pairwise.py\", line 1176, in cosine_similarity\n",
            "    dense_output=dense_output)\n",
            "  File \"/usr/local/lib/python3.7/dist-packages/sklearn/utils/extmath.py\", line 151, in safe_sparse_dot\n",
            "    ret = a @ b\n",
            "  File \"/usr/local/lib/python3.7/dist-packages/scipy/sparse/base.py\", line 564, in __matmul__\n",
            "    return self.__mul__(other)\n",
            "  File \"/usr/local/lib/python3.7/dist-packages/scipy/sparse/base.py\", line 484, in __mul__\n",
            "    return self._mul_sparse_matrix(other)\n",
            "  File \"/usr/local/lib/python3.7/dist-packages/scipy/sparse/compressed.py\", line 496, in _mul_sparse_matrix\n",
            "    other = self.__class__(other)  # convert to this format\n",
            "  File \"/usr/local/lib/python3.7/dist-packages/scipy/sparse/compressed.py\", line 37, in __init__\n",
            "    arg1 = arg1.asformat(self.format)\n",
            "  File \"/usr/local/lib/python3.7/dist-packages/scipy/sparse/base.py\", line 326, in asformat\n",
            "    return convert_method(copy=copy)\n",
            "  File \"/usr/local/lib/python3.7/dist-packages/scipy/sparse/csc.py\", line 150, in tocsr\n",
            "    data)\n",
            "KeyboardInterrupt\n",
            "  0% 15/5003 [00:10<59:07,  1.41it/s]\n"
          ],
          "name": "stdout"
        }
      ]
    },
    {
      "cell_type": "code",
      "metadata": {
        "id": "ws4lrw2mnf8b"
      },
      "source": [
        "!cp "
      ],
      "execution_count": null,
      "outputs": []
    },
    {
      "cell_type": "code",
      "metadata": {
        "colab": {
          "base_uri": "https://localhost:8080/"
        },
        "id": "MOD_Mka8WaGy",
        "outputId": "e48850c9-c23c-466f-8bf9-a5f4b83ad7c7"
      },
      "source": [
        "from google.colab import drive\n",
        "drive.mount('/content/drive')"
      ],
      "execution_count": 7,
      "outputs": [
        {
          "output_type": "stream",
          "text": [
            "Mounted at /content/drive\n"
          ],
          "name": "stdout"
        }
      ]
    },
    {
      "cell_type": "code",
      "metadata": {
        "id": "Bh5jp7fcWawz"
      },
      "source": [
        "!cp /content/drive/MyDrive/reverb_wikipedia_tuples-1.1.txt /content/BERT-QA/data\n",
        "!cp /content/drive/MyDrive/models/test.xlsx /content/BERT-QA/data"
      ],
      "execution_count": 11,
      "outputs": []
    },
    {
      "cell_type": "code",
      "metadata": {
        "id": "dt-eNG27YniQ"
      },
      "source": [
        ""
      ],
      "execution_count": null,
      "outputs": []
    }
  ]
}