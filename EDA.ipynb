{
 "cells": [
  {
   "cell_type": "code",
   "execution_count": 110,
   "metadata": {},
   "outputs": [],
   "source": [
    "import pandas as pd\n",
    "import matplotlib.pyplot as plt\n",
    "from data import combine_with_reverb, create_bertified_dataset\n",
    "from utils import read_data"
   ]
  },
  {
   "cell_type": "code",
   "execution_count": 14,
   "metadata": {},
   "outputs": [],
   "source": [
    "combine_with_reverb()\n",
    "create_bertified_dataset()"
   ]
  },
  {
   "cell_type": "code",
   "execution_count": 15,
   "metadata": {},
   "outputs": [],
   "source": [
    "QUESTION_WORDS = ['what', 'which', 'where', 'when', 'why', 'who', 'how', 'whom']"
   ]
  },
  {
   "cell_type": "code",
   "execution_count": 32,
   "metadata": {},
   "outputs": [],
   "source": [
    "def question_word_id(string):\n",
    "    for item in string.strip().lower().split():\n",
    "        if item in QUESTION_WORDS:\n",
    "            return item\n",
    "    return 'None'"
   ]
  },
  {
   "cell_type": "code",
   "execution_count": 33,
   "metadata": {},
   "outputs": [],
   "source": [
    "train_df = pd.read_excel('train.xlsx'); valid_df = pd.read_excel('valid.xlsx'); test_df = pd.read_excel('test.xlsx')"
   ]
  },
  {
   "cell_type": "code",
   "execution_count": 34,
   "metadata": {
    "scrolled": true
   },
   "outputs": [
    {
     "data": {
      "text/html": [
       "<div>\n",
       "<style scoped>\n",
       "    .dataframe tbody tr th:only-of-type {\n",
       "        vertical-align: middle;\n",
       "    }\n",
       "\n",
       "    .dataframe tbody tr th {\n",
       "        vertical-align: top;\n",
       "    }\n",
       "\n",
       "    .dataframe thead th {\n",
       "        text-align: right;\n",
       "    }\n",
       "</style>\n",
       "<table border=\"1\" class=\"dataframe\">\n",
       "  <thead>\n",
       "    <tr style=\"text-align: right;\">\n",
       "      <th></th>\n",
       "      <th>Unnamed: 0</th>\n",
       "      <th>Unnamed: 0.1</th>\n",
       "      <th>Meaningful</th>\n",
       "      <th>Reverb_no</th>\n",
       "      <th>Sentecne</th>\n",
       "      <th>Confidence</th>\n",
       "      <th>Question</th>\n",
       "      <th>Answer</th>\n",
       "      <th>token_matrix</th>\n",
       "      <th>triple</th>\n",
       "      <th>normalized_triple</th>\n",
       "      <th>first_entity_ids</th>\n",
       "      <th>second_entity_ids</th>\n",
       "      <th>relation_ids</th>\n",
       "    </tr>\n",
       "  </thead>\n",
       "  <tbody>\n",
       "    <tr>\n",
       "      <th>0</th>\n",
       "      <td>4364</td>\n",
       "      <td>4520</td>\n",
       "      <td>1</td>\n",
       "      <td>178500</td>\n",
       "      <td>Judge Baker retired in Jacksonville</td>\n",
       "      <td>0.90925</td>\n",
       "      <td>who retired in Jacksonville</td>\n",
       "      <td>Judge Baker</td>\n",
       "      <td>[101, 2040, 3394, 1999, 13057, 102]</td>\n",
       "      <td>('Judge Baker', 'retired in', 'Jacksonville')</td>\n",
       "      <td>('judge baker', 'retire in', 'jacksonville')</td>\n",
       "      <td>[101, 3648, 6243, 102]</td>\n",
       "      <td>[101, 13057, 102]</td>\n",
       "      <td>[101, 3394, 1999, 102]</td>\n",
       "    </tr>\n",
       "    <tr>\n",
       "      <th>1</th>\n",
       "      <td>4204</td>\n",
       "      <td>4356</td>\n",
       "      <td>1</td>\n",
       "      <td>171931</td>\n",
       "      <td>Jean Langlais was a French composer of modern ...</td>\n",
       "      <td>0.91363</td>\n",
       "      <td>who was a French composer of modern classical ...</td>\n",
       "      <td>Jean Langlais</td>\n",
       "      <td>[101, 2040, 2001, 1037, 2413, 4543, 1997, 2715...</td>\n",
       "      <td>('Jean Langlais', 'was a French composer of', ...</td>\n",
       "      <td>('jean langlais', 'be a french composer of', '...</td>\n",
       "      <td>[101, 3744, 11374, 28704, 102]</td>\n",
       "      <td>[101, 2715, 4556, 2189, 102]</td>\n",
       "      <td>[101, 2001, 1037, 2413, 4543, 1997, 102]</td>\n",
       "    </tr>\n",
       "    <tr>\n",
       "      <th>2</th>\n",
       "      <td>17565</td>\n",
       "      <td>18180</td>\n",
       "      <td>1</td>\n",
       "      <td>321285</td>\n",
       "      <td>Tanzania has a large number of traditional ins...</td>\n",
       "      <td>0.93349</td>\n",
       "      <td>what does Tanzania have</td>\n",
       "      <td>a large number of traditional instruments</td>\n",
       "      <td>[101, 2054, 2515, 11959, 2031, 102]</td>\n",
       "      <td>('Tanzania', 'has a large number of', 'traditi...</td>\n",
       "      <td>('tanzania', 'have a large number of', 'tradit...</td>\n",
       "      <td>[101, 11959, 102]</td>\n",
       "      <td>[101, 3151, 5693, 102]</td>\n",
       "      <td>[101, 2038, 1037, 2312, 2193, 1997, 102]</td>\n",
       "    </tr>\n",
       "    <tr>\n",
       "      <th>3</th>\n",
       "      <td>6826</td>\n",
       "      <td>7056</td>\n",
       "      <td>1</td>\n",
       "      <td>279685</td>\n",
       "      <td>Robert died in 2003</td>\n",
       "      <td>0.93349</td>\n",
       "      <td>who died in 2003</td>\n",
       "      <td>Robert</td>\n",
       "      <td>[101, 2040, 2351, 1999, 2494, 102]</td>\n",
       "      <td>('Robert', 'died in', '2003')</td>\n",
       "      <td>('robert', 'die in', '2003')</td>\n",
       "      <td>[101, 2728, 102]</td>\n",
       "      <td>[101, 2494, 102]</td>\n",
       "      <td>[101, 2351, 1999, 102]</td>\n",
       "    </tr>\n",
       "    <tr>\n",
       "      <th>4</th>\n",
       "      <td>18580</td>\n",
       "      <td>19231</td>\n",
       "      <td>1</td>\n",
       "      <td>362829</td>\n",
       "      <td>Tumbes is a province in Peru</td>\n",
       "      <td>0.93076</td>\n",
       "      <td>where is Tumbes</td>\n",
       "      <td>in Peru</td>\n",
       "      <td>[101, 2073, 2003, 10722, 18552, 2015, 102]</td>\n",
       "      <td>('Tumbes', 'is a province in', 'Peru')</td>\n",
       "      <td>('tumbes', 'be a province in', 'peru')</td>\n",
       "      <td>[101, 10722, 18552, 2015, 102]</td>\n",
       "      <td>[101, 7304, 102]</td>\n",
       "      <td>[101, 2003, 1037, 2874, 1999, 102]</td>\n",
       "    </tr>\n",
       "  </tbody>\n",
       "</table>\n",
       "</div>"
      ],
      "text/plain": [
       "   Unnamed: 0  Unnamed: 0.1  Meaningful  Reverb_no  \\\n",
       "0        4364          4520           1     178500   \n",
       "1        4204          4356           1     171931   \n",
       "2       17565         18180           1     321285   \n",
       "3        6826          7056           1     279685   \n",
       "4       18580         19231           1     362829   \n",
       "\n",
       "                                            Sentecne  Confidence  \\\n",
       "0                Judge Baker retired in Jacksonville     0.90925   \n",
       "1  Jean Langlais was a French composer of modern ...     0.91363   \n",
       "2  Tanzania has a large number of traditional ins...     0.93349   \n",
       "3                                Robert died in 2003     0.93349   \n",
       "4                       Tumbes is a province in Peru     0.93076   \n",
       "\n",
       "                                            Question  \\\n",
       "0                        who retired in Jacksonville   \n",
       "1  who was a French composer of modern classical ...   \n",
       "2                           what does Tanzania have    \n",
       "3                                   who died in 2003   \n",
       "4                                    where is Tumbes   \n",
       "\n",
       "                                      Answer  \\\n",
       "0                                Judge Baker   \n",
       "1                             Jean Langlais    \n",
       "2  a large number of traditional instruments   \n",
       "3                                     Robert   \n",
       "4                                    in Peru   \n",
       "\n",
       "                                        token_matrix  \\\n",
       "0                [101, 2040, 3394, 1999, 13057, 102]   \n",
       "1  [101, 2040, 2001, 1037, 2413, 4543, 1997, 2715...   \n",
       "2                [101, 2054, 2515, 11959, 2031, 102]   \n",
       "3                 [101, 2040, 2351, 1999, 2494, 102]   \n",
       "4         [101, 2073, 2003, 10722, 18552, 2015, 102]   \n",
       "\n",
       "                                              triple  \\\n",
       "0      ('Judge Baker', 'retired in', 'Jacksonville')   \n",
       "1  ('Jean Langlais', 'was a French composer of', ...   \n",
       "2  ('Tanzania', 'has a large number of', 'traditi...   \n",
       "3                      ('Robert', 'died in', '2003')   \n",
       "4             ('Tumbes', 'is a province in', 'Peru')   \n",
       "\n",
       "                                   normalized_triple  \\\n",
       "0       ('judge baker', 'retire in', 'jacksonville')   \n",
       "1  ('jean langlais', 'be a french composer of', '...   \n",
       "2  ('tanzania', 'have a large number of', 'tradit...   \n",
       "3                       ('robert', 'die in', '2003')   \n",
       "4             ('tumbes', 'be a province in', 'peru')   \n",
       "\n",
       "                 first_entity_ids             second_entity_ids  \\\n",
       "0          [101, 3648, 6243, 102]             [101, 13057, 102]   \n",
       "1  [101, 3744, 11374, 28704, 102]  [101, 2715, 4556, 2189, 102]   \n",
       "2               [101, 11959, 102]        [101, 3151, 5693, 102]   \n",
       "3                [101, 2728, 102]              [101, 2494, 102]   \n",
       "4  [101, 10722, 18552, 2015, 102]              [101, 7304, 102]   \n",
       "\n",
       "                               relation_ids  \n",
       "0                    [101, 3394, 1999, 102]  \n",
       "1  [101, 2001, 1037, 2413, 4543, 1997, 102]  \n",
       "2  [101, 2038, 1037, 2312, 2193, 1997, 102]  \n",
       "3                    [101, 2351, 1999, 102]  \n",
       "4        [101, 2003, 1037, 2874, 1999, 102]  "
      ]
     },
     "execution_count": 34,
     "metadata": {},
     "output_type": "execute_result"
    }
   ],
   "source": [
    "train_df.head()"
   ]
  },
  {
   "cell_type": "code",
   "execution_count": 35,
   "metadata": {},
   "outputs": [],
   "source": [
    "def get_question_words_distribution(dataframe):\n",
    "    dataframe['question words'] = dataframe['Question'].astype(str).apply(question_word_id)\n",
    "    print(dataframe.groupby(['question words'])['Meaningful'].count())\n",
    "    ax = dataframe.groupby(['question words'])['Meaningful'].count().plot.bar(x='lab', y='val', rot=0)\n",
    "    return 0"
   ]
  },
  {
   "cell_type": "code",
   "execution_count": 36,
   "metadata": {
    "scrolled": true
   },
   "outputs": [
    {
     "name": "stdout",
     "output_type": "stream",
     "text": [
      "question words\n",
      "None       27\n",
      "how       266\n",
      "what     5187\n",
      "when      637\n",
      "where    2224\n",
      "which      29\n",
      "who      2816\n",
      "whom      365\n",
      "why        11\n",
      "Name: Meaningful, dtype: int64\n"
     ]
    },
    {
     "data": {
      "text/plain": [
       "0"
      ]
     },
     "execution_count": 36,
     "metadata": {},
     "output_type": "execute_result"
    },
    {
     "data": {
      "image/png": "[encoded data removed]",
      "text/plain": [
       "<Figure size 432x288 with 1 Axes>"
      ]
     },
     "metadata": {
      "needs_background": "light"
     },
     "output_type": "display_data"
    }
   ],
   "source": [
    "get_question_words_distribution(train_df)"
   ]
  },
  {
   "cell_type": "code",
   "execution_count": 37,
   "metadata": {},
   "outputs": [
    {
     "name": "stdout",
     "output_type": "stream",
     "text": [
      "question words\n",
      "None       5\n",
      "how       45\n",
      "what     942\n",
      "when     107\n",
      "where    383\n",
      "which      5\n",
      "who      490\n",
      "whom      61\n",
      "why        3\n",
      "Name: Meaningful, dtype: int64\n"
     ]
    },
    {
     "data": {
      "text/plain": [
       "0"
      ]
     },
     "execution_count": 37,
     "metadata": {},
     "output_type": "execute_result"
    },
    {
     "data": {
      "image/png": "[encoded data removed]",
      "text/plain": [
       "<Figure size 432x288 with 1 Axes>"
      ]
     },
     "metadata": {
      "needs_background": "light"
     },
     "output_type": "display_data"
    }
   ],
   "source": [
    "get_question_words_distribution(valid_df)"
   ]
  },
  {
   "cell_type": "code",
   "execution_count": 38,
   "metadata": {},
   "outputs": [
    {
     "name": "stdout",
     "output_type": "stream",
     "text": [
      "question words\n",
      "None       20\n",
      "how       141\n",
      "what     2602\n",
      "when      303\n",
      "where    1144\n",
      "which      20\n",
      "who      1424\n",
      "whom      168\n",
      "why         8\n",
      "Name: Meaningful, dtype: int64\n"
     ]
    },
    {
     "data": {
      "text/plain": [
       "0"
      ]
     },
     "execution_count": 38,
     "metadata": {},
     "output_type": "execute_result"
    },
    {
     "data": {
      "image/png": "[encoded data removed]",
      "text/plain": [
       "<Figure size 432x288 with 1 Axes>"
      ]
     },
     "metadata": {
      "needs_background": "light"
     },
     "output_type": "display_data"
    }
   ],
   "source": [
    "get_question_words_distribution(test_df)"
   ]
  },
  {
   "cell_type": "code",
   "execution_count": 58,
   "metadata": {},
   "outputs": [],
   "source": [
    "def get_count_of_unique_words(dataframe):\n",
    "    tokenizer = lambda string:string.strip().lower().split()\n",
    "    tokenized_questions = dataframe['Question'].astype(str).apply(tokenizer).to_list()\n",
    "    flatten_tokenized_questions = [item for sublist in tokenized_questions for item in sublist]\n",
    "    return len(set(flatten_tokenized_questions))"
   ]
  },
  {
   "cell_type": "code",
   "execution_count": 61,
   "metadata": {},
   "outputs": [
    {
     "name": "stdout",
     "output_type": "stream",
     "text": [
      "10791\n",
      "3216\n",
      "6796\n"
     ]
    }
   ],
   "source": [
    "print(get_count_of_unique_words(train_df))\n",
    "print(get_count_of_unique_words(valid_df))\n",
    "print(get_count_of_unique_words(test_df))"
   ]
  },
  {
   "cell_type": "code",
   "execution_count": 71,
   "metadata": {},
   "outputs": [],
   "source": [
    "def get_length(dataframe):\n",
    "    tokenizer = lambda string:len(string.strip().lower().split())\n",
    "    dataframe['length'] = dataframe['Question'].astype(str).apply(tokenizer)\n",
    "    dataframe.hist(column=['length'], bins=50)\n",
    "    return dataframe['length']\n",
    "     "
   ]
  },
  {
   "cell_type": "code",
   "execution_count": 73,
   "metadata": {},
   "outputs": [
    {
     "data": {
      "image/png": "[encoded data removed]",
      "text/plain": [
       "<Figure size 432x288 with 1 Axes>"
      ]
     },
     "metadata": {
      "needs_background": "light"
     },
     "output_type": "display_data"
    },
    {
     "data": {
      "image/png": "[encoded data removed]",
      "text/plain": [
       "<Figure size 432x288 with 1 Axes>"
      ]
     },
     "metadata": {
      "needs_background": "light"
     },
     "output_type": "display_data"
    },
    {
     "data": {
      "image/png": "[encoded data removed]",
      "text/plain": [
       "<Figure size 432x288 with 1 Axes>"
      ]
     },
     "metadata": {
      "needs_background": "light"
     },
     "output_type": "display_data"
    }
   ],
   "source": [
    "tr = get_length(train_df)\n",
    "va = get_length(valid_df)\n",
    "te = get_length(test_df)"
   ]
  },
  {
   "cell_type": "code",
   "execution_count": 79,
   "metadata": {},
   "outputs": [
    {
     "data": {
      "text/plain": [
       "array([0, 0, 1, 1, 1, 1, 1, 0, 0, 0, 0, 0, 0, 0, 0, 0, 0, 0, 0, 0, 0, 0,\n",
       "       0, 0, 0, 0, 0, 0, 0, 0, 0, 0, 0, 0, 0])"
      ]
     },
     "execution_count": 79,
     "metadata": {},
     "output_type": "execute_result"
    }
   ],
   "source": [
    "train, valid, test = read_data()\n",
    "train[1][1][2:]"
   ]
  },
  {
   "cell_type": "code",
   "execution_count": 113,
   "metadata": {},
   "outputs": [],
   "source": [
    "def get_relation_component_count(dataset):\n",
    "    results = []\n",
    "    for item in dataset[1]:\n",
    "#         print(item[2:])\n",
    "        temp = ''.join(map(str, item[2:].tolist())).split('0')\n",
    "        temp = list(filter(lambda item:item!='', temp))\n",
    "        results.append(len(temp))\n",
    "    components = []\n",
    "    occurrences = []\n",
    "    for item in set(results):\n",
    "        components.append(str(item))\n",
    "        occurrences.append(results.count(item))\n",
    "    fig = plt.figure()\n",
    "    ax = fig.add_axes([0,0,1,1])\n",
    "    ax.bar(components,occurrences)\n",
    "    plt.show() \n",
    "    return components,occurrences\n"
   ]
  },
  {
   "cell_type": "code",
   "execution_count": 115,
   "metadata": {},
   "outputs": [
    {
     "name": "stderr",
     "output_type": "stream",
     "text": [
      "INFO:matplotlib.category:Using categorical units to plot a list of strings that are all parsable as floats or dates. If these strings should be plotted as numbers, cast to the appropriate data type before plotting.\n",
      "INFO:matplotlib.category:Using categorical units to plot a list of strings that are all parsable as floats or dates. If these strings should be plotted as numbers, cast to the appropriate data type before plotting.\n"
     ]
    },
    {
     "data": {
      "image/png": "[encoded data removed]",
      "text/plain": [
       "<Figure size 432x288 with 1 Axes>"
      ]
     },
     "metadata": {
      "needs_background": "light"
     },
     "output_type": "display_data"
    },
    {
     "name": "stderr",
     "output_type": "stream",
     "text": [
      "INFO:matplotlib.category:Using categorical units to plot a list of strings that are all parsable as floats or dates. If these strings should be plotted as numbers, cast to the appropriate data type before plotting.\n",
      "INFO:matplotlib.category:Using categorical units to plot a list of strings that are all parsable as floats or dates. If these strings should be plotted as numbers, cast to the appropriate data type before plotting.\n"
     ]
    },
    {
     "data": {
      "image/png": "[encoded data removed]",
      "text/plain": [
       "<Figure size 432x288 with 1 Axes>"
      ]
     },
     "metadata": {
      "needs_background": "light"
     },
     "output_type": "display_data"
    },
    {
     "name": "stderr",
     "output_type": "stream",
     "text": [
      "INFO:matplotlib.category:Using categorical units to plot a list of strings that are all parsable as floats or dates. If these strings should be plotted as numbers, cast to the appropriate data type before plotting.\n",
      "INFO:matplotlib.category:Using categorical units to plot a list of strings that are all parsable as floats or dates. If these strings should be plotted as numbers, cast to the appropriate data type before plotting.\n"
     ]
    },
    {
     "data": {
      "image/png": "[encoded data removed]",
      "text/plain": [
       "<Figure size 432x288 with 1 Axes>"
      ]
     },
     "metadata": {
      "needs_background": "light"
     },
     "output_type": "display_data"
    }
   ],
   "source": [
    "tr = get_relation_component_count(train)\n",
    "va = get_relation_component_count(valid)\n",
    "te = get_relation_component_count(test)"
   ]
  },
  {
   "cell_type": "code",
   "execution_count": 157,
   "metadata": {},
   "outputs": [],
   "source": [
    "def get_relation_length(dataset):\n",
    "    results = []\n",
    "    for tok, rel in zip(dataset[0], dataset[1]):\n",
    "        length = sum((tok!=0).astype(int))\n",
    "        temp = sum(rel[2:])/length\n",
    "        results.append(temp)\n",
    "    results = map(lambda item:round(item, 1), results)\n",
    "    results = list(results)\n",
    "    components = []\n",
    "    occurrences = []\n",
    "    for item in sorted(set(results)):\n",
    "        components.append(str(item))\n",
    "        occurrences.append(results.count(item))\n",
    "    fig = plt.figure()\n",
    "    ax = fig.add_axes([0,0,1,1])\n",
    "#     ax.set_xticks(ax.get_xticks()[::2])\n",
    "    ax.bar(components,occurrences)\n",
    "    plt.show() \n",
    "    return components,occurrences"
   ]
  },
  {
   "cell_type": "code",
   "execution_count": 159,
   "metadata": {},
   "outputs": [
    {
     "name": "stderr",
     "output_type": "stream",
     "text": [
      "INFO:matplotlib.category:Using categorical units to plot a list of strings that are all parsable as floats or dates. If these strings should be plotted as numbers, cast to the appropriate data type before plotting.\n",
      "INFO:matplotlib.category:Using categorical units to plot a list of strings that are all parsable as floats or dates. If these strings should be plotted as numbers, cast to the appropriate data type before plotting.\n"
     ]
    },
    {
     "data": {
      "image/png": "[encoded data removed]",
      "text/plain": [
       "<Figure size 432x288 with 1 Axes>"
      ]
     },
     "metadata": {
      "needs_background": "light"
     },
     "output_type": "display_data"
    },
    {
     "name": "stderr",
     "output_type": "stream",
     "text": [
      "INFO:matplotlib.category:Using categorical units to plot a list of strings that are all parsable as floats or dates. If these strings should be plotted as numbers, cast to the appropriate data type before plotting.\n",
      "INFO:matplotlib.category:Using categorical units to plot a list of strings that are all parsable as floats or dates. If these strings should be plotted as numbers, cast to the appropriate data type before plotting.\n"
     ]
    },
    {
     "data": {
      "image/png": "[encoded data removed]",
      "text/plain": [
       "<Figure size 432x288 with 1 Axes>"
      ]
     },
     "metadata": {
      "needs_background": "light"
     },
     "output_type": "display_data"
    },
    {
     "name": "stderr",
     "output_type": "stream",
     "text": [
      "INFO:matplotlib.category:Using categorical units to plot a list of strings that are all parsable as floats or dates. If these strings should be plotted as numbers, cast to the appropriate data type before plotting.\n",
      "INFO:matplotlib.category:Using categorical units to plot a list of strings that are all parsable as floats or dates. If these strings should be plotted as numbers, cast to the appropriate data type before plotting.\n"
     ]
    },
    {
     "data": {
      "image/png": "[encoded data removed]",
      "text/plain": [
       "<Figure size 432x288 with 1 Axes>"
      ]
     },
     "metadata": {
      "needs_background": "light"
     },
     "output_type": "display_data"
    }
   ],
   "source": [
    "tr = get_relation_length(train); va = get_relation_length(valid); te = get_relation_length(test) "
   ]
  },
  {
   "cell_type": "code",
   "execution_count": null,
   "metadata": {},
   "outputs": [],
   "source": []
  }
 ],
 "metadata": {
  "kernelspec": {
   "display_name": "Python 3",
   "language": "python",
   "name": "python3"
  },
  "language_info": {
   "codemirror_mode": {
    "name": "ipython",
    "version": 3
   },
   "file_extension": ".py",
   "mimetype": "text/x-python",
   "name": "python",
   "nbconvert_exporter": "python",
   "pygments_lexer": "ipython3",
   "version": "3.8.5"
  }
 },
 "nbformat": 4,
 "nbformat_minor": 4
}
