{
 "cells": [
  {
   "cell_type": "code",
   "execution_count": 1,
   "metadata": {},
   "outputs": [],
   "source": [
    "import pandas as pd\n",
    "import matplotlib.pyplot as plt\n",
    "from data import combine_with_reverb, create_bertified_dataset\n",
    "from utils import read_data\n",
    "from copy import copy\n",
    "import numpy as np "
   ]
  },
  {
   "cell_type": "code",
   "execution_count": 2,
   "metadata": {},
   "outputs": [
    {
     "name": "stderr",
     "output_type": "stream",
     "text": [
      "DEBUG:urllib3.connectionpool:Starting new HTTPS connection (1): huggingface.co:443\n",
      "DEBUG:urllib3.connectionpool:https://huggingface.co:443 \"HEAD /bert-base-uncased/resolve/main/vocab.txt HTTP/1.1\" 200 0\n",
      "DEBUG:urllib3.connectionpool:Starting new HTTPS connection (1): huggingface.co:443\n",
      "DEBUG:urllib3.connectionpool:https://huggingface.co:443 \"HEAD /bert-base-uncased/resolve/main/vocab.txt HTTP/1.1\" 200 0\n"
     ]
    }
   ],
   "source": [
    "combine_with_reverb()\n",
    "create_bertified_dataset()"
   ]
  },
  {
   "cell_type": "code",
   "execution_count": 3,
   "metadata": {},
   "outputs": [],
   "source": [
    "QUESTION_WORDS = ['what', 'which', 'where', 'when', 'why', 'who', 'how', 'whom']"
   ]
  },
  {
   "cell_type": "code",
   "execution_count": 4,
   "metadata": {},
   "outputs": [],
   "source": [
    "def question_word_id(string):\n",
    "    for item in string.strip().lower().split():\n",
    "        if item in QUESTION_WORDS:\n",
    "            return item\n",
    "    return 'None'"
   ]
  },
  {
   "cell_type": "code",
   "execution_count": 5,
   "metadata": {},
   "outputs": [],
   "source": [
    "train_df = pd.read_excel('train.xlsx'); valid_df = pd.read_excel('valid.xlsx'); test_df = pd.read_excel('test.xlsx')"
   ]
  },
  {
   "cell_type": "code",
   "execution_count": 16,
   "metadata": {
    "scrolled": true
   },
   "outputs": [
    {
     "data": {
      "text/html": [
       "<div>\n",
       "<style scoped>\n",
       "    .dataframe tbody tr th:only-of-type {\n",
       "        vertical-align: middle;\n",
       "    }\n",
       "\n",
       "    .dataframe tbody tr th {\n",
       "        vertical-align: top;\n",
       "    }\n",
       "\n",
       "    .dataframe thead th {\n",
       "        text-align: right;\n",
       "    }\n",
       "</style>\n",
       "<table border=\"1\" class=\"dataframe\">\n",
       "  <thead>\n",
       "    <tr style=\"text-align: right;\">\n",
       "      <th></th>\n",
       "      <th>Unnamed: 0</th>\n",
       "      <th>Unnamed: 0.1</th>\n",
       "      <th>Meaningful</th>\n",
       "      <th>Reverb_no</th>\n",
       "      <th>Sentecne</th>\n",
       "      <th>Confidence</th>\n",
       "      <th>Question</th>\n",
       "      <th>Answer</th>\n",
       "      <th>token_matrix</th>\n",
       "      <th>triple</th>\n",
       "      <th>normalized_triple</th>\n",
       "      <th>first_entity_ids</th>\n",
       "      <th>second_entity_ids</th>\n",
       "      <th>relation_ids</th>\n",
       "    </tr>\n",
       "  </thead>\n",
       "  <tbody>\n",
       "    <tr>\n",
       "      <th>0</th>\n",
       "      <td>15854</td>\n",
       "      <td>16403</td>\n",
       "      <td>1</td>\n",
       "      <td>250429</td>\n",
       "      <td>Paranoia has no place on wikipedia</td>\n",
       "      <td>0.93076</td>\n",
       "      <td>where does Paranoia have no place</td>\n",
       "      <td>on wikipedia</td>\n",
       "      <td>[101, 2073, 2515, 27890, 2031, 2053, 2173, 102]</td>\n",
       "      <td>('Paranoia', 'has no place on', 'wikipedia')</td>\n",
       "      <td>('paranoia', 'have no place on', 'wikipedium')</td>\n",
       "      <td>[101, 27890, 102]</td>\n",
       "      <td>[101, 16948, 102]</td>\n",
       "      <td>[101, 2038, 2053, 2173, 2006, 102]</td>\n",
       "    </tr>\n",
       "    <tr>\n",
       "      <th>1</th>\n",
       "      <td>16282</td>\n",
       "      <td>16845</td>\n",
       "      <td>1</td>\n",
       "      <td>268131</td>\n",
       "      <td>Punjab is the spiritual home of Sikhs</td>\n",
       "      <td>0.91363</td>\n",
       "      <td>what is Punjab</td>\n",
       "      <td>is the spiritual home of Sikhs</td>\n",
       "      <td>[101, 2054, 2003, 9213, 102]</td>\n",
       "      <td>('Punjab', 'is the spiritual home of', 'Sikhs')</td>\n",
       "      <td>('punjab', 'be the spiritual home of', 'sikhs')</td>\n",
       "      <td>[101, 9213, 102]</td>\n",
       "      <td>[101, 26697, 102]</td>\n",
       "      <td>[101, 2003, 1996, 6259, 2188, 1997, 102]</td>\n",
       "    </tr>\n",
       "    <tr>\n",
       "      <th>2</th>\n",
       "      <td>14642</td>\n",
       "      <td>15155</td>\n",
       "      <td>1</td>\n",
       "      <td>200600</td>\n",
       "      <td>Liz also owns part of the Rovers</td>\n",
       "      <td>0.95320</td>\n",
       "      <td>what does Liz also own</td>\n",
       "      <td>part of the Rovers</td>\n",
       "      <td>[101, 2054, 2515, 9056, 2036, 2219, 102]</td>\n",
       "      <td>('Liz', 'also owns part of', 'the Rovers')</td>\n",
       "      <td>('liz', 'also own part of', 'the rovers')</td>\n",
       "      <td>[101, 9056, 102]</td>\n",
       "      <td>[101, 1996, 9819, 102]</td>\n",
       "      <td>[101, 2036, 8617, 2112, 1997, 102]</td>\n",
       "    </tr>\n",
       "  </tbody>\n",
       "</table>\n",
       "</div>"
      ],
      "text/plain": [
       "   Unnamed: 0  Unnamed: 0.1  Meaningful  Reverb_no  \\\n",
       "0       15854         16403           1     250429   \n",
       "1       16282         16845           1     268131   \n",
       "2       14642         15155           1     200600   \n",
       "\n",
       "                                Sentecne  Confidence  \\\n",
       "0     Paranoia has no place on wikipedia     0.93076   \n",
       "1  Punjab is the spiritual home of Sikhs     0.91363   \n",
       "2       Liz also owns part of the Rovers     0.95320   \n",
       "\n",
       "                            Question                          Answer  \\\n",
       "0  where does Paranoia have no place                    on wikipedia   \n",
       "1                     what is Punjab  is the spiritual home of Sikhs   \n",
       "2             what does Liz also own              part of the Rovers   \n",
       "\n",
       "                                      token_matrix  \\\n",
       "0  [101, 2073, 2515, 27890, 2031, 2053, 2173, 102]   \n",
       "1                     [101, 2054, 2003, 9213, 102]   \n",
       "2         [101, 2054, 2515, 9056, 2036, 2219, 102]   \n",
       "\n",
       "                                            triple  \\\n",
       "0     ('Paranoia', 'has no place on', 'wikipedia')   \n",
       "1  ('Punjab', 'is the spiritual home of', 'Sikhs')   \n",
       "2       ('Liz', 'also owns part of', 'the Rovers')   \n",
       "\n",
       "                                 normalized_triple   first_entity_ids  \\\n",
       "0   ('paranoia', 'have no place on', 'wikipedium')  [101, 27890, 102]   \n",
       "1  ('punjab', 'be the spiritual home of', 'sikhs')   [101, 9213, 102]   \n",
       "2        ('liz', 'also own part of', 'the rovers')   [101, 9056, 102]   \n",
       "\n",
       "        second_entity_ids                              relation_ids  \n",
       "0       [101, 16948, 102]        [101, 2038, 2053, 2173, 2006, 102]  \n",
       "1       [101, 26697, 102]  [101, 2003, 1996, 6259, 2188, 1997, 102]  \n",
       "2  [101, 1996, 9819, 102]        [101, 2036, 8617, 2112, 1997, 102]  "
      ]
     },
     "execution_count": 16,
     "metadata": {},
     "output_type": "execute_result"
    }
   ],
   "source": [
    "test_df.head(3)"
   ]
  },
  {
   "cell_type": "code",
   "execution_count": 21,
   "metadata": {},
   "outputs": [],
   "source": [
    "def get_unique_ent_rel(dataframe):\n",
    "    arg1 = [eval(item)[0] for item in dataframe['triple'].to_list()]\n",
    "    arg2 = [eval(item)[2] for item in dataframe['triple'].to_list()]\n",
    "    rel = [eval(item)[1] for item in dataframe['triple'].to_list()]\n",
    "    print(f'Unique arg1 : {len(set(arg1))}')\n",
    "    print(f'Unique arg2 : {len(set(arg2))}')\n",
    "    print(f'Unique rel : {len(set(rel))}')\n",
    "    print(f'Unique args : {len(set(arg1+arg2))}')\n"
   ]
  },
  {
   "cell_type": "code",
   "execution_count": 22,
   "metadata": {},
   "outputs": [
    {
     "name": "stdout",
     "output_type": "stream",
     "text": [
      "Unique arg1 : 7508\n",
      "Unique arg2 : 6514\n",
      "Unique rel : 4673\n",
      "Unique args : 13530\n"
     ]
    }
   ],
   "source": [
    "get_unique_ent_rel(train_df)"
   ]
  },
  {
   "cell_type": "code",
   "execution_count": 23,
   "metadata": {},
   "outputs": [
    {
     "name": "stdout",
     "output_type": "stream",
     "text": [
      "Unique arg1 : 1875\n",
      "Unique arg2 : 1760\n",
      "Unique rel : 1318\n",
      "Unique args : 3570\n"
     ]
    }
   ],
   "source": [
    "get_unique_ent_rel(valid_df)"
   ]
  },
  {
   "cell_type": "code",
   "execution_count": 24,
   "metadata": {},
   "outputs": [
    {
     "name": "stdout",
     "output_type": "stream",
     "text": [
      "Unique arg1 : 4647\n",
      "Unique arg2 : 4128\n",
      "Unique rel : 3055\n",
      "Unique args : 8554\n"
     ]
    }
   ],
   "source": [
    "get_unique_ent_rel(test_df)"
   ]
  },
  {
   "cell_type": "code",
   "execution_count": null,
   "metadata": {},
   "outputs": [],
   "source": [
    "def get_question_words_distribution(dataframe):\n",
    "    dataframe['question words'] = dataframe['Question'].astype(str).apply(question_word_id)\n",
    "    print(dataframe.groupby(['question words'])['Meaningful'].count())\n",
    "    ax = dataframe.groupby(['question words'])['Meaningful'].count().plot.bar(x='lab', y='val', rot=0)\n",
    "    return 0"
   ]
  },
  {
   "cell_type": "code",
   "execution_count": null,
   "metadata": {
    "scrolled": true
   },
   "outputs": [],
   "source": [
    "get_question_words_distribution(train_df)"
   ]
  },
  {
   "cell_type": "code",
   "execution_count": null,
   "metadata": {},
   "outputs": [],
   "source": [
    "get_question_words_distribution(valid_df)"
   ]
  },
  {
   "cell_type": "code",
   "execution_count": null,
   "metadata": {},
   "outputs": [],
   "source": [
    "get_question_words_distribution(test_df)"
   ]
  },
  {
   "cell_type": "code",
   "execution_count": null,
   "metadata": {},
   "outputs": [],
   "source": [
    "def get_count_of_unique_words(dataframe):\n",
    "    tokenizer = lambda string:string.strip().lower().split()\n",
    "    tokenized_questions = dataframe['Question'].astype(str).apply(tokenizer).to_list()\n",
    "    flatten_tokenized_questions = [item for sublist in tokenized_questions for item in sublist]\n",
    "    return len(set(flatten_tokenized_questions))"
   ]
  },
  {
   "cell_type": "code",
   "execution_count": null,
   "metadata": {},
   "outputs": [],
   "source": [
    "print(get_count_of_unique_words(train_df))\n",
    "print(get_count_of_unique_words(valid_df))\n",
    "print(get_count_of_unique_words(test_df))"
   ]
  },
  {
   "cell_type": "code",
   "execution_count": null,
   "metadata": {},
   "outputs": [],
   "source": [
    "def get_length(dataframe):\n",
    "    tokenizer = lambda string:len(string.strip().lower().split())\n",
    "    dataframe['length'] = dataframe['Question'].astype(str).apply(tokenizer)\n",
    "    dataframe.hist(column=['length'], bins=50)\n",
    "    return dataframe['length']\n",
    "     "
   ]
  },
  {
   "cell_type": "code",
   "execution_count": null,
   "metadata": {},
   "outputs": [],
   "source": [
    "tr = get_length(train_df)\n",
    "va = get_length(valid_df)\n",
    "te = get_length(test_df)"
   ]
  },
  {
   "cell_type": "code",
   "execution_count": null,
   "metadata": {},
   "outputs": [],
   "source": [
    "train, valid, test = read_data()\n",
    "print(len(train[0]), len(valid[0]), len(test[0]))"
   ]
  },
  {
   "cell_type": "code",
   "execution_count": null,
   "metadata": {},
   "outputs": [],
   "source": [
    "def get_uniqu"
   ]
  },
  {
   "cell_type": "code",
   "execution_count": 15,
   "metadata": {},
   "outputs": [],
   "source": [
    "def get_relation_component_count(dataset):\n",
    "    results = []\n",
    "    for item in dataset[1]:\n",
    "#         print(item[2:])\n",
    "        temp = ''.join(map(str, item[2:].tolist())).split('0')\n",
    "        temp = list(filter(lambda item:item!='', temp))\n",
    "        results.append(len(temp))\n",
    "    components = []\n",
    "    occurrences = []\n",
    "    for item in set(results):\n",
    "        components.append(str(item))\n",
    "        occurrences.append(results.count(item))\n",
    "    fig = plt.figure()\n",
    "    ax = fig.add_axes([0,0,1,1])\n",
    "    ax.bar(components,occurrences)\n",
    "    plt.show() \n",
    "    return components,occurrences\n"
   ]
  },
  {
   "cell_type": "code",
   "execution_count": 16,
   "metadata": {},
   "outputs": [
    {
     "name": "stderr",
     "output_type": "stream",
     "text": [
      "INFO:matplotlib.category:Using categorical units to plot a list of strings that are all parsable as floats or dates. If these strings should be plotted as numbers, cast to the appropriate data type before plotting.\n",
      "INFO:matplotlib.category:Using categorical units to plot a list of strings that are all parsable as floats or dates. If these strings should be plotted as numbers, cast to the appropriate data type before plotting.\n"
     ]
    },
    {
     "data": {
      "image/png": "[encoded data removed]",
      "text/plain": [
       "<Figure size 432x288 with 1 Axes>"
      ]
     },
     "metadata": {
      "needs_background": "light"
     },
     "output_type": "display_data"
    },
    {
     "name": "stderr",
     "output_type": "stream",
     "text": [
      "INFO:matplotlib.category:Using categorical units to plot a list of strings that are all parsable as floats or dates. If these strings should be plotted as numbers, cast to the appropriate data type before plotting.\n",
      "INFO:matplotlib.category:Using categorical units to plot a list of strings that are all parsable as floats or dates. If these strings should be plotted as numbers, cast to the appropriate data type before plotting.\n"
     ]
    },
    {
     "data": {
      "image/png": "[encoded data removed]",
      "text/plain": [
       "<Figure size 432x288 with 1 Axes>"
      ]
     },
     "metadata": {
      "needs_background": "light"
     },
     "output_type": "display_data"
    },
    {
     "name": "stderr",
     "output_type": "stream",
     "text": [
      "INFO:matplotlib.category:Using categorical units to plot a list of strings that are all parsable as floats or dates. If these strings should be plotted as numbers, cast to the appropriate data type before plotting.\n",
      "INFO:matplotlib.category:Using categorical units to plot a list of strings that are all parsable as floats or dates. If these strings should be plotted as numbers, cast to the appropriate data type before plotting.\n"
     ]
    },
    {
     "data": {
      "image/png": "[encoded data removed]",
      "text/plain": [
       "<Figure size 432x288 with 1 Axes>"
      ]
     },
     "metadata": {
      "needs_background": "light"
     },
     "output_type": "display_data"
    }
   ],
   "source": [
    "tr = get_relation_component_count(train)\n",
    "va = get_relation_component_count(valid)\n",
    "te = get_relation_component_count(test)"
   ]
  },
  {
   "cell_type": "code",
   "execution_count": 17,
   "metadata": {},
   "outputs": [],
   "source": [
    "def get_relation_length(dataset):\n",
    "    results = []\n",
    "    for tok, rel in zip(dataset[0], dataset[1]):\n",
    "        length = sum((tok!=0).astype(int))\n",
    "        temp = sum(rel[2:])/length\n",
    "        results.append(temp)\n",
    "    results = map(lambda item:round(item, 1), results)\n",
    "    results = list(results)\n",
    "    components = []\n",
    "    occurrences = []\n",
    "    for item in sorted(set(results)):\n",
    "        components.append(str(item))\n",
    "        occurrences.append(results.count(item))\n",
    "    fig = plt.figure()\n",
    "    ax = fig.add_axes([0,0,1,1])\n",
    "#     ax.set_xticks(ax.get_xticks()[::2])\n",
    "    ax.bar(components,occurrences)\n",
    "    plt.show() \n",
    "    return components,occurrences"
   ]
  },
  {
   "cell_type": "code",
   "execution_count": 18,
   "metadata": {},
   "outputs": [
    {
     "name": "stderr",
     "output_type": "stream",
     "text": [
      "INFO:matplotlib.category:Using categorical units to plot a list of strings that are all parsable as floats or dates. If these strings should be plotted as numbers, cast to the appropriate data type before plotting.\n",
      "INFO:matplotlib.category:Using categorical units to plot a list of strings that are all parsable as floats or dates. If these strings should be plotted as numbers, cast to the appropriate data type before plotting.\n"
     ]
    },
    {
     "data": {
      "image/png": "[encoded data removed]",
      "text/plain": [
       "<Figure size 432x288 with 1 Axes>"
      ]
     },
     "metadata": {
      "needs_background": "light"
     },
     "output_type": "display_data"
    },
    {
     "name": "stderr",
     "output_type": "stream",
     "text": [
      "INFO:matplotlib.category:Using categorical units to plot a list of strings that are all parsable as floats or dates. If these strings should be plotted as numbers, cast to the appropriate data type before plotting.\n",
      "INFO:matplotlib.category:Using categorical units to plot a list of strings that are all parsable as floats or dates. If these strings should be plotted as numbers, cast to the appropriate data type before plotting.\n"
     ]
    },
    {
     "data": {
      "image/png": "[encoded data removed]",
      "text/plain": [
       "<Figure size 432x288 with 1 Axes>"
      ]
     },
     "metadata": {
      "needs_background": "light"
     },
     "output_type": "display_data"
    },
    {
     "name": "stderr",
     "output_type": "stream",
     "text": [
      "INFO:matplotlib.category:Using categorical units to plot a list of strings that are all parsable as floats or dates. If these strings should be plotted as numbers, cast to the appropriate data type before plotting.\n",
      "INFO:matplotlib.category:Using categorical units to plot a list of strings that are all parsable as floats or dates. If these strings should be plotted as numbers, cast to the appropriate data type before plotting.\n"
     ]
    },
    {
     "data": {
      "image/png": "[encoded data removed]",
      "text/plain": [
       "<Figure size 432x288 with 1 Axes>"
      ]
     },
     "metadata": {
      "needs_background": "light"
     },
     "output_type": "display_data"
    }
   ],
   "source": [
    "tr = get_relation_length(train); va = get_relation_length(valid); te = get_relation_length(test) "
   ]
  },
  {
   "cell_type": "code",
   "execution_count": null,
   "metadata": {},
   "outputs": [],
   "source": []
  },
  {
   "cell_type": "code",
   "execution_count": 75,
   "metadata": {},
   "outputs": [],
   "source": [
    "error_dataframe = {\n",
    "                    'Question':[],\n",
    "                    'candidates':[],\n",
    "                    'actual':[],\n",
    "                    'node':[],\n",
    "                    'edge':[]\n",
    "                }\n",
    "with open('./results/result.txt', 'r') as res:\n",
    "    for line in res:\n",
    "        if line.find('Question')!=-1:\n",
    "            temp = eval(line.split(': ')[1].strip())\n",
    "            error_dataframe['Question'].append(' '.join(temp))\n",
    "        elif line.find('Sorted candidates')!=-1:\n",
    "            error_dataframe['candidates'].append(eval(line.split(': ')[1].strip()))\n",
    "        elif line.find('Node: ')!=-1:\n",
    "            line = line.replace(', Edge','').split(': ')\n",
    "            error_dataframe['node'].append(line[1])\n",
    "            error_dataframe['edge'].append(line[2])\n",
    "        elif line.find('Actual line number')!=-1:\n",
    "            error_dataframe['actual'].append(eval(line.split(': ')[1].strip()))\n",
    "error_dataframe['Meaningful'] = [1 for _ in error_dataframe['actual']]\n",
    "error_df = pd.DataFrame(error_dataframe)            "
   ]
  },
  {
   "cell_type": "code",
   "execution_count": 77,
   "metadata": {},
   "outputs": [],
   "source": [
    "def get_was_born(string):\n",
    "    tokenized = string.strip().lower().split()\n",
    "    if ('was' in tokenized) and ('born' in tokenized):\n",
    "            return True\n",
    "    return False\n",
    "error_df['was born']=error_df['Question'].apply(get_was_born)"
   ]
  },
  {
   "cell_type": "code",
   "execution_count": 78,
   "metadata": {},
   "outputs": [],
   "source": [
    "get_null_candidates = lambda candidates:len(candidates)==0\n",
    "null_questions = copy(error_df[error_df['candidates'].apply(get_null_candidates)])\n",
    "not_null_questions = copy(error_df[~error_df['candidates'].apply(get_null_candidates)])"
   ]
  },
  {
   "cell_type": "code",
   "execution_count": 79,
   "metadata": {},
   "outputs": [],
   "source": [
    "null_questions.to_excel('./results/null.xlsx')"
   ]
  },
  {
   "cell_type": "code",
   "execution_count": 80,
   "metadata": {},
   "outputs": [
    {
     "name": "stdout",
     "output_type": "stream",
     "text": [
      "question words\n",
      "None       1\n",
      "how       36\n",
      "what     319\n",
      "when      73\n",
      "where    242\n",
      "which      3\n",
      "who       10\n",
      "whom      44\n",
      "why        4\n",
      "Name: Meaningful, dtype: int64\n"
     ]
    },
    {
     "data": {
      "text/plain": [
       "0"
      ]
     },
     "execution_count": 80,
     "metadata": {},
     "output_type": "execute_result"
    },
    {
     "data": {
      "image/png": "[encoded data removed]",
      "text/plain": [
       "<Figure size 432x288 with 1 Axes>"
      ]
     },
     "metadata": {
      "needs_background": "light"
     },
     "output_type": "display_data"
    }
   ],
   "source": [
    "get_question_words_distribution(null_questions)"
   ]
  },
  {
   "cell_type": "code",
   "execution_count": 81,
   "metadata": {},
   "outputs": [],
   "source": [
    "def get_all_hit1(dataframe):\n",
    "    index_list = []\n",
    "    for index, row in dataframe.iterrows():\n",
    "        if row['candidates'][0][0]==row['actual']:\n",
    "                index_list.append(True)\n",
    "        else:\n",
    "            index_list.append(False)\n",
    "    return index_list"
   ]
  },
  {
   "cell_type": "code",
   "execution_count": 82,
   "metadata": {},
   "outputs": [],
   "source": [
    "not_null_questions[get_all_hit1(not_null_questions)].to_excel('./results/hit1.xlsx')"
   ]
  },
  {
   "cell_type": "code",
   "execution_count": 83,
   "metadata": {},
   "outputs": [],
   "source": [
    "not_null_questions[[not elem for elem in get_all_hit1(not_null_questions)]].to_excel('./results/not_null_not_hit1.xlsx')"
   ]
  },
  {
   "cell_type": "code",
   "execution_count": 14,
   "metadata": {},
   "outputs": [
    {
     "data": {
      "text/plain": [
       "tuple"
      ]
     },
     "execution_count": 14,
     "metadata": {},
     "output_type": "execute_result"
    }
   ],
   "source": [
    "type(tokens_and_nouns[0])"
   ]
  },
  {
   "cell_type": "code",
   "execution_count": 25,
   "metadata": {},
   "outputs": [],
   "source": [
    "df = pd.read_csv(r'C:\\git\\reverb_wikipedia_tuples-1.1.txt', sep='\\t', header=None)\n",
    "reverb_columns_name = ['ExID', 'arg1', 'rel', 'arg2', 'narg1', 'nrel', 'narg2', 'csents', 'conf', 'urls']\n",
    "df.columns = reverb_columns_name\n",
    "df = df.dropna()\n",
    "df = df.drop_duplicates()\n"
   ]
  },
  {
   "cell_type": "code",
   "execution_count": 26,
   "metadata": {},
   "outputs": [
    {
     "name": "stdout",
     "output_type": "stream",
     "text": [
      "Unique arg1 : 182329\n",
      "Unique arg2 : 156166\n",
      "Unique rel : 101977\n",
      "Unique args : 304853\n",
      "Unique narg1 : 173067\n",
      "Unique narg2 : 149581\n",
      "Unique nrel : 82699\n",
      "Unique nargs : 278143\n"
     ]
    }
   ],
   "source": [
    "print(f'Unique arg1 : {len(df[\"arg1\"].unique())}')\n",
    "print(f'Unique arg2 : {len(df[\"arg2\"].unique())}')\n",
    "print(f'Unique rel : {len(df[\"rel\"].unique())}')\n",
    "print(f'Unique args : {len(set(df[\"arg1\"].unique().tolist()+df[\"arg2\"].unique().tolist()))}')\n",
    "print(f'Unique narg1 : {len(df[\"narg1\"].unique())}')\n",
    "print(f'Unique narg2 : {len(df[\"narg2\"].unique())}')\n",
    "print(f'Unique nrel : {len(df[\"nrel\"].unique())}')\n",
    "print(f'Unique nargs : {len(set(df[\"narg1\"].unique().tolist()+df[\"narg2\"].unique().tolist()))}')\n",
    "\n"
   ]
  },
  {
   "cell_type": "code",
   "execution_count": 41,
   "metadata": {},
   "outputs": [
    {
     "name": "stdout",
     "output_type": "stream",
     "text": [
      "125056\n"
     ]
    }
   ],
   "source": [
    "normal_vocab = df[\"narg1\"].unique().tolist()+df[\"narg2\"].unique().tolist()+df[\"nrel\"].unique().tolist()\n",
    "normal_vocab = list(map(lambda x:x.split(), normal_vocab))\n",
    "normal_vocab = [item for sublist in normal_vocab for item in sublist]\n",
    "print(len(set(normal_vocab)))"
   ]
  },
  {
   "cell_type": "code",
   "execution_count": 43,
   "metadata": {},
   "outputs": [
    {
     "name": "stdout",
     "output_type": "stream",
     "text": [
      "148953\n"
     ]
    }
   ],
   "source": [
    "vocab = df[\"arg1\"].unique().tolist()+df[\"arg2\"].unique().tolist()+df[\"rel\"].unique().tolist()\n",
    "vocab = list(map(lambda x:x.split(), vocab))\n",
    "vocab = [item for sublist in vocab for item in sublist]\n",
    "print(len(set(vocab)))"
   ]
  },
  {
   "cell_type": "code",
   "execution_count": null,
   "metadata": {},
   "outputs": [],
   "source": []
  }
 ],
 "metadata": {
  "kernelspec": {
   "display_name": "Python 3",
   "language": "python",
   "name": "python3"
  },
  "language_info": {
   "codemirror_mode": {
    "name": "ipython",
    "version": 3
   },
   "file_extension": ".py",
   "mimetype": "text/x-python",
   "name": "python",
   "nbconvert_exporter": "python",
   "pygments_lexer": "ipython3",
   "version": "3.8.5"
  }
 },
 "nbformat": 4,
 "nbformat_minor": 4
}
