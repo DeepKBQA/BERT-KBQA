{
  "nbformat": 4,
  "nbformat_minor": 0,
  "metadata": {
    "accelerator": "GPU",
    "colab": {
      "name": "train_eval.ipynb",
      "provenance": [],
      "include_colab_link": true
    },
    "kernelspec": {
      "display_name": "Python 3",
      "language": "python",
      "name": "python3"
    },
    "language_info": {
      "codemirror_mode": {
        "name": "ipython",
        "version": 3
      },
      "file_extension": ".py",
      "mimetype": "text/x-python",
      "name": "python",
      "nbconvert_exporter": "python",
      "pygments_lexer": "ipython3",
      "version": "3.8.5"
    }
  },
  "cells": [
    {
      "cell_type": "markdown",
      "metadata": {
        "id": "view-in-github",
        "colab_type": "text"
      },
      "source": [
        "<a href=\"https://colab.research.google.com/github/meti-94/BERT-QA/blob/main/colbert.ipynb\" target=\"_parent\"><img src=\"https://colab.research.google.com/assets/colab-badge.svg\" alt=\"Open In Colab\"/></a>"
      ]
    },
    {
      "cell_type": "code",
      "metadata": {
        "colab": {
          "base_uri": "https://localhost:8080/"
        },
        "id": "DQ-LV62ByxcR",
        "outputId": "b017c068-e39a-4c31-f1ef-3cf1666d3489"
      },
      "source": [
        "!pip install transformers -q\n",
        "!pip uninstall -y tensorflow -q\n",
        "!pip install fuzzywuzzy[speedup] -q\n",
        "!pip install networkx -q\n",
        "!pip install pytorch-crf -q\n",
        "!pip install pattern -q\n",
        "import nltk\n",
        "nltk.download('omw-1.4')"
      ],
      "execution_count": 1,
      "outputs": [
        {
          "output_type": "stream",
          "name": "stdout",
          "text": [
            "\u001b[K     |████████████████████████████████| 5.8 MB 18.4 MB/s \n",
            "\u001b[K     |████████████████████████████████| 7.6 MB 63.5 MB/s \n",
            "\u001b[K     |████████████████████████████████| 182 kB 46.4 MB/s \n",
            "\u001b[K     |████████████████████████████████| 174 kB 39.3 MB/s \n",
            "\u001b[K     |████████████████████████████████| 2.2 MB 68.7 MB/s \n",
            "\u001b[K     |████████████████████████████████| 22.2 MB 1.5 MB/s \n",
            "\u001b[K     |████████████████████████████████| 88 kB 8.2 MB/s \n",
            "\u001b[K     |████████████████████████████████| 81 kB 9.7 MB/s \n",
            "\u001b[K     |████████████████████████████████| 5.6 MB 31.0 MB/s \n",
            "\u001b[K     |████████████████████████████████| 5.6 MB 49.9 MB/s \n",
            "\u001b[K     |████████████████████████████████| 348 kB 60.6 MB/s \n",
            "\u001b[K     |████████████████████████████████| 100 kB 9.4 MB/s \n",
            "\u001b[K     |████████████████████████████████| 4.0 MB 59.9 MB/s \n",
            "\u001b[?25h  Building wheel for pattern (setup.py) ... \u001b[?25l\u001b[?25hdone\n",
            "  Building wheel for mysqlclient (setup.py) ... \u001b[?25l\u001b[?25hdone\n",
            "  Building wheel for python-docx (setup.py) ... \u001b[?25l\u001b[?25hdone\n",
            "  Building wheel for sgmllib3k (setup.py) ... \u001b[?25l\u001b[?25hdone\n"
          ]
        },
        {
          "output_type": "stream",
          "name": "stderr",
          "text": [
            "[nltk_data] Downloading package omw-1.4 to /root/nltk_data...\n"
          ]
        },
        {
          "output_type": "execute_result",
          "data": {
            "text/plain": [
              "True"
            ]
          },
          "metadata": {},
          "execution_count": 1
        }
      ]
    },
    {
      "cell_type": "code",
      "metadata": {
        "colab": {
          "base_uri": "https://localhost:8080/"
        },
        "id": "lK5AY1cWmoqG",
        "outputId": "5dfc1236-4251-422e-8826-47a03a9cff64"
      },
      "source": [
        "!git clone https://github.com/meti-94/BERT-QA.git"
      ],
      "execution_count": 2,
      "outputs": [
        {
          "output_type": "stream",
          "name": "stdout",
          "text": [
            "Cloning into 'BERT-QA'...\n",
            "remote: Enumerating objects: 597, done.\u001b[K\n",
            "remote: Counting objects: 100% (66/66), done.\u001b[K\n",
            "remote: Compressing objects: 100% (49/49), done.\u001b[K\n",
            "remote: Total 597 (delta 27), reused 50 (delta 17), pack-reused 531\u001b[K\n",
            "Receiving objects: 100% (597/597), 114.75 MiB | 16.29 MiB/s, done.\n",
            "Resolving deltas: 100% (262/262), done.\n"
          ]
        }
      ]
    },
    {
      "cell_type": "code",
      "metadata": {
        "colab": {
          "base_uri": "https://localhost:8080/"
        },
        "id": "2-eIIezrzF9g",
        "outputId": "ab30cc7b-07a8-436d-f5be-48571538886e"
      },
      "source": [
        "%cd /content/BERT-QA/src\n",
        "# model types : [MultiDepthNodeEdgeDetector, BertLSTMCRF, BertCNN, NodeEdgeDetector]\n",
        "# cross validation: [True, False]\n",
        "!python train.py NodeEdgeDetector False"
      ],
      "execution_count": 6,
      "outputs": [
        {
          "output_type": "stream",
          "name": "stdout",
          "text": [
            "/content/BERT-QA/src\n",
            "DEBUG:urllib3.connectionpool:Starting new HTTPS connection (1): huggingface.co:443\n",
            "DEBUG:urllib3.connectionpool:https://huggingface.co:443 \"HEAD /bert-base-uncased/resolve/main/config.json HTTP/1.1\" 200 0\n",
            "Some weights of the model checkpoint at bert-base-uncased were not used when initializing BertModel: ['cls.predictions.transform.dense.bias', 'cls.seq_relationship.weight', 'cls.predictions.transform.dense.weight', 'cls.predictions.bias', 'cls.predictions.decoder.weight', 'cls.predictions.transform.LayerNorm.bias', 'cls.predictions.transform.LayerNorm.weight', 'cls.seq_relationship.bias']\n",
            "- This IS expected if you are initializing BertModel from the checkpoint of a model trained on another task or with another architecture (e.g. initializing a BertForSequenceClassification model from a BertForPreTraining model).\n",
            "- This IS NOT expected if you are initializing BertModel from the checkpoint of a model that you expect to be exactly identical (initializing a BertForSequenceClassification model from a BertForSequenceClassification model).\n",
            "DEBUG:urllib3.connectionpool:Starting new HTTPS connection (1): huggingface.co:443\n",
            "DEBUG:urllib3.connectionpool:https://huggingface.co:443 \"HEAD /bert-base-uncased/resolve/main/vocab.txt HTTP/1.1\" 200 0\n",
            "/usr/local/lib/python3.8/dist-packages/transformers/optimization.py:306: FutureWarning: This implementation of AdamW is deprecated and will be removed in a future version. Use the PyTorch implementation torch.optim.AdamW instead, or set `no_deprecation_warning=True` to disable this warning\n",
            "  warnings.warn(\n",
            "INFO:root:Train Dataset Contains 9921 Samples.\n",
            "INFO:root:Valid Dataset Contains 1751 Samples.\n",
            "INFO:root:Test Dataset Contains 5003 Samples.\n",
            "Train Epoch Number 1: 100% 50/50 [00:27<00:00,  1.80it/s]\n",
            "INFO:root:Epoch number: 1 Train Loss is equal: 435.1988525390625\n",
            "Eval Epoch Number 1: 100% 9/9 [00:01<00:00,  6.44it/s]\n",
            "INFO:root:Epoch number: 1 Eval Loss is equal: 28.082059860229492\n",
            "Train Epoch Number 2: 100% 50/50 [00:28<00:00,  1.75it/s]\n",
            "INFO:root:Epoch number: 2 Train Loss is equal: 30.319425582885742\n",
            "Eval Epoch Number 2: 100% 9/9 [00:01<00:00,  5.87it/s]\n",
            "INFO:root:Epoch number: 2 Eval Loss is equal: 17.279293060302734\n",
            "Train Epoch Number 3: 100% 50/50 [00:29<00:00,  1.71it/s]\n",
            "INFO:root:Epoch number: 3 Train Loss is equal: 19.309276580810547\n",
            "Eval Epoch Number 3: 100% 9/9 [00:01<00:00,  6.18it/s]\n",
            "INFO:root:Epoch number: 3 Eval Loss is equal: 17.150503158569336\n",
            "Train Epoch Number 4: 100% 50/50 [00:28<00:00,  1.76it/s]\n",
            "INFO:root:Epoch number: 4 Train Loss is equal: 15.413244247436523\n",
            "Eval Epoch Number 4: 100% 9/9 [00:01<00:00,  6.18it/s]\n",
            "INFO:root:Epoch number: 4 Eval Loss is equal: 15.300227165222168\n",
            "Train Epoch Number 5: 100% 50/50 [00:28<00:00,  1.74it/s]\n",
            "INFO:root:Epoch number: 5 Train Loss is equal: 14.0923433303833\n",
            "Eval Epoch Number 5: 100% 9/9 [00:01<00:00,  6.10it/s]\n",
            "INFO:root:Epoch number: 5 Eval Loss is equal: 15.649797439575195\n",
            "Train Epoch Number 6: 100% 50/50 [00:28<00:00,  1.74it/s]\n",
            "INFO:root:Epoch number: 6 Train Loss is equal: 10.81396198272705\n",
            "Eval Epoch Number 6: 100% 9/9 [00:01<00:00,  6.11it/s]\n",
            "INFO:root:Epoch number: 6 Eval Loss is equal: 15.335126876831055\n",
            "Predicting ...: 100% 51/51 [00:04<00:00, 11.53it/s]\n",
            "INFO:root:Dataset-wide F1, precision and recall:\n",
            "INFO:root:0.9892975115613302, 0.9890797005724351, 0.9895154185022026\n",
            "INFO:root:Averaged F1, precision and recall:\n",
            "INFO:root:0.987351651128004, 0.9868821564204334, 0.9878215927586305\n",
            "INFO:root:Span accuracy\n",
            "INFO:root:0.9838097141714971\n",
            "INFO:root:Dataset-wide F1, precision and recall:\n",
            "INFO:root:0.9918109256763761, 0.9934242403267114, 0.9902028425555403\n",
            "INFO:root:Averaged F1, precision and recall:\n",
            "INFO:root:0.9943540887523954, 0.9951322063904517, 0.9935771870211212\n",
            "INFO:root:Span accuracy\n",
            "INFO:root:0.9704177493503897\n",
            "Question                    Node               Edge\n",
            "--------------------------  -----------------  --------------------\n",
            "Where was Bill Gates Born?  ['bill', 'gates']  ['was', 'born', '?']\n"
          ]
        }
      ]
    },
    {
      "cell_type": "code",
      "metadata": {
        "colab": {
          "base_uri": "https://localhost:8080/"
        },
        "id": "S6h_BRN-zs6k",
        "outputId": "53c6410c-0ee6-46b8-ecde-493557c85e1e"
      },
      "source": [
        "!python evaluation.py "
      ],
      "execution_count": null,
      "outputs": [
        {
          "output_type": "stream",
          "name": "stdout",
          "text": [
            "INFO:numexpr.utils:NumExpr defaulting to 2 threads.\n",
            "DEBUG:urllib3.connectionpool:Starting new HTTPS connection (1): huggingface.co:443\n",
            "DEBUG:urllib3.connectionpool:https://huggingface.co:443 \"HEAD /bert-base-uncased/resolve/main/config.json HTTP/1.1\" 200 0\n",
            "DEBUG:urllib3.connectionpool:Starting new HTTPS connection (1): huggingface.co:443\n",
            "DEBUG:urllib3.connectionpool:https://huggingface.co:443 \"HEAD /bert-base-uncased/resolve/main/pytorch_model.bin HTTP/1.1\" 302 0\n",
            "Some weights of the model checkpoint at bert-base-uncased were not used when initializing BertModel: ['cls.predictions.transform.dense.weight', 'cls.predictions.decoder.weight', 'cls.predictions.transform.LayerNorm.weight', 'cls.predictions.bias', 'cls.predictions.transform.LayerNorm.bias', 'cls.seq_relationship.bias', 'cls.predictions.transform.dense.bias', 'cls.seq_relationship.weight']\n",
            "- This IS expected if you are initializing BertModel from the checkpoint of a model trained on another task or with another architecture (e.g. initializing a BertForSequenceClassification model from a BertForPreTraining model).\n",
            "- This IS NOT expected if you are initializing BertModel from the checkpoint of a model that you expect to be exactly identical (initializing a BertForSequenceClassification model from a BertForSequenceClassification model).\n",
            "DEBUG:urllib3.connectionpool:Starting new HTTPS connection (1): huggingface.co:443\n",
            "DEBUG:urllib3.connectionpool:https://huggingface.co:443 \"HEAD /bert-base-uncased/resolve/main/vocab.txt HTTP/1.1\" 200 0\n",
            "DEBUG:urllib3.connectionpool:Starting new HTTPS connection (1): huggingface.co:443\n",
            "DEBUG:urllib3.connectionpool:https://huggingface.co:443 \"HEAD /bert-base-uncased/resolve/main/added_tokens.json HTTP/1.1\" 404 0\n",
            "DEBUG:urllib3.connectionpool:Starting new HTTPS connection (1): huggingface.co:443\n",
            "DEBUG:urllib3.connectionpool:https://huggingface.co:443 \"HEAD /bert-base-uncased/resolve/main/special_tokens_map.json HTTP/1.1\" 404 0\n",
            "DEBUG:urllib3.connectionpool:Starting new HTTPS connection (1): huggingface.co:443\n",
            "DEBUG:urllib3.connectionpool:https://huggingface.co:443 \"HEAD /bert-base-uncased/resolve/main/tokenizer_config.json HTTP/1.1\" 200 0\n",
            "DEBUG:urllib3.connectionpool:Starting new HTTPS connection (1): huggingface.co:443\n",
            "DEBUG:urllib3.connectionpool:https://huggingface.co:443 \"HEAD /bert-base-uncased/resolve/main/config.json HTTP/1.1\" 200 0\n",
            "/usr/local/lib/python3.7/dist-packages/transformers/optimization.py:310: FutureWarning: This implementation of AdamW is deprecated and will be removed in a future version. Use the PyTorch implementation torch.optim.AdamW instead, or set `no_deprecation_warning=True` to disable this warning\n",
            "  FutureWarning,\n",
            "Indexing ...: 100% 407236/407236 [00:22<00:00, 17735.20it/s]\n",
            "Traceback (most recent call last):\n",
            "  File \"/usr/local/lib/python3.7/dist-packages/pandas/core/indexes/base.py\", line 3361, in get_loc\n",
            "    return self._engine.get_loc(casted_key)\n",
            "  File \"pandas/_libs/index.pyx\", line 76, in pandas._libs.index.IndexEngine.get_loc\n",
            "  File \"pandas/_libs/index.pyx\", line 108, in pandas._libs.index.IndexEngine.get_loc\n",
            "  File \"pandas/_libs/hashtable_class_helper.pxi\", line 5198, in pandas._libs.hashtable.PyObjectHashTable.get_item\n",
            "  File \"pandas/_libs/hashtable_class_helper.pxi\", line 5206, in pandas._libs.hashtable.PyObjectHashTable.get_item\n",
            "KeyError: 'Reverb_no'\n",
            "\n",
            "The above exception was the direct cause of the following exception:\n",
            "\n",
            "Traceback (most recent call last):\n",
            "  File \"evaluation.py\", line 24, in <module>\n",
            "    actual = test_df['Reverb_no'].to_list()\n",
            "  File \"/usr/local/lib/python3.7/dist-packages/pandas/core/frame.py\", line 3458, in __getitem__\n",
            "    indexer = self.columns.get_loc(key)\n",
            "  File \"/usr/local/lib/python3.7/dist-packages/pandas/core/indexes/base.py\", line 3363, in get_loc\n",
            "    raise KeyError(key) from err\n",
            "KeyError: 'Reverb_no'\n"
          ]
        }
      ]
    },
    {
      "cell_type": "code",
      "metadata": {
        "colab": {
          "base_uri": "https://localhost:8080/"
        },
        "id": "MOD_Mka8WaGy",
        "outputId": "4b3e8bf2-11c1-4eb0-fb82-3b07446dbe8f"
      },
      "source": [
        "from google.colab import drive\n",
        "drive.mount('/content/drive')"
      ],
      "execution_count": null,
      "outputs": [
        {
          "output_type": "stream",
          "name": "stdout",
          "text": [
            "Mounted at /content/drive\n"
          ]
        }
      ]
    },
    {
      "cell_type": "code",
      "metadata": {
        "id": "Bh5jp7fcWawz"
      },
      "source": [
        "!cp /content/drive/MyDrive/reverb_wikipedia_tuples-1.1.txt /content/BERT-QA/data\n",
        "# !cp /content/drive/MyDrive/models/test.xlsx /content/BERT-QA/data"
      ],
      "execution_count": null,
      "outputs": []
    },
    {
      "cell_type": "code",
      "metadata": {
        "id": "dt-eNG27YniQ",
        "outputId": "95dc5208-46ab-49a1-fa7d-238d22492603",
        "colab": {
          "base_uri": "https://localhost:8080/"
        }
      },
      "source": [
        "\n",
        "!pip install python-terrier -q\n",
        "import pyterrier as pt\n",
        "if not pt.started():\n",
        "  pt.init()\n",
        "import pandas as pd\n",
        "!rm -rf ./pd_index\n",
        "pd_indexer = pt.DFIndexer(\"./pd_index\")\n",
        "from google.colab import drive\n",
        "drive.mount('/content/drive')\n",
        "!cp /content/drive/MyDrive/reverb_wikipedia_tuples-1.1.txt /content/"
      ],
      "execution_count": 7,
      "outputs": [
        {
          "output_type": "stream",
          "name": "stdout",
          "text": [
            "\u001b[K     |████████████████████████████████| 102 kB 39.4 MB/s \n",
            "\u001b[K     |████████████████████████████████| 1.5 MB 58.3 MB/s \n",
            "\u001b[K     |████████████████████████████████| 69 kB 8.1 MB/s \n",
            "\u001b[K     |████████████████████████████████| 311 kB 35.8 MB/s \n",
            "\u001b[K     |████████████████████████████████| 46 kB 4.1 MB/s \n",
            "\u001b[K     |████████████████████████████████| 286 kB 69.8 MB/s \n",
            "\u001b[K     |████████████████████████████████| 45 kB 3.4 MB/s \n",
            "\u001b[K     |████████████████████████████████| 72 kB 1.0 MB/s \n",
            "\u001b[K     |████████████████████████████████| 1.2 MB 54.0 MB/s \n",
            "\u001b[K     |████████████████████████████████| 293 kB 71.7 MB/s \n",
            "\u001b[K     |████████████████████████████████| 133 kB 63.2 MB/s \n",
            "\u001b[?25h  Installing build dependencies ... \u001b[?25l\u001b[?25hdone\n",
            "  Getting requirements to build wheel ... \u001b[?25l\u001b[?25hdone\n",
            "    Preparing wheel metadata ... \u001b[?25l\u001b[?25hdone\n",
            "  Building wheel for python-terrier (setup.py) ... \u001b[?25l\u001b[?25hdone\n",
            "  Building wheel for ir-measures (setup.py) ... \u001b[?25l\u001b[?25hdone\n",
            "  Building wheel for cwl-eval (setup.py) ... \u001b[?25l\u001b[?25hdone\n",
            "  Building wheel for cbor (setup.py) ... \u001b[?25l\u001b[?25hdone\n",
            "  Building wheel for unlzw3 (PEP 517) ... \u001b[?25l\u001b[?25hdone\n",
            "  Building wheel for warc3-wet-clueweb09 (setup.py) ... \u001b[?25l\u001b[?25hdone\n",
            "  Building wheel for chest (setup.py) ... \u001b[?25l\u001b[?25hdone\n",
            "  Building wheel for sklearn (setup.py) ... \u001b[?25l\u001b[?25hdone\n",
            "  Building wheel for wget (setup.py) ... \u001b[?25l\u001b[?25hdone\n",
            "terrier-assemblies 5.7 jar-with-dependencies not found, downloading to /root/.pyterrier...\n",
            "Done\n",
            "terrier-python-helper 0.0.7 jar not found, downloading to /root/.pyterrier...\n",
            "Done\n"
          ]
        },
        {
          "output_type": "stream",
          "name": "stderr",
          "text": [
            "PyTerrier 0.9.1 has loaded Terrier 5.7 (built by craigm on 2022-11-10 18:30) and terrier-helper 0.0.7\n",
            "\n"
          ]
        },
        {
          "output_type": "stream",
          "name": "stdout",
          "text": [
            "Mounted at /content/drive\n"
          ]
        }
      ]
    },
    {
      "cell_type": "code",
      "source": [
        "path = '/content/reverb_wikipedia_tuples-1.1.txt'\n",
        "df = pd.read_csv(path, sep='\\t', header=None)\n",
        "reverb_columns_name = ['ExID', 'arg1', 'rel', 'arg2', 'narg1', 'nrel', 'narg2', 'csents', 'conf', 'urls']\n",
        "df.columns = reverb_columns_name\n",
        "df = df.dropna()\n",
        "df = df.drop_duplicates()\n",
        "df['normal_text'] = df.apply(lambda row:' '.join([row['narg1'], row['nrel'], row['narg2']]).strip(), axis=1)\n",
        "df['text'] = df.apply(lambda row:' '.join([row['arg1'], row['rel'], row['arg2']]).strip(), axis=1)\n",
        "df = df[['normal_text', 'text']]\n",
        "df['docno'] = (df.index).astype(str)\n",
        "df\n"
      ],
      "metadata": {
        "id": "pdLHTJEe-CJP",
        "outputId": "7bd7dde1-2c68-43fe-d273-ae88f6c64d43",
        "colab": {
          "base_uri": "https://localhost:8080/",
          "height": 468
        }
      },
      "execution_count": 36,
      "outputs": [
        {
          "output_type": "execute_result",
          "data": {
            "text/plain": [
              "                                              normal_text  \\\n",
              "0                                $ 10 be deduct for board   \n",
              "1                                 $ 10,000 come from j.j.   \n",
              "2       $ 13.8 million have be raise for construction ...   \n",
              "3                          $ 15.3 million be pay to japan   \n",
              "4                      $ 16,896 be need just for dredging   \n",
              "...                                                   ...   \n",
              "407242                    zinc be an ingredient in enzyte   \n",
              "407243                   zinc acetate consist of zn2+ ion   \n",
              "407244     zinc concentrate normally contain zinc sulfide   \n",
              "407245               zone 3 be north of the arctic circle   \n",
              "407246              zwieback be produce in friedrichsdorf   \n",
              "\n",
              "                                                     text   docno  \n",
              "0                             $ 10 was deducted for board       0  \n",
              "1                                 $ 10,000 came from J.J.       1  \n",
              "2       $ 13.8 million had been raised for constructio...       2  \n",
              "3                        $ 15.3 million was paid to Japan       3  \n",
              "4                   $ 16,896 was needed just for dredging       4  \n",
              "...                                                   ...     ...  \n",
              "407242                    zinc is an ingredient in Enzyte  407242  \n",
              "407243                 zinc acetate consists of Zn2+ ions  407243  \n",
              "407244    zinc concentrate normally contains zinc sulfide  407244  \n",
              "407245               zone 3 is north of the Arctic Circle  407245  \n",
              "407246            zwieback was produced in Friedrichsdorf  407246  \n",
              "\n",
              "[407236 rows x 3 columns]"
            ],
            "text/html": [
              "\n",
              "  <div id=\"df-46309a33-a902-4a0b-84ff-a2e927095bb4\">\n",
              "    <div class=\"colab-df-container\">\n",
              "      <div>\n",
              "<style scoped>\n",
              "    .dataframe tbody tr th:only-of-type {\n",
              "        vertical-align: middle;\n",
              "    }\n",
              "\n",
              "    .dataframe tbody tr th {\n",
              "        vertical-align: top;\n",
              "    }\n",
              "\n",
              "    .dataframe thead th {\n",
              "        text-align: right;\n",
              "    }\n",
              "</style>\n",
              "<table border=\"1\" class=\"dataframe\">\n",
              "  <thead>\n",
              "    <tr style=\"text-align: right;\">\n",
              "      <th></th>\n",
              "      <th>normal_text</th>\n",
              "      <th>text</th>\n",
              "      <th>docno</th>\n",
              "    </tr>\n",
              "  </thead>\n",
              "  <tbody>\n",
              "    <tr>\n",
              "      <th>0</th>\n",
              "      <td>$ 10 be deduct for board</td>\n",
              "      <td>$ 10 was deducted for board</td>\n",
              "      <td>0</td>\n",
              "    </tr>\n",
              "    <tr>\n",
              "      <th>1</th>\n",
              "      <td>$ 10,000 come from j.j.</td>\n",
              "      <td>$ 10,000 came from J.J.</td>\n",
              "      <td>1</td>\n",
              "    </tr>\n",
              "    <tr>\n",
              "      <th>2</th>\n",
              "      <td>$ 13.8 million have be raise for construction ...</td>\n",
              "      <td>$ 13.8 million had been raised for constructio...</td>\n",
              "      <td>2</td>\n",
              "    </tr>\n",
              "    <tr>\n",
              "      <th>3</th>\n",
              "      <td>$ 15.3 million be pay to japan</td>\n",
              "      <td>$ 15.3 million was paid to Japan</td>\n",
              "      <td>3</td>\n",
              "    </tr>\n",
              "    <tr>\n",
              "      <th>4</th>\n",
              "      <td>$ 16,896 be need just for dredging</td>\n",
              "      <td>$ 16,896 was needed just for dredging</td>\n",
              "      <td>4</td>\n",
              "    </tr>\n",
              "    <tr>\n",
              "      <th>...</th>\n",
              "      <td>...</td>\n",
              "      <td>...</td>\n",
              "      <td>...</td>\n",
              "    </tr>\n",
              "    <tr>\n",
              "      <th>407242</th>\n",
              "      <td>zinc be an ingredient in enzyte</td>\n",
              "      <td>zinc is an ingredient in Enzyte</td>\n",
              "      <td>407242</td>\n",
              "    </tr>\n",
              "    <tr>\n",
              "      <th>407243</th>\n",
              "      <td>zinc acetate consist of zn2+ ion</td>\n",
              "      <td>zinc acetate consists of Zn2+ ions</td>\n",
              "      <td>407243</td>\n",
              "    </tr>\n",
              "    <tr>\n",
              "      <th>407244</th>\n",
              "      <td>zinc concentrate normally contain zinc sulfide</td>\n",
              "      <td>zinc concentrate normally contains zinc sulfide</td>\n",
              "      <td>407244</td>\n",
              "    </tr>\n",
              "    <tr>\n",
              "      <th>407245</th>\n",
              "      <td>zone 3 be north of the arctic circle</td>\n",
              "      <td>zone 3 is north of the Arctic Circle</td>\n",
              "      <td>407245</td>\n",
              "    </tr>\n",
              "    <tr>\n",
              "      <th>407246</th>\n",
              "      <td>zwieback be produce in friedrichsdorf</td>\n",
              "      <td>zwieback was produced in Friedrichsdorf</td>\n",
              "      <td>407246</td>\n",
              "    </tr>\n",
              "  </tbody>\n",
              "</table>\n",
              "<p>407236 rows × 3 columns</p>\n",
              "</div>\n",
              "      <button class=\"colab-df-convert\" onclick=\"convertToInteractive('df-46309a33-a902-4a0b-84ff-a2e927095bb4')\"\n",
              "              title=\"Convert this dataframe to an interactive table.\"\n",
              "              style=\"display:none;\">\n",
              "        \n",
              "  <svg xmlns=\"http://www.w3.org/2000/svg\" height=\"24px\"viewBox=\"0 0 24 24\"\n",
              "       width=\"24px\">\n",
              "    <path d=\"M0 0h24v24H0V0z\" fill=\"none\"/>\n",
              "    <path d=\"M18.56 5.44l.94 2.06.94-2.06 2.06-.94-2.06-.94-.94-2.06-.94 2.06-2.06.94zm-11 1L8.5 8.5l.94-2.06 2.06-.94-2.06-.94L8.5 2.5l-.94 2.06-2.06.94zm10 10l.94 2.06.94-2.06 2.06-.94-2.06-.94-.94-2.06-.94 2.06-2.06.94z\"/><path d=\"M17.41 7.96l-1.37-1.37c-.4-.4-.92-.59-1.43-.59-.52 0-1.04.2-1.43.59L10.3 9.45l-7.72 7.72c-.78.78-.78 2.05 0 2.83L4 21.41c.39.39.9.59 1.41.59.51 0 1.02-.2 1.41-.59l7.78-7.78 2.81-2.81c.8-.78.8-2.07 0-2.86zM5.41 20L4 18.59l7.72-7.72 1.47 1.35L5.41 20z\"/>\n",
              "  </svg>\n",
              "      </button>\n",
              "      \n",
              "  <style>\n",
              "    .colab-df-container {\n",
              "      display:flex;\n",
              "      flex-wrap:wrap;\n",
              "      gap: 12px;\n",
              "    }\n",
              "\n",
              "    .colab-df-convert {\n",
              "      background-color: #E8F0FE;\n",
              "      border: none;\n",
              "      border-radius: 50%;\n",
              "      cursor: pointer;\n",
              "      display: none;\n",
              "      fill: #1967D2;\n",
              "      height: 32px;\n",
              "      padding: 0 0 0 0;\n",
              "      width: 32px;\n",
              "    }\n",
              "\n",
              "    .colab-df-convert:hover {\n",
              "      background-color: #E2EBFA;\n",
              "      box-shadow: 0px 1px 2px rgba(60, 64, 67, 0.3), 0px 1px 3px 1px rgba(60, 64, 67, 0.15);\n",
              "      fill: #174EA6;\n",
              "    }\n",
              "\n",
              "    [theme=dark] .colab-df-convert {\n",
              "      background-color: #3B4455;\n",
              "      fill: #D2E3FC;\n",
              "    }\n",
              "\n",
              "    [theme=dark] .colab-df-convert:hover {\n",
              "      background-color: #434B5C;\n",
              "      box-shadow: 0px 1px 3px 1px rgba(0, 0, 0, 0.15);\n",
              "      filter: drop-shadow(0px 1px 2px rgba(0, 0, 0, 0.3));\n",
              "      fill: #FFFFFF;\n",
              "    }\n",
              "  </style>\n",
              "\n",
              "      <script>\n",
              "        const buttonEl =\n",
              "          document.querySelector('#df-46309a33-a902-4a0b-84ff-a2e927095bb4 button.colab-df-convert');\n",
              "        buttonEl.style.display =\n",
              "          google.colab.kernel.accessAllowed ? 'block' : 'none';\n",
              "\n",
              "        async function convertToInteractive(key) {\n",
              "          const element = document.querySelector('#df-46309a33-a902-4a0b-84ff-a2e927095bb4');\n",
              "          const dataTable =\n",
              "            await google.colab.kernel.invokeFunction('convertToInteractive',\n",
              "                                                     [key], {});\n",
              "          if (!dataTable) return;\n",
              "\n",
              "          const docLinkHtml = 'Like what you see? Visit the ' +\n",
              "            '<a target=\"_blank\" href=https://colab.research.google.com/notebooks/data_table.ipynb>data table notebook</a>'\n",
              "            + ' to learn more about interactive tables.';\n",
              "          element.innerHTML = '';\n",
              "          dataTable['output_type'] = 'display_data';\n",
              "          await google.colab.output.renderOutput(dataTable, element);\n",
              "          const docLink = document.createElement('div');\n",
              "          docLink.innerHTML = docLinkHtml;\n",
              "          element.appendChild(docLink);\n",
              "        }\n",
              "      </script>\n",
              "    </div>\n",
              "  </div>\n",
              "  "
            ]
          },
          "metadata": {},
          "execution_count": 36
        }
      ]
    },
    {
      "cell_type": "code",
      "source": [
        "!rm -rf ./pd_index\n",
        "pd_indexer = pt.DFIndexer(\"./pd_index\")\n",
        "indexref = pd_indexer.index(df[\"text\"], df['docno'])"
      ],
      "metadata": {
        "id": "Sei0Iy7F-H-v",
        "outputId": "d89cdae9-c267-4f84-c04a-32300b73c6c8",
        "colab": {
          "base_uri": "https://localhost:8080/"
        }
      },
      "execution_count": 37,
      "outputs": [
        {
          "output_type": "stream",
          "name": "stdout",
          "text": [
            "12:40:45.736 [main] WARN org.terrier.structures.indexing.Indexer - Adding an empty document to the index (7421) - further warnings are suppressed\n",
            "12:43:29.259 [main] WARN org.terrier.structures.indexing.Indexer - Indexed 17 empty documents\n"
          ]
        }
      ]
    },
    {
      "cell_type": "code",
      "source": [
        "pt.BatchRetrieve(indexref, num_results=100).search(\"George Washington\"))"
      ],
      "metadata": {
        "id": "YC8nIoAQ-Kjn",
        "outputId": "b9866fff-57df-4089-8f1d-55448709174b",
        "colab": {
          "base_uri": "https://localhost:8080/"
        }
      },
      "execution_count": 44,
      "outputs": [
        {
          "output_type": "execute_result",
          "data": {
            "text/plain": [
              "pandas.core.frame.DataFrame"
            ]
          },
          "metadata": {},
          "execution_count": 44
        }
      ]
    },
    {
      "cell_type": "code",
      "source": [
        "from train import *\n",
        "from graph import *\n",
        "from utils import get_hit\n",
        "import sys\n",
        "import re"
      ],
      "metadata": {
        "id": "c5cBgdJyBLGY"
      },
      "execution_count": 51,
      "outputs": []
    },
    {
      "cell_type": "code",
      "source": [
        "device = torch.device(\"cuda:0\" if torch.cuda.is_available() else \"cpu\")\n",
        "bert = BertModel.from_pretrained(\"bert-base-uncased\")\n",
        "tokenizer = BertTokenizer.from_pretrained(\"bert-base-uncased\")\n",
        "node_edge_detector = NodeEdgeDetector(bert, tokenizer, dropout=torch.tensor(0.5))\n",
        "optimizer = AdamW\n",
        "kw = {'lr':0.0002, 'weight_decay':0.1}\n",
        "tl = TrainingLoop(node_edge_detector, optimizer, True, **kw)\n",
        "loss = mse_loss\n",
        "tl.load()\n",
        "\n",
        "engine = pt.BatchRetrieve(indexref, num_results=100)"
      ],
      "metadata": {
        "id": "jtHL4oSDREJS",
        "outputId": "8cd6399f-4a98-49de-fa5d-4e89b256b82a",
        "colab": {
          "base_uri": "https://localhost:8080/"
        }
      },
      "execution_count": 52,
      "outputs": [
        {
          "output_type": "stream",
          "name": "stderr",
          "text": [
            "Some weights of the model checkpoint at bert-base-uncased were not used when initializing BertModel: ['cls.seq_relationship.weight', 'cls.predictions.transform.LayerNorm.weight', 'cls.predictions.transform.dense.bias', 'cls.predictions.transform.LayerNorm.bias', 'cls.seq_relationship.bias', 'cls.predictions.decoder.weight', 'cls.predictions.transform.dense.weight', 'cls.predictions.bias']\n",
            "- This IS expected if you are initializing BertModel from the checkpoint of a model trained on another task or with another architecture (e.g. initializing a BertForSequenceClassification model from a BertForPreTraining model).\n",
            "- This IS NOT expected if you are initializing BertModel from the checkpoint of a model that you expect to be exactly identical (initializing a BertForSequenceClassification model from a BertForSequenceClassification model).\n",
            "/usr/local/lib/python3.8/dist-packages/transformers/optimization.py:306: FutureWarning: This implementation of AdamW is deprecated and will be removed in a future version. Use the PyTorch implementation torch.optim.AdamW instead, or set `no_deprecation_warning=True` to disable this warning\n",
            "  warnings.warn(\n"
          ]
        }
      ]
    },
    {
      "cell_type": "code",
      "source": [
        "\n",
        "\n",
        "test_df = pd.read_excel('/content/test(1).xlsx')\n",
        "actual = test_df['Reverb_no'].to_list()\n",
        "system_results = []\n",
        "for index, row in tqdm(test_df.iterrows(), total=test_df.shape[0]):\n",
        "  node, edge = tl.readable_predict(device, _input=row['Question'], print_result=False)\n",
        "  node = ' '.join(node); edge = ' '.join(edge)\n",
        "  node = node.replace(' ##', ''); edge = edge.replace(' ##', '')\n",
        "  if index%1000 == 0:\n",
        "    print(f\"Question Number {index+1}: \", row['Question'].lower().split())\n",
        "    print(f'Node: {node}, Edge: {edge}')\n",
        "  q = ' '.join([node, edge])\n",
        "  q = re.sub(r'[^\\w]', ' ', q)\n",
        "  temp = engine.search(q)['docno'].to_list()\n",
        "  temp = [[int(item)] for item in temp]\n",
        "  system_results.append(temp)\n",
        "  \n",
        "print(get_hit(actual, system_results))\n"
      ],
      "metadata": {
        "id": "-wP8yY4dA_AJ",
        "outputId": "480e73fa-6110-4d81-be12-49088aaaa896",
        "colab": {
          "base_uri": "https://localhost:8080/"
        }
      },
      "execution_count": 57,
      "outputs": [
        {
          "output_type": "stream",
          "name": "stderr",
          "text": [
            "  0%|          | 5/5003 [00:00<02:08, 39.01it/s]"
          ]
        },
        {
          "output_type": "stream",
          "name": "stdout",
          "text": [
            "Question Number 1:  ['how', 'do', 'protocols', 'vary']\n",
            "Node: protocols, Edge: do vary\n"
          ]
        },
        {
          "output_type": "stream",
          "name": "stderr",
          "text": [
            " 20%|██        | 1012/5003 [00:18<01:11, 56.15it/s]"
          ]
        },
        {
          "output_type": "stream",
          "name": "stdout",
          "text": [
            "Question Number 1001:  ['who', 'broke', 'his', 'silence', 'on', 'plath']\n",
            "Node: plath, Edge: broke his silence on\n"
          ]
        },
        {
          "output_type": "stream",
          "name": "stderr",
          "text": [
            " 40%|████      | 2010/5003 [00:36<00:55, 53.93it/s]"
          ]
        },
        {
          "output_type": "stream",
          "name": "stdout",
          "text": [
            "Question Number 2001:  ['where', 'is', 'bone', 'grafting', 'used']\n",
            "Node: bone grafting, Edge: is used\n"
          ]
        },
        {
          "output_type": "stream",
          "name": "stderr",
          "text": [
            " 60%|██████    | 3007/5003 [00:55<00:37, 53.25it/s]"
          ]
        },
        {
          "output_type": "stream",
          "name": "stdout",
          "text": [
            "Question Number 3001:  ['of', 'what', 'does', 'ironpython', 'make', 'extensive', 'use']\n",
            "Node: ironpython, Edge: of does make extensive use\n"
          ]
        },
        {
          "output_type": "stream",
          "name": "stderr",
          "text": [
            " 80%|████████  | 4008/5003 [01:13<00:18, 55.04it/s]"
          ]
        },
        {
          "output_type": "stream",
          "name": "stdout",
          "text": [
            "Question Number 4001:  ['in', 'what', 'is', 'oliver', 'wounded']\n",
            "Node: oliver, Edge: in is wounded\n"
          ]
        },
        {
          "output_type": "stream",
          "name": "stderr",
          "text": [
            "100%|██████████| 5003/5003 [01:34<00:00, 53.16it/s]\n"
          ]
        },
        {
          "output_type": "stream",
          "name": "stdout",
          "text": [
            "Question Number 5001:  ['what', 'is', 'louise']\n",
            "Node: louise, Edge: is\n",
            "(0.6346192284629223, 0.8065160903457925, 0.8388966620027983, 0.8800719568259044, 0.956426144313412)\n"
          ]
        }
      ]
    },
    {
      "cell_type": "code",
      "source": [
        "!rm -rf ./pd_index\n",
        "pd_indexer = pt.DFIndexer(\"./pd_index\")\n",
        "indexref = pd_indexer.index(df[\"normal_text\"], df['docno'])\n",
        "engine = pt.BatchRetrieve(indexref, num_results=100)\n"
      ],
      "metadata": {
        "id": "uujduuGuR6uR",
        "outputId": "4d7b6dcc-d8ec-4391-a3c1-f12551c7bffd",
        "colab": {
          "base_uri": "https://localhost:8080/"
        }
      },
      "execution_count": 58,
      "outputs": [
        {
          "output_type": "stream",
          "name": "stdout",
          "text": [
            "13:13:59.216 [main] WARN org.terrier.structures.indexing.Indexer - Adding an empty document to the index (7421) - further warnings are suppressed\n",
            "13:16:47.881 [main] WARN org.terrier.structures.indexing.Indexer - Indexed 19 empty documents\n"
          ]
        }
      ]
    },
    {
      "cell_type": "code",
      "source": [
        "test_df = pd.read_excel('/content/test(1).xlsx')\n",
        "actual = test_df['Reverb_no'].to_list()\n",
        "system_results = []\n",
        "for index, row in tqdm(test_df.iterrows(), total=test_df.shape[0]):\n",
        "  node, edge = tl.readable_predict(device, _input=row['Question'], print_result=False)\n",
        "  node = ' '.join(node); edge = ' '.join(edge)\n",
        "  node = node.replace(' ##', ''); edge = edge.replace(' ##', '')\n",
        "  if index%1000 == 0:\n",
        "    print(f\"Question Number {index+1}: \", row['Question'].lower().split())\n",
        "    print(f'Node: {node}, Edge: {edge}')\n",
        "  q = ' '.join([node, edge])\n",
        "  q = re.sub(r'[^\\w]', ' ', q)\n",
        "  temp = engine.search(q)['docno'].to_list()\n",
        "  temp = [[int(item)] for item in temp]\n",
        "  system_results.append(temp)\n",
        "  \n",
        "print(get_hit(actual, system_results))\n"
      ],
      "metadata": {
        "id": "EVXtLdWqThyr",
        "outputId": "762beb90-8cc4-4bb2-87e8-80b4c3b634d7",
        "colab": {
          "base_uri": "https://localhost:8080/"
        }
      },
      "execution_count": 59,
      "outputs": [
        {
          "metadata": {
            "tags": null
          },
          "name": "stderr",
          "output_type": "stream",
          "text": [
            "  0%|          | 5/5003 [00:00<01:47, 46.42it/s]"
          ]
        },
        {
          "metadata": {
            "tags": null
          },
          "name": "stdout",
          "output_type": "stream",
          "text": [
            "Question Number 1:  ['how', 'do', 'protocols', 'vary']\n",
            "Node: protocols, Edge: do vary\n"
          ]
        },
        {
          "metadata": {
            "tags": null
          },
          "name": "stderr",
          "output_type": "stream",
          "text": [
            " 20%|██        | 1009/5003 [00:18<01:08, 58.26it/s]"
          ]
        },
        {
          "metadata": {
            "tags": null
          },
          "name": "stdout",
          "output_type": "stream",
          "text": [
            "Question Number 1001:  ['who', 'broke', 'his', 'silence', 'on', 'plath']\n",
            "Node: plath, Edge: broke his silence on\n"
          ]
        },
        {
          "metadata": {
            "tags": null
          },
          "name": "stderr",
          "output_type": "stream",
          "text": [
            " 40%|████      | 2007/5003 [00:36<00:57, 52.53it/s]"
          ]
        },
        {
          "metadata": {
            "tags": null
          },
          "name": "stdout",
          "output_type": "stream",
          "text": [
            "Question Number 2001:  ['where', 'is', 'bone', 'grafting', 'used']\n",
            "Node: bone grafting, Edge: is used\n"
          ]
        },
        {
          "metadata": {
            "tags": null
          },
          "name": "stderr",
          "output_type": "stream",
          "text": [
            " 60%|██████    | 3009/5003 [00:54<00:36, 55.29it/s]"
          ]
        },
        {
          "metadata": {
            "tags": null
          },
          "name": "stdout",
          "output_type": "stream",
          "text": [
            "Question Number 3001:  ['of', 'what', 'does', 'ironpython', 'make', 'extensive', 'use']\n",
            "Node: ironpython, Edge: of does make extensive use\n"
          ]
        },
        {
          "metadata": {
            "tags": null
          },
          "name": "stderr",
          "output_type": "stream",
          "text": [
            " 80%|████████  | 4006/5003 [01:13<00:17, 58.17it/s]"
          ]
        },
        {
          "metadata": {
            "tags": null
          },
          "name": "stdout",
          "output_type": "stream",
          "text": [
            "Question Number 4001:  ['in', 'what', 'is', 'oliver', 'wounded']\n",
            "Node: oliver, Edge: in is wounded\n"
          ]
        },
        {
          "metadata": {
            "tags": null
          },
          "name": "stderr",
          "output_type": "stream",
          "text": [
            "100%|██████████| 5003/5003 [01:31<00:00, 54.91it/s]"
          ]
        },
        {
          "metadata": {
            "tags": null
          },
          "name": "stdout",
          "output_type": "stream",
          "text": [
            "Question Number 5001:  ['what', 'is', 'louise']\n",
            "Node: louise, Edge: is\n",
            "(0.5984409354387368, 0.7621427143713772, 0.7937237657405557, 0.8315010993403957, 0.9384369378372976)\n"
          ]
        },
        {
          "metadata": {
            "tags": null
          },
          "name": "stderr",
          "output_type": "stream",
          "text": [
            "\n"
          ]
        }
      ]
    },
    {
      "cell_type": "code",
      "source": [
        "!grep 267285 /content/reverb_wikipedia_tuples-1.1.txt"
      ],
      "metadata": {
        "id": "8nNTYLTnCjd-",
        "outputId": "76bb9f07-d6f1-4588-e17b-08489c35593a",
        "colab": {
          "base_uri": "https://localhost:8080/"
        }
      },
      "execution_count": 23,
      "outputs": [
        {
          "output_type": "stream",
          "name": "stdout",
          "text": [
            "Binary file /content/reverb_wikipedia_tuples-1.1.txt matches\n"
          ]
        }
      ]
    },
    {
      "cell_type": "code",
      "source": [],
      "metadata": {
        "id": "eQtLN_3nInyo"
      },
      "execution_count": null,
      "outputs": []
    }
  ]
}