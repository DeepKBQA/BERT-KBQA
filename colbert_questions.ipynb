{
  "nbformat": 4,
  "nbformat_minor": 0,
  "metadata": {
    "accelerator": "GPU",
    "colab": {
      "name": "train_eval.ipynb",
      "provenance": [],
      "include_colab_link": true
    },
    "kernelspec": {
      "display_name": "Python 3",
      "language": "python",
      "name": "python3"
    },
    "language_info": {
      "codemirror_mode": {
        "name": "ipython",
        "version": 3
      },
      "file_extension": ".py",
      "mimetype": "text/x-python",
      "name": "python",
      "nbconvert_exporter": "python",
      "pygments_lexer": "ipython3",
      "version": "3.8.5"
    },
    "widgets": {
      "application/vnd.jupyter.widget-state+json": {
        "6c90b24b867e4a7293db85a9aa75b8c4": {
          "model_module": "@jupyter-widgets/controls",
          "model_name": "HBoxModel",
          "model_module_version": "1.5.0",
          "state": {
            "_dom_classes": [],
            "_model_module": "@jupyter-widgets/controls",
            "_model_module_version": "1.5.0",
            "_model_name": "HBoxModel",
            "_view_count": null,
            "_view_module": "@jupyter-widgets/controls",
            "_view_module_version": "1.5.0",
            "_view_name": "HBoxView",
            "box_style": "",
            "children": [
              "IPY_MODEL_f007da5115014480a3b51ddb412044ee",
              "IPY_MODEL_f8a8ea4033f3465c8f80f44c3153c025",
              "IPY_MODEL_aed3802eb81f44a3bddc9cd26b2eb834"
            ],
            "layout": "IPY_MODEL_c95a3315fb5343b8beac0c6e880ee962"
          }
        },
        "f007da5115014480a3b51ddb412044ee": {
          "model_module": "@jupyter-widgets/controls",
          "model_name": "HTMLModel",
          "model_module_version": "1.5.0",
          "state": {
            "_dom_classes": [],
            "_model_module": "@jupyter-widgets/controls",
            "_model_module_version": "1.5.0",
            "_model_name": "HTMLModel",
            "_view_count": null,
            "_view_module": "@jupyter-widgets/controls",
            "_view_module_version": "1.5.0",
            "_view_name": "HTMLView",
            "description": "",
            "description_tooltip": null,
            "layout": "IPY_MODEL_d99781d450664e9090228f29c869ee42",
            "placeholder": "​",
            "style": "IPY_MODEL_0c822f469ac2484d9ba7ad3455f95594",
            "value": "100%"
          }
        },
        "f8a8ea4033f3465c8f80f44c3153c025": {
          "model_module": "@jupyter-widgets/controls",
          "model_name": "FloatProgressModel",
          "model_module_version": "1.5.0",
          "state": {
            "_dom_classes": [],
            "_model_module": "@jupyter-widgets/controls",
            "_model_module_version": "1.5.0",
            "_model_name": "FloatProgressModel",
            "_view_count": null,
            "_view_module": "@jupyter-widgets/controls",
            "_view_module_version": "1.5.0",
            "_view_name": "ProgressView",
            "bar_style": "success",
            "description": "",
            "description_tooltip": null,
            "layout": "IPY_MODEL_11b0d380eb494094bd731695a8980640",
            "max": 1187618437,
            "min": 0,
            "orientation": "horizontal",
            "style": "IPY_MODEL_36a01bb943654310a827aecac9071dfd",
            "value": 1187618437
          }
        },
        "aed3802eb81f44a3bddc9cd26b2eb834": {
          "model_module": "@jupyter-widgets/controls",
          "model_name": "HTMLModel",
          "model_module_version": "1.5.0",
          "state": {
            "_dom_classes": [],
            "_model_module": "@jupyter-widgets/controls",
            "_model_module_version": "1.5.0",
            "_model_name": "HTMLModel",
            "_view_count": null,
            "_view_module": "@jupyter-widgets/controls",
            "_view_module_version": "1.5.0",
            "_view_name": "HTMLView",
            "description": "",
            "description_tooltip": null,
            "layout": "IPY_MODEL_6ca18e1964f84a94980b39b6d3615e50",
            "placeholder": "​",
            "style": "IPY_MODEL_8c8a30c8b65b4227af5fc441407315d8",
            "value": " 1.11G/1.11G [01:34&lt;00:00, 7.95MB/s]"
          }
        },
        "c95a3315fb5343b8beac0c6e880ee962": {
          "model_module": "@jupyter-widgets/base",
          "model_name": "LayoutModel",
          "model_module_version": "1.2.0",
          "state": {
            "_model_module": "@jupyter-widgets/base",
            "_model_module_version": "1.2.0",
            "_model_name": "LayoutModel",
            "_view_count": null,
            "_view_module": "@jupyter-widgets/base",
            "_view_module_version": "1.2.0",
            "_view_name": "LayoutView",
            "align_content": null,
            "align_items": null,
            "align_self": null,
            "border": null,
            "bottom": null,
            "display": null,
            "flex": null,
            "flex_flow": null,
            "grid_area": null,
            "grid_auto_columns": null,
            "grid_auto_flow": null,
            "grid_auto_rows": null,
            "grid_column": null,
            "grid_gap": null,
            "grid_row": null,
            "grid_template_areas": null,
            "grid_template_columns": null,
            "grid_template_rows": null,
            "height": null,
            "justify_content": null,
            "justify_items": null,
            "left": null,
            "margin": null,
            "max_height": null,
            "max_width": null,
            "min_height": null,
            "min_width": null,
            "object_fit": null,
            "object_position": null,
            "order": null,
            "overflow": null,
            "overflow_x": null,
            "overflow_y": null,
            "padding": null,
            "right": null,
            "top": null,
            "visibility": null,
            "width": null
          }
        },
        "d99781d450664e9090228f29c869ee42": {
          "model_module": "@jupyter-widgets/base",
          "model_name": "LayoutModel",
          "model_module_version": "1.2.0",
          "state": {
            "_model_module": "@jupyter-widgets/base",
            "_model_module_version": "1.2.0",
            "_model_name": "LayoutModel",
            "_view_count": null,
            "_view_module": "@jupyter-widgets/base",
            "_view_module_version": "1.2.0",
            "_view_name": "LayoutView",
            "align_content": null,
            "align_items": null,
            "align_self": null,
            "border": null,
            "bottom": null,
            "display": null,
            "flex": null,
            "flex_flow": null,
            "grid_area": null,
            "grid_auto_columns": null,
            "grid_auto_flow": null,
            "grid_auto_rows": null,
            "grid_column": null,
            "grid_gap": null,
            "grid_row": null,
            "grid_template_areas": null,
            "grid_template_columns": null,
            "grid_template_rows": null,
            "height": null,
            "justify_content": null,
            "justify_items": null,
            "left": null,
            "margin": null,
            "max_height": null,
            "max_width": null,
            "min_height": null,
            "min_width": null,
            "object_fit": null,
            "object_position": null,
            "order": null,
            "overflow": null,
            "overflow_x": null,
            "overflow_y": null,
            "padding": null,
            "right": null,
            "top": null,
            "visibility": null,
            "width": null
          }
        },
        "0c822f469ac2484d9ba7ad3455f95594": {
          "model_module": "@jupyter-widgets/controls",
          "model_name": "DescriptionStyleModel",
          "model_module_version": "1.5.0",
          "state": {
            "_model_module": "@jupyter-widgets/controls",
            "_model_module_version": "1.5.0",
            "_model_name": "DescriptionStyleModel",
            "_view_count": null,
            "_view_module": "@jupyter-widgets/base",
            "_view_module_version": "1.2.0",
            "_view_name": "StyleView",
            "description_width": ""
          }
        },
        "11b0d380eb494094bd731695a8980640": {
          "model_module": "@jupyter-widgets/base",
          "model_name": "LayoutModel",
          "model_module_version": "1.2.0",
          "state": {
            "_model_module": "@jupyter-widgets/base",
            "_model_module_version": "1.2.0",
            "_model_name": "LayoutModel",
            "_view_count": null,
            "_view_module": "@jupyter-widgets/base",
            "_view_module_version": "1.2.0",
            "_view_name": "LayoutView",
            "align_content": null,
            "align_items": null,
            "align_self": null,
            "border": null,
            "bottom": null,
            "display": null,
            "flex": null,
            "flex_flow": null,
            "grid_area": null,
            "grid_auto_columns": null,
            "grid_auto_flow": null,
            "grid_auto_rows": null,
            "grid_column": null,
            "grid_gap": null,
            "grid_row": null,
            "grid_template_areas": null,
            "grid_template_columns": null,
            "grid_template_rows": null,
            "height": null,
            "justify_content": null,
            "justify_items": null,
            "left": null,
            "margin": null,
            "max_height": null,
            "max_width": null,
            "min_height": null,
            "min_width": null,
            "object_fit": null,
            "object_position": null,
            "order": null,
            "overflow": null,
            "overflow_x": null,
            "overflow_y": null,
            "padding": null,
            "right": null,
            "top": null,
            "visibility": null,
            "width": null
          }
        },
        "36a01bb943654310a827aecac9071dfd": {
          "model_module": "@jupyter-widgets/controls",
          "model_name": "ProgressStyleModel",
          "model_module_version": "1.5.0",
          "state": {
            "_model_module": "@jupyter-widgets/controls",
            "_model_module_version": "1.5.0",
            "_model_name": "ProgressStyleModel",
            "_view_count": null,
            "_view_module": "@jupyter-widgets/base",
            "_view_module_version": "1.2.0",
            "_view_name": "StyleView",
            "bar_color": null,
            "description_width": ""
          }
        },
        "6ca18e1964f84a94980b39b6d3615e50": {
          "model_module": "@jupyter-widgets/base",
          "model_name": "LayoutModel",
          "model_module_version": "1.2.0",
          "state": {
            "_model_module": "@jupyter-widgets/base",
            "_model_module_version": "1.2.0",
            "_model_name": "LayoutModel",
            "_view_count": null,
            "_view_module": "@jupyter-widgets/base",
            "_view_module_version": "1.2.0",
            "_view_name": "LayoutView",
            "align_content": null,
            "align_items": null,
            "align_self": null,
            "border": null,
            "bottom": null,
            "display": null,
            "flex": null,
            "flex_flow": null,
            "grid_area": null,
            "grid_auto_columns": null,
            "grid_auto_flow": null,
            "grid_auto_rows": null,
            "grid_column": null,
            "grid_gap": null,
            "grid_row": null,
            "grid_template_areas": null,
            "grid_template_columns": null,
            "grid_template_rows": null,
            "height": null,
            "justify_content": null,
            "justify_items": null,
            "left": null,
            "margin": null,
            "max_height": null,
            "max_width": null,
            "min_height": null,
            "min_width": null,
            "object_fit": null,
            "object_position": null,
            "order": null,
            "overflow": null,
            "overflow_x": null,
            "overflow_y": null,
            "padding": null,
            "right": null,
            "top": null,
            "visibility": null,
            "width": null
          }
        },
        "8c8a30c8b65b4227af5fc441407315d8": {
          "model_module": "@jupyter-widgets/controls",
          "model_name": "DescriptionStyleModel",
          "model_module_version": "1.5.0",
          "state": {
            "_model_module": "@jupyter-widgets/controls",
            "_model_module_version": "1.5.0",
            "_model_name": "DescriptionStyleModel",
            "_view_count": null,
            "_view_module": "@jupyter-widgets/base",
            "_view_module_version": "1.2.0",
            "_view_name": "StyleView",
            "description_width": ""
          }
        },
        "db5984445b0c4655a1af0d5b41cc9771": {
          "model_module": "@jupyter-widgets/controls",
          "model_name": "HBoxModel",
          "model_module_version": "1.5.0",
          "state": {
            "_dom_classes": [],
            "_model_module": "@jupyter-widgets/controls",
            "_model_module_version": "1.5.0",
            "_model_name": "HBoxModel",
            "_view_count": null,
            "_view_module": "@jupyter-widgets/controls",
            "_view_module_version": "1.5.0",
            "_view_name": "HBoxView",
            "box_style": "",
            "children": [
              "IPY_MODEL_51dd0b1b9980465b942606fa8ddeec0f",
              "IPY_MODEL_45505c6443044e8b8411c408e7a3ddd8",
              "IPY_MODEL_0c0badd239a844e4ad917ad52d470657"
            ],
            "layout": "IPY_MODEL_e44cf8c0b48e45db94057fa19537ce2e"
          }
        },
        "51dd0b1b9980465b942606fa8ddeec0f": {
          "model_module": "@jupyter-widgets/controls",
          "model_name": "HTMLModel",
          "model_module_version": "1.5.0",
          "state": {
            "_dom_classes": [],
            "_model_module": "@jupyter-widgets/controls",
            "_model_module_version": "1.5.0",
            "_model_name": "HTMLModel",
            "_view_count": null,
            "_view_module": "@jupyter-widgets/controls",
            "_view_module_version": "1.5.0",
            "_view_name": "HTMLView",
            "description": "",
            "description_tooltip": null,
            "layout": "IPY_MODEL_ee90a20043ac4db8b74a96361483751b",
            "placeholder": "​",
            "style": "IPY_MODEL_bc95985ee0c84562837ebe3e73a61180",
            "value": "Downloading: 100%"
          }
        },
        "45505c6443044e8b8411c408e7a3ddd8": {
          "model_module": "@jupyter-widgets/controls",
          "model_name": "FloatProgressModel",
          "model_module_version": "1.5.0",
          "state": {
            "_dom_classes": [],
            "_model_module": "@jupyter-widgets/controls",
            "_model_module_version": "1.5.0",
            "_model_name": "FloatProgressModel",
            "_view_count": null,
            "_view_module": "@jupyter-widgets/controls",
            "_view_module_version": "1.5.0",
            "_view_name": "ProgressView",
            "bar_style": "success",
            "description": "",
            "description_tooltip": null,
            "layout": "IPY_MODEL_a51ce9a45eb74b1f96a2475dc31feb96",
            "max": 466062,
            "min": 0,
            "orientation": "horizontal",
            "style": "IPY_MODEL_e5c524d0c0cc4c06b2ffa148800a9af4",
            "value": 466062
          }
        },
        "0c0badd239a844e4ad917ad52d470657": {
          "model_module": "@jupyter-widgets/controls",
          "model_name": "HTMLModel",
          "model_module_version": "1.5.0",
          "state": {
            "_dom_classes": [],
            "_model_module": "@jupyter-widgets/controls",
            "_model_module_version": "1.5.0",
            "_model_name": "HTMLModel",
            "_view_count": null,
            "_view_module": "@jupyter-widgets/controls",
            "_view_module_version": "1.5.0",
            "_view_name": "HTMLView",
            "description": "",
            "description_tooltip": null,
            "layout": "IPY_MODEL_928ccf94d86c4969869633793754cd57",
            "placeholder": "​",
            "style": "IPY_MODEL_54d431f4a0814777bc26a6f090cc50e8",
            "value": " 466k/466k [00:01&lt;00:00, 479kB/s]"
          }
        },
        "e44cf8c0b48e45db94057fa19537ce2e": {
          "model_module": "@jupyter-widgets/base",
          "model_name": "LayoutModel",
          "model_module_version": "1.2.0",
          "state": {
            "_model_module": "@jupyter-widgets/base",
            "_model_module_version": "1.2.0",
            "_model_name": "LayoutModel",
            "_view_count": null,
            "_view_module": "@jupyter-widgets/base",
            "_view_module_version": "1.2.0",
            "_view_name": "LayoutView",
            "align_content": null,
            "align_items": null,
            "align_self": null,
            "border": null,
            "bottom": null,
            "display": null,
            "flex": null,
            "flex_flow": null,
            "grid_area": null,
            "grid_auto_columns": null,
            "grid_auto_flow": null,
            "grid_auto_rows": null,
            "grid_column": null,
            "grid_gap": null,
            "grid_row": null,
            "grid_template_areas": null,
            "grid_template_columns": null,
            "grid_template_rows": null,
            "height": null,
            "justify_content": null,
            "justify_items": null,
            "left": null,
            "margin": null,
            "max_height": null,
            "max_width": null,
            "min_height": null,
            "min_width": null,
            "object_fit": null,
            "object_position": null,
            "order": null,
            "overflow": null,
            "overflow_x": null,
            "overflow_y": null,
            "padding": null,
            "right": null,
            "top": null,
            "visibility": null,
            "width": null
          }
        },
        "ee90a20043ac4db8b74a96361483751b": {
          "model_module": "@jupyter-widgets/base",
          "model_name": "LayoutModel",
          "model_module_version": "1.2.0",
          "state": {
            "_model_module": "@jupyter-widgets/base",
            "_model_module_version": "1.2.0",
            "_model_name": "LayoutModel",
            "_view_count": null,
            "_view_module": "@jupyter-widgets/base",
            "_view_module_version": "1.2.0",
            "_view_name": "LayoutView",
            "align_content": null,
            "align_items": null,
            "align_self": null,
            "border": null,
            "bottom": null,
            "display": null,
            "flex": null,
            "flex_flow": null,
            "grid_area": null,
            "grid_auto_columns": null,
            "grid_auto_flow": null,
            "grid_auto_rows": null,
            "grid_column": null,
            "grid_gap": null,
            "grid_row": null,
            "grid_template_areas": null,
            "grid_template_columns": null,
            "grid_template_rows": null,
            "height": null,
            "justify_content": null,
            "justify_items": null,
            "left": null,
            "margin": null,
            "max_height": null,
            "max_width": null,
            "min_height": null,
            "min_width": null,
            "object_fit": null,
            "object_position": null,
            "order": null,
            "overflow": null,
            "overflow_x": null,
            "overflow_y": null,
            "padding": null,
            "right": null,
            "top": null,
            "visibility": null,
            "width": null
          }
        },
        "bc95985ee0c84562837ebe3e73a61180": {
          "model_module": "@jupyter-widgets/controls",
          "model_name": "DescriptionStyleModel",
          "model_module_version": "1.5.0",
          "state": {
            "_model_module": "@jupyter-widgets/controls",
            "_model_module_version": "1.5.0",
            "_model_name": "DescriptionStyleModel",
            "_view_count": null,
            "_view_module": "@jupyter-widgets/base",
            "_view_module_version": "1.2.0",
            "_view_name": "StyleView",
            "description_width": ""
          }
        },
        "a51ce9a45eb74b1f96a2475dc31feb96": {
          "model_module": "@jupyter-widgets/base",
          "model_name": "LayoutModel",
          "model_module_version": "1.2.0",
          "state": {
            "_model_module": "@jupyter-widgets/base",
            "_model_module_version": "1.2.0",
            "_model_name": "LayoutModel",
            "_view_count": null,
            "_view_module": "@jupyter-widgets/base",
            "_view_module_version": "1.2.0",
            "_view_name": "LayoutView",
            "align_content": null,
            "align_items": null,
            "align_self": null,
            "border": null,
            "bottom": null,
            "display": null,
            "flex": null,
            "flex_flow": null,
            "grid_area": null,
            "grid_auto_columns": null,
            "grid_auto_flow": null,
            "grid_auto_rows": null,
            "grid_column": null,
            "grid_gap": null,
            "grid_row": null,
            "grid_template_areas": null,
            "grid_template_columns": null,
            "grid_template_rows": null,
            "height": null,
            "justify_content": null,
            "justify_items": null,
            "left": null,
            "margin": null,
            "max_height": null,
            "max_width": null,
            "min_height": null,
            "min_width": null,
            "object_fit": null,
            "object_position": null,
            "order": null,
            "overflow": null,
            "overflow_x": null,
            "overflow_y": null,
            "padding": null,
            "right": null,
            "top": null,
            "visibility": null,
            "width": null
          }
        },
        "e5c524d0c0cc4c06b2ffa148800a9af4": {
          "model_module": "@jupyter-widgets/controls",
          "model_name": "ProgressStyleModel",
          "model_module_version": "1.5.0",
          "state": {
            "_model_module": "@jupyter-widgets/controls",
            "_model_module_version": "1.5.0",
            "_model_name": "ProgressStyleModel",
            "_view_count": null,
            "_view_module": "@jupyter-widgets/base",
            "_view_module_version": "1.2.0",
            "_view_name": "StyleView",
            "bar_color": null,
            "description_width": ""
          }
        },
        "928ccf94d86c4969869633793754cd57": {
          "model_module": "@jupyter-widgets/base",
          "model_name": "LayoutModel",
          "model_module_version": "1.2.0",
          "state": {
            "_model_module": "@jupyter-widgets/base",
            "_model_module_version": "1.2.0",
            "_model_name": "LayoutModel",
            "_view_count": null,
            "_view_module": "@jupyter-widgets/base",
            "_view_module_version": "1.2.0",
            "_view_name": "LayoutView",
            "align_content": null,
            "align_items": null,
            "align_self": null,
            "border": null,
            "bottom": null,
            "display": null,
            "flex": null,
            "flex_flow": null,
            "grid_area": null,
            "grid_auto_columns": null,
            "grid_auto_flow": null,
            "grid_auto_rows": null,
            "grid_column": null,
            "grid_gap": null,
            "grid_row": null,
            "grid_template_areas": null,
            "grid_template_columns": null,
            "grid_template_rows": null,
            "height": null,
            "justify_content": null,
            "justify_items": null,
            "left": null,
            "margin": null,
            "max_height": null,
            "max_width": null,
            "min_height": null,
            "min_width": null,
            "object_fit": null,
            "object_position": null,
            "order": null,
            "overflow": null,
            "overflow_x": null,
            "overflow_y": null,
            "padding": null,
            "right": null,
            "top": null,
            "visibility": null,
            "width": null
          }
        },
        "54d431f4a0814777bc26a6f090cc50e8": {
          "model_module": "@jupyter-widgets/controls",
          "model_name": "DescriptionStyleModel",
          "model_module_version": "1.5.0",
          "state": {
            "_model_module": "@jupyter-widgets/controls",
            "_model_module_version": "1.5.0",
            "_model_name": "DescriptionStyleModel",
            "_view_count": null,
            "_view_module": "@jupyter-widgets/base",
            "_view_module_version": "1.2.0",
            "_view_name": "StyleView",
            "description_width": ""
          }
        },
        "605e3fae3e654184965d9014e9afc2a3": {
          "model_module": "@jupyter-widgets/controls",
          "model_name": "HBoxModel",
          "model_module_version": "1.5.0",
          "state": {
            "_dom_classes": [],
            "_model_module": "@jupyter-widgets/controls",
            "_model_module_version": "1.5.0",
            "_model_name": "HBoxModel",
            "_view_count": null,
            "_view_module": "@jupyter-widgets/controls",
            "_view_module_version": "1.5.0",
            "_view_name": "HBoxView",
            "box_style": "",
            "children": [
              "IPY_MODEL_fcbadebdc9e94932a46242717fb591f3",
              "IPY_MODEL_7f3fee6a38534257925d006b100d1883",
              "IPY_MODEL_7cfbc31e807b4951b4949a582bc6c6ed"
            ],
            "layout": "IPY_MODEL_89effdab6cbb42da94c958aa14a24888"
          }
        },
        "fcbadebdc9e94932a46242717fb591f3": {
          "model_module": "@jupyter-widgets/controls",
          "model_name": "HTMLModel",
          "model_module_version": "1.5.0",
          "state": {
            "_dom_classes": [],
            "_model_module": "@jupyter-widgets/controls",
            "_model_module_version": "1.5.0",
            "_model_name": "HTMLModel",
            "_view_count": null,
            "_view_module": "@jupyter-widgets/controls",
            "_view_module_version": "1.5.0",
            "_view_name": "HTMLView",
            "description": "",
            "description_tooltip": null,
            "layout": "IPY_MODEL_2c44275f56004370a121dc69b451eec6",
            "placeholder": "​",
            "style": "IPY_MODEL_41bc90490dff4c899458abb07bc67cf9",
            "value": "Loading index shards to memory: 100%"
          }
        },
        "7f3fee6a38534257925d006b100d1883": {
          "model_module": "@jupyter-widgets/controls",
          "model_name": "FloatProgressModel",
          "model_module_version": "1.5.0",
          "state": {
            "_dom_classes": [],
            "_model_module": "@jupyter-widgets/controls",
            "_model_module_version": "1.5.0",
            "_model_name": "FloatProgressModel",
            "_view_count": null,
            "_view_module": "@jupyter-widgets/controls",
            "_view_module_version": "1.5.0",
            "_view_name": "ProgressView",
            "bar_style": "success",
            "description": "",
            "description_tooltip": null,
            "layout": "IPY_MODEL_38c30bbe4b97426bb318e99f35d11cb9",
            "max": 6,
            "min": 0,
            "orientation": "horizontal",
            "style": "IPY_MODEL_74ea8de68ecc488da5e2621f63b1675e",
            "value": 6
          }
        },
        "7cfbc31e807b4951b4949a582bc6c6ed": {
          "model_module": "@jupyter-widgets/controls",
          "model_name": "HTMLModel",
          "model_module_version": "1.5.0",
          "state": {
            "_dom_classes": [],
            "_model_module": "@jupyter-widgets/controls",
            "_model_module_version": "1.5.0",
            "_model_name": "HTMLModel",
            "_view_count": null,
            "_view_module": "@jupyter-widgets/controls",
            "_view_module_version": "1.5.0",
            "_view_name": "HTMLView",
            "description": "",
            "description_tooltip": null,
            "layout": "IPY_MODEL_1eaf1ebd374f4446a7235ab13c53f32b",
            "placeholder": "​",
            "style": "IPY_MODEL_56354a198ec04078a8170d269644bee5",
            "value": " 6/6 [00:01&lt;00:00,  6.60shard/s]"
          }
        },
        "89effdab6cbb42da94c958aa14a24888": {
          "model_module": "@jupyter-widgets/base",
          "model_name": "LayoutModel",
          "model_module_version": "1.2.0",
          "state": {
            "_model_module": "@jupyter-widgets/base",
            "_model_module_version": "1.2.0",
            "_model_name": "LayoutModel",
            "_view_count": null,
            "_view_module": "@jupyter-widgets/base",
            "_view_module_version": "1.2.0",
            "_view_name": "LayoutView",
            "align_content": null,
            "align_items": null,
            "align_self": null,
            "border": null,
            "bottom": null,
            "display": null,
            "flex": null,
            "flex_flow": null,
            "grid_area": null,
            "grid_auto_columns": null,
            "grid_auto_flow": null,
            "grid_auto_rows": null,
            "grid_column": null,
            "grid_gap": null,
            "grid_row": null,
            "grid_template_areas": null,
            "grid_template_columns": null,
            "grid_template_rows": null,
            "height": null,
            "justify_content": null,
            "justify_items": null,
            "left": null,
            "margin": null,
            "max_height": null,
            "max_width": null,
            "min_height": null,
            "min_width": null,
            "object_fit": null,
            "object_position": null,
            "order": null,
            "overflow": null,
            "overflow_x": null,
            "overflow_y": null,
            "padding": null,
            "right": null,
            "top": null,
            "visibility": null,
            "width": null
          }
        },
        "2c44275f56004370a121dc69b451eec6": {
          "model_module": "@jupyter-widgets/base",
          "model_name": "LayoutModel",
          "model_module_version": "1.2.0",
          "state": {
            "_model_module": "@jupyter-widgets/base",
            "_model_module_version": "1.2.0",
            "_model_name": "LayoutModel",
            "_view_count": null,
            "_view_module": "@jupyter-widgets/base",
            "_view_module_version": "1.2.0",
            "_view_name": "LayoutView",
            "align_content": null,
            "align_items": null,
            "align_self": null,
            "border": null,
            "bottom": null,
            "display": null,
            "flex": null,
            "flex_flow": null,
            "grid_area": null,
            "grid_auto_columns": null,
            "grid_auto_flow": null,
            "grid_auto_rows": null,
            "grid_column": null,
            "grid_gap": null,
            "grid_row": null,
            "grid_template_areas": null,
            "grid_template_columns": null,
            "grid_template_rows": null,
            "height": null,
            "justify_content": null,
            "justify_items": null,
            "left": null,
            "margin": null,
            "max_height": null,
            "max_width": null,
            "min_height": null,
            "min_width": null,
            "object_fit": null,
            "object_position": null,
            "order": null,
            "overflow": null,
            "overflow_x": null,
            "overflow_y": null,
            "padding": null,
            "right": null,
            "top": null,
            "visibility": null,
            "width": null
          }
        },
        "41bc90490dff4c899458abb07bc67cf9": {
          "model_module": "@jupyter-widgets/controls",
          "model_name": "DescriptionStyleModel",
          "model_module_version": "1.5.0",
          "state": {
            "_model_module": "@jupyter-widgets/controls",
            "_model_module_version": "1.5.0",
            "_model_name": "DescriptionStyleModel",
            "_view_count": null,
            "_view_module": "@jupyter-widgets/base",
            "_view_module_version": "1.2.0",
            "_view_name": "StyleView",
            "description_width": ""
          }
        },
        "38c30bbe4b97426bb318e99f35d11cb9": {
          "model_module": "@jupyter-widgets/base",
          "model_name": "LayoutModel",
          "model_module_version": "1.2.0",
          "state": {
            "_model_module": "@jupyter-widgets/base",
            "_model_module_version": "1.2.0",
            "_model_name": "LayoutModel",
            "_view_count": null,
            "_view_module": "@jupyter-widgets/base",
            "_view_module_version": "1.2.0",
            "_view_name": "LayoutView",
            "align_content": null,
            "align_items": null,
            "align_self": null,
            "border": null,
            "bottom": null,
            "display": null,
            "flex": null,
            "flex_flow": null,
            "grid_area": null,
            "grid_auto_columns": null,
            "grid_auto_flow": null,
            "grid_auto_rows": null,
            "grid_column": null,
            "grid_gap": null,
            "grid_row": null,
            "grid_template_areas": null,
            "grid_template_columns": null,
            "grid_template_rows": null,
            "height": null,
            "justify_content": null,
            "justify_items": null,
            "left": null,
            "margin": null,
            "max_height": null,
            "max_width": null,
            "min_height": null,
            "min_width": null,
            "object_fit": null,
            "object_position": null,
            "order": null,
            "overflow": null,
            "overflow_x": null,
            "overflow_y": null,
            "padding": null,
            "right": null,
            "top": null,
            "visibility": null,
            "width": null
          }
        },
        "74ea8de68ecc488da5e2621f63b1675e": {
          "model_module": "@jupyter-widgets/controls",
          "model_name": "ProgressStyleModel",
          "model_module_version": "1.5.0",
          "state": {
            "_model_module": "@jupyter-widgets/controls",
            "_model_module_version": "1.5.0",
            "_model_name": "ProgressStyleModel",
            "_view_count": null,
            "_view_module": "@jupyter-widgets/base",
            "_view_module_version": "1.2.0",
            "_view_name": "StyleView",
            "bar_color": null,
            "description_width": ""
          }
        },
        "1eaf1ebd374f4446a7235ab13c53f32b": {
          "model_module": "@jupyter-widgets/base",
          "model_name": "LayoutModel",
          "model_module_version": "1.2.0",
          "state": {
            "_model_module": "@jupyter-widgets/base",
            "_model_module_version": "1.2.0",
            "_model_name": "LayoutModel",
            "_view_count": null,
            "_view_module": "@jupyter-widgets/base",
            "_view_module_version": "1.2.0",
            "_view_name": "LayoutView",
            "align_content": null,
            "align_items": null,
            "align_self": null,
            "border": null,
            "bottom": null,
            "display": null,
            "flex": null,
            "flex_flow": null,
            "grid_area": null,
            "grid_auto_columns": null,
            "grid_auto_flow": null,
            "grid_auto_rows": null,
            "grid_column": null,
            "grid_gap": null,
            "grid_row": null,
            "grid_template_areas": null,
            "grid_template_columns": null,
            "grid_template_rows": null,
            "height": null,
            "justify_content": null,
            "justify_items": null,
            "left": null,
            "margin": null,
            "max_height": null,
            "max_width": null,
            "min_height": null,
            "min_width": null,
            "object_fit": null,
            "object_position": null,
            "order": null,
            "overflow": null,
            "overflow_x": null,
            "overflow_y": null,
            "padding": null,
            "right": null,
            "top": null,
            "visibility": null,
            "width": null
          }
        },
        "56354a198ec04078a8170d269644bee5": {
          "model_module": "@jupyter-widgets/controls",
          "model_name": "DescriptionStyleModel",
          "model_module_version": "1.5.0",
          "state": {
            "_model_module": "@jupyter-widgets/controls",
            "_model_module_version": "1.5.0",
            "_model_name": "DescriptionStyleModel",
            "_view_count": null,
            "_view_module": "@jupyter-widgets/base",
            "_view_module_version": "1.2.0",
            "_view_name": "StyleView",
            "description_width": ""
          }
        }
      }
    }
  },
  "cells": [
    {
      "cell_type": "markdown",
      "metadata": {
        "id": "view-in-github",
        "colab_type": "text"
      },
      "source": [
        "<a href=\"https://colab.research.google.com/github/meti-94/BERT-QA/blob/main/colbert_questions.ipynb\" target=\"_parent\"><img src=\"https://colab.research.google.com/assets/colab-badge.svg\" alt=\"Open In Colab\"/></a>"
      ]
    },
    {
      "cell_type": "code",
      "metadata": {
        "colab": {
          "base_uri": "https://localhost:8080/"
        },
        "id": "DQ-LV62ByxcR",
        "outputId": "e4f06b9d-2b03-4070-a6ef-2c0a7c5daaf0"
      },
      "source": [
        "!pip install transformers -q\n",
        "!pip uninstall -y tensorflow -q\n",
        "!pip install fuzzywuzzy[speedup] -q\n",
        "!pip install networkx -q\n",
        "!pip install pytorch-crf -q\n",
        "!pip install pattern -q\n",
        "import nltk\n",
        "nltk.download('omw-1.4')"
      ],
      "execution_count": 1,
      "outputs": [
        {
          "output_type": "stream",
          "name": "stdout",
          "text": [
            "\u001b[K     |████████████████████████████████| 5.8 MB 37.3 MB/s \n",
            "\u001b[K     |████████████████████████████████| 182 kB 71.6 MB/s \n",
            "\u001b[K     |████████████████████████████████| 7.6 MB 58.7 MB/s \n",
            "\u001b[K     |████████████████████████████████| 174 kB 38.9 MB/s \n",
            "\u001b[K     |████████████████████████████████| 2.2 MB 54.8 MB/s \n",
            "\u001b[K     |████████████████████████████████| 22.2 MB 1.1 MB/s \n",
            "\u001b[K     |████████████████████████████████| 88 kB 6.6 MB/s \n",
            "\u001b[K     |████████████████████████████████| 81 kB 10.1 MB/s \n",
            "\u001b[K     |████████████████████████████████| 5.6 MB 54.4 MB/s \n",
            "\u001b[K     |████████████████████████████████| 5.6 MB 64.3 MB/s \n",
            "\u001b[K     |████████████████████████████████| 348 kB 69.5 MB/s \n",
            "\u001b[K     |████████████████████████████████| 100 kB 12.5 MB/s \n",
            "\u001b[K     |████████████████████████████████| 4.0 MB 51.0 MB/s \n",
            "\u001b[?25h  Building wheel for pattern (setup.py) ... \u001b[?25l\u001b[?25hdone\n",
            "  Building wheel for mysqlclient (setup.py) ... \u001b[?25l\u001b[?25hdone\n",
            "  Building wheel for python-docx (setup.py) ... \u001b[?25l\u001b[?25hdone\n",
            "  Building wheel for sgmllib3k (setup.py) ... \u001b[?25l\u001b[?25hdone\n"
          ]
        },
        {
          "output_type": "stream",
          "name": "stderr",
          "text": [
            "[nltk_data] Downloading package omw-1.4 to /root/nltk_data...\n"
          ]
        },
        {
          "output_type": "execute_result",
          "data": {
            "text/plain": [
              "True"
            ]
          },
          "metadata": {},
          "execution_count": 1
        }
      ]
    },
    {
      "cell_type": "code",
      "metadata": {
        "colab": {
          "base_uri": "https://localhost:8080/"
        },
        "id": "lK5AY1cWmoqG",
        "outputId": "1455aabb-aac3-45ac-c71f-9f79bfdb51a4"
      },
      "source": [
        "!git clone https://github.com/meti-94/BERT-QA.git"
      ],
      "execution_count": 2,
      "outputs": [
        {
          "output_type": "stream",
          "name": "stdout",
          "text": [
            "Cloning into 'BERT-QA'...\n",
            "remote: Enumerating objects: 613, done.\u001b[K\n",
            "remote: Counting objects: 100% (82/82), done.\u001b[K\n",
            "remote: Compressing objects: 100% (62/62), done.\u001b[K\n",
            "remote: Total 613 (delta 36), reused 58 (delta 20), pack-reused 531\u001b[K\n",
            "Receiving objects: 100% (613/613), 117.32 MiB | 17.81 MiB/s, done.\n",
            "Resolving deltas: 100% (271/271), done.\n"
          ]
        }
      ]
    },
    {
      "cell_type": "code",
      "metadata": {
        "colab": {
          "base_uri": "https://localhost:8080/"
        },
        "id": "2-eIIezrzF9g",
        "outputId": "1d08442f-ab27-4b18-ec39-b565926a7c3b"
      },
      "source": [
        "%cd /content/BERT-QA/src\n",
        "# model types : [MultiDepthNodeEdgeDetector, BertLSTMCRF, BertCNN, NodeEdgeDetector]\n",
        "# cross validation: [True, False]\n",
        "!python train.py NodeEdgeDetector False"
      ],
      "execution_count": 3,
      "outputs": [
        {
          "output_type": "stream",
          "name": "stdout",
          "text": [
            "/content/BERT-QA/src\n",
            "DEBUG:urllib3.connectionpool:Starting new HTTPS connection (1): huggingface.co:443\n",
            "DEBUG:urllib3.connectionpool:https://huggingface.co:443 \"HEAD /bert-base-uncased/resolve/main/config.json HTTP/1.1\" 200 0\n",
            "DEBUG:filelock:Attempting to acquire lock 140401498386000 on /root/.cache/huggingface/hub/models--bert-base-uncased/blobs/45a2321a7ecfdaaf60a6c1fd7f5463994cc8907d.lock\n",
            "DEBUG:filelock:Lock 140401498386000 acquired on /root/.cache/huggingface/hub/models--bert-base-uncased/blobs/45a2321a7ecfdaaf60a6c1fd7f5463994cc8907d.lock\n",
            "DEBUG:urllib3.connectionpool:Starting new HTTPS connection (1): huggingface.co:443\n",
            "DEBUG:urllib3.connectionpool:https://huggingface.co:443 \"GET /bert-base-uncased/resolve/main/config.json HTTP/1.1\" 200 570\n",
            "Downloading: 100% 570/570 [00:00<00:00, 576kB/s]\n",
            "DEBUG:filelock:Attempting to release lock 140401498386000 on /root/.cache/huggingface/hub/models--bert-base-uncased/blobs/45a2321a7ecfdaaf60a6c1fd7f5463994cc8907d.lock\n",
            "DEBUG:filelock:Lock 140401498386000 released on /root/.cache/huggingface/hub/models--bert-base-uncased/blobs/45a2321a7ecfdaaf60a6c1fd7f5463994cc8907d.lock\n",
            "DEBUG:urllib3.connectionpool:Starting new HTTPS connection (1): huggingface.co:443\n",
            "DEBUG:urllib3.connectionpool:https://huggingface.co:443 \"HEAD /bert-base-uncased/resolve/main/pytorch_model.bin HTTP/1.1\" 302 0\n",
            "DEBUG:filelock:Attempting to acquire lock 140401498384416 on /root/.cache/huggingface/hub/models--bert-base-uncased/blobs/097417381d6c7230bd9e3557456d726de6e83245ec8b24f529f60198a67b203a.lock\n",
            "DEBUG:filelock:Lock 140401498384416 acquired on /root/.cache/huggingface/hub/models--bert-base-uncased/blobs/097417381d6c7230bd9e3557456d726de6e83245ec8b24f529f60198a67b203a.lock\n",
            "DEBUG:urllib3.connectionpool:Starting new HTTPS connection (1): cdn-lfs.huggingface.co:443\n",
            "DEBUG:urllib3.connectionpool:https://cdn-lfs.huggingface.co:443 \"GET /bert-base-uncased/097417381d6c7230bd9e3557456d726de6e83245ec8b24f529f60198a67b203a?response-content-disposition=attachment%3B%20filename%3D%22pytorch_model.bin%22&Expires=1671073036&Policy=eyJTdGF0ZW1lbnQiOlt7IlJlc291cmNlIjoiaHR0cHM6Ly9jZG4tbGZzLmh1Z2dpbmdmYWNlLmNvL2JlcnQtYmFzZS11bmNhc2VkLzA5NzQxNzM4MWQ2YzcyMzBiZDllMzU1NzQ1NmQ3MjZkZTZlODMyNDVlYzhiMjRmNTI5ZjYwMTk4YTY3YjIwM2E~cmVzcG9uc2UtY29udGVudC1kaXNwb3NpdGlvbj1hdHRhY2htZW50JTNCJTIwZmlsZW5hbWUlM0QlMjJweXRvcmNoX21vZGVsLmJpbiUyMiIsIkNvbmRpdGlvbiI6eyJEYXRlTGVzc1RoYW4iOnsiQVdTOkVwb2NoVGltZSI6MTY3MTA3MzAzNn19fV19&Signature=v~~Spw2g1e6JbfccrXE-69Lq7AcKlHrGObU-Yh~OyKI1iinuBOkeIdaZtES~nOV-LS1utVifTwAA68rmnvnHb9ojricCWy1p9ZbFk9OqGqJl-8y9n6bboXn~R7EHPig8G~Ci4vf2Gwu9dnlTqWCYNcv1ELJzmDgdQ6CJaNx0TebLFmB9Hrqq8kDI7mfsdMJs7K7u1OVPQr8HRFXGVvwiSZDf4zDIySEbRoLUvPvUp49~MgJNSjvq8moSGOpPy1E7LK5AMZNAlMSoxzNsGHOxcSw0anGNH1XKEEgcNxgidO-oIgOBbgsYpdhp6Xth9aaIYOw11BTaAC16fHgOjUNEYA__&Key-Pair-Id=KVTP0A1DKRTAX HTTP/1.1\" 200 440473133\n",
            "Downloading: 100% 440M/440M [00:04<00:00, 96.9MB/s]\n",
            "DEBUG:filelock:Attempting to release lock 140401498384416 on /root/.cache/huggingface/hub/models--bert-base-uncased/blobs/097417381d6c7230bd9e3557456d726de6e83245ec8b24f529f60198a67b203a.lock\n",
            "DEBUG:filelock:Lock 140401498384416 released on /root/.cache/huggingface/hub/models--bert-base-uncased/blobs/097417381d6c7230bd9e3557456d726de6e83245ec8b24f529f60198a67b203a.lock\n",
            "Some weights of the model checkpoint at bert-base-uncased were not used when initializing BertModel: ['cls.seq_relationship.bias', 'cls.seq_relationship.weight', 'cls.predictions.transform.dense.weight', 'cls.predictions.decoder.weight', 'cls.predictions.transform.LayerNorm.bias', 'cls.predictions.transform.dense.bias', 'cls.predictions.bias', 'cls.predictions.transform.LayerNorm.weight']\n",
            "- This IS expected if you are initializing BertModel from the checkpoint of a model trained on another task or with another architecture (e.g. initializing a BertForSequenceClassification model from a BertForPreTraining model).\n",
            "- This IS NOT expected if you are initializing BertModel from the checkpoint of a model that you expect to be exactly identical (initializing a BertForSequenceClassification model from a BertForSequenceClassification model).\n",
            "DEBUG:urllib3.connectionpool:Starting new HTTPS connection (1): huggingface.co:443\n",
            "DEBUG:urllib3.connectionpool:https://huggingface.co:443 \"HEAD /bert-base-uncased/resolve/main/vocab.txt HTTP/1.1\" 200 0\n",
            "DEBUG:filelock:Attempting to acquire lock 140401482407648 on /root/.cache/huggingface/hub/models--bert-base-uncased/blobs/fb140275c155a9c7c5a3b3e0e77a9e839594a938.lock\n",
            "DEBUG:filelock:Lock 140401482407648 acquired on /root/.cache/huggingface/hub/models--bert-base-uncased/blobs/fb140275c155a9c7c5a3b3e0e77a9e839594a938.lock\n",
            "DEBUG:urllib3.connectionpool:Starting new HTTPS connection (1): huggingface.co:443\n",
            "DEBUG:urllib3.connectionpool:https://huggingface.co:443 \"GET /bert-base-uncased/resolve/main/vocab.txt HTTP/1.1\" 200 231508\n",
            "Downloading: 100% 232k/232k [00:00<00:00, 258kB/s]\n",
            "DEBUG:filelock:Attempting to release lock 140401482407648 on /root/.cache/huggingface/hub/models--bert-base-uncased/blobs/fb140275c155a9c7c5a3b3e0e77a9e839594a938.lock\n",
            "DEBUG:filelock:Lock 140401482407648 released on /root/.cache/huggingface/hub/models--bert-base-uncased/blobs/fb140275c155a9c7c5a3b3e0e77a9e839594a938.lock\n",
            "DEBUG:urllib3.connectionpool:Starting new HTTPS connection (1): huggingface.co:443\n",
            "DEBUG:urllib3.connectionpool:https://huggingface.co:443 \"HEAD /bert-base-uncased/resolve/main/added_tokens.json HTTP/1.1\" 404 0\n",
            "DEBUG:urllib3.connectionpool:Starting new HTTPS connection (1): huggingface.co:443\n",
            "DEBUG:urllib3.connectionpool:https://huggingface.co:443 \"HEAD /bert-base-uncased/resolve/main/special_tokens_map.json HTTP/1.1\" 404 0\n",
            "DEBUG:urllib3.connectionpool:Starting new HTTPS connection (1): huggingface.co:443\n",
            "DEBUG:urllib3.connectionpool:https://huggingface.co:443 \"HEAD /bert-base-uncased/resolve/main/tokenizer_config.json HTTP/1.1\" 200 0\n",
            "DEBUG:filelock:Attempting to acquire lock 140401482407696 on /root/.cache/huggingface/hub/models--bert-base-uncased/blobs/a661b1a138dac6dc5590367402d100765010ffd6.lock\n",
            "DEBUG:filelock:Lock 140401482407696 acquired on /root/.cache/huggingface/hub/models--bert-base-uncased/blobs/a661b1a138dac6dc5590367402d100765010ffd6.lock\n",
            "DEBUG:urllib3.connectionpool:Starting new HTTPS connection (1): huggingface.co:443\n",
            "DEBUG:urllib3.connectionpool:https://huggingface.co:443 \"GET /bert-base-uncased/resolve/main/tokenizer_config.json HTTP/1.1\" 200 28\n",
            "Downloading: 100% 28.0/28.0 [00:00<00:00, 22.6kB/s]\n",
            "DEBUG:filelock:Attempting to release lock 140401482407696 on /root/.cache/huggingface/hub/models--bert-base-uncased/blobs/a661b1a138dac6dc5590367402d100765010ffd6.lock\n",
            "DEBUG:filelock:Lock 140401482407696 released on /root/.cache/huggingface/hub/models--bert-base-uncased/blobs/a661b1a138dac6dc5590367402d100765010ffd6.lock\n",
            "/usr/local/lib/python3.8/dist-packages/transformers/optimization.py:306: FutureWarning: This implementation of AdamW is deprecated and will be removed in a future version. Use the PyTorch implementation torch.optim.AdamW instead, or set `no_deprecation_warning=True` to disable this warning\n",
            "  warnings.warn(\n",
            "INFO:root:Train Dataset Contains 9921 Samples.\n",
            "INFO:root:Valid Dataset Contains 1751 Samples.\n",
            "INFO:root:Test Dataset Contains 5003 Samples.\n",
            "Train Epoch Number 1: 100% 50/50 [00:28<00:00,  1.74it/s]\n",
            "INFO:root:Epoch number: 1 Train Loss is equal: 563.6864013671875\n",
            "Eval Epoch Number 1: 100% 9/9 [00:01<00:00,  6.68it/s]\n",
            "INFO:root:Epoch number: 1 Eval Loss is equal: 50.024749755859375\n",
            "Train Epoch Number 2: 100% 50/50 [00:27<00:00,  1.83it/s]\n",
            "INFO:root:Epoch number: 2 Train Loss is equal: 40.53464126586914\n",
            "Eval Epoch Number 2: 100% 9/9 [00:01<00:00,  6.25it/s]\n",
            "INFO:root:Epoch number: 2 Eval Loss is equal: 18.907451629638672\n",
            "Train Epoch Number 3: 100% 50/50 [00:29<00:00,  1.70it/s]\n",
            "INFO:root:Epoch number: 3 Train Loss is equal: 22.218021392822266\n",
            "Eval Epoch Number 3: 100% 9/9 [00:01<00:00,  5.77it/s]\n",
            "INFO:root:Epoch number: 3 Eval Loss is equal: 15.587590217590332\n",
            "Train Epoch Number 4: 100% 50/50 [00:28<00:00,  1.74it/s]\n",
            "INFO:root:Epoch number: 4 Train Loss is equal: 17.151779174804688\n",
            "Eval Epoch Number 4: 100% 9/9 [00:01<00:00,  6.20it/s]\n",
            "INFO:root:Epoch number: 4 Eval Loss is equal: 18.31424903869629\n",
            "Train Epoch Number 5: 100% 50/50 [00:28<00:00,  1.76it/s]\n",
            "INFO:root:Epoch number: 5 Train Loss is equal: 13.501795768737793\n",
            "Eval Epoch Number 5: 100% 9/9 [00:01<00:00,  6.07it/s]\n",
            "INFO:root:Epoch number: 5 Eval Loss is equal: 14.806106567382812\n",
            "Train Epoch Number 6: 100% 50/50 [00:29<00:00,  1.72it/s]\n",
            "INFO:root:Epoch number: 6 Train Loss is equal: 12.288981437683105\n",
            "Eval Epoch Number 6: 100% 9/9 [00:01<00:00,  5.95it/s]\n",
            "INFO:root:Epoch number: 6 Eval Loss is equal: 14.804462432861328\n",
            "Predicting ...: 100% 51/51 [00:04<00:00, 11.35it/s]\n",
            "INFO:root:Dataset-wide F1, precision and recall:\n",
            "INFO:root:0.9894653325693128, 0.9900326364999559, 0.988898678414097\n",
            "INFO:root:Averaged F1, precision and recall:\n",
            "INFO:root:0.9870569433415316, 0.9871884579501532, 0.9869254637693575\n",
            "INFO:root:Span accuracy\n",
            "INFO:root:0.984406237504998\n",
            "INFO:root:Dataset-wide F1, precision and recall:\n",
            "INFO:root:0.9923284262906903, 0.9940459706452506, 0.9906168069546019\n",
            "INFO:root:Averaged F1, precision and recall:\n",
            "INFO:root:0.994792485391722, 0.995936644362589, 0.9936509522857724\n",
            "INFO:root:Span accuracy\n",
            "INFO:root:0.9726164301419149\n",
            "Question                    Node               Edge\n",
            "--------------------------  -----------------  --------------------\n",
            "Where was Bill Gates Born?  ['bill', 'gates']  ['was', 'born', '?']\n"
          ]
        }
      ]
    },
    {
      "cell_type": "code",
      "metadata": {
        "colab": {
          "base_uri": "https://localhost:8080/"
        },
        "id": "MOD_Mka8WaGy",
        "outputId": "301acae7-d939-4d05-e908-4301f880eda6"
      },
      "source": [
        "from google.colab import drive\n",
        "drive.mount('/content/drive')"
      ],
      "execution_count": 4,
      "outputs": [
        {
          "output_type": "stream",
          "name": "stdout",
          "text": [
            "Mounted at /content/drive\n"
          ]
        }
      ]
    },
    {
      "cell_type": "code",
      "metadata": {
        "id": "Bh5jp7fcWawz"
      },
      "source": [
        "!cp /content/drive/MyDrive/reverb_wikipedia_tuples-1.1.txt /content/"
      ],
      "execution_count": 5,
      "outputs": []
    },
    {
      "cell_type": "code",
      "source": [
        "!pip install python-terrier -q\n",
        "!pip install --upgrade git+https://github.com/terrierteam/pyterrier_colbert.git -q\n",
        "import sys\n",
        "\n",
        "COLAB='google.colab' in sys.modules\n",
        "\n",
        "try:\n",
        "  import faiss\n",
        "  faiss.get_num_gpus()\n",
        "except:\n",
        "  if COLAB:\n",
        "    print('Installing faiss-gpu from pip ')\n",
        "    !pip install faiss-gpu==1.6.3\n",
        "  else:\n",
        "    print('Installing faiss-gpu via Conda')\n",
        "    !conda install -c pytorch faiss-gpu\n",
        "\n",
        "import faiss\n",
        "assert faiss.get_num_gpus() > 0\n"
      ],
      "metadata": {
        "id": "29QBmic4eVI4",
        "outputId": "bf07b14e-1f74-40fd-c8e8-f7552088744f",
        "colab": {
          "base_uri": "https://localhost:8080/"
        }
      },
      "execution_count": 6,
      "outputs": [
        {
          "output_type": "stream",
          "name": "stdout",
          "text": [
            "\u001b[K     |████████████████████████████████| 102 kB 35.4 MB/s \n",
            "\u001b[K     |████████████████████████████████| 1.5 MB 61.3 MB/s \n",
            "\u001b[K     |████████████████████████████████| 69 kB 4.8 MB/s \n",
            "\u001b[33mWARNING: Discarding https://files.pythonhosted.org/packages/db/1e/af4e9cded5093a92e60d4ae7149a02c7427661b2db66c8ea4d34b17864a2/sklearn-0.0.post1.tar.gz#sha256=76b9ed1623775168657b86b5fe966d45752e5c87f528de6240c38923b94147c5 (from https://pypi.org/simple/sklearn/). Command errored out with exit status 1: python setup.py egg_info Check the logs for full command output.\u001b[0m\n",
            "\u001b[K     |████████████████████████████████| 311 kB 77.3 MB/s \n",
            "\u001b[K     |████████████████████████████████| 46 kB 4.3 MB/s \n",
            "\u001b[K     |████████████████████████████████| 286 kB 68.1 MB/s \n",
            "\u001b[K     |████████████████████████████████| 45 kB 3.7 MB/s \n",
            "\u001b[K     |████████████████████████████████| 1.2 MB 65.6 MB/s \n",
            "\u001b[K     |████████████████████████████████| 293 kB 79.9 MB/s \n",
            "\u001b[K     |████████████████████████████████| 133 kB 84.0 MB/s \n",
            "\u001b[K     |████████████████████████████████| 72 kB 1.2 MB/s \n",
            "\u001b[?25h  Installing build dependencies ... \u001b[?25l\u001b[?25hdone\n",
            "  Getting requirements to build wheel ... \u001b[?25l\u001b[?25hdone\n",
            "    Preparing wheel metadata ... \u001b[?25l\u001b[?25hdone\n",
            "  Building wheel for python-terrier (setup.py) ... \u001b[?25l\u001b[?25hdone\n",
            "  Building wheel for ir-measures (setup.py) ... \u001b[?25l\u001b[?25hdone\n",
            "  Building wheel for cwl-eval (setup.py) ... \u001b[?25l\u001b[?25hdone\n",
            "  Building wheel for cbor (setup.py) ... \u001b[?25l\u001b[?25hdone\n",
            "  Building wheel for unlzw3 (PEP 517) ... \u001b[?25l\u001b[?25hdone\n",
            "  Building wheel for warc3-wet-clueweb09 (setup.py) ... \u001b[?25l\u001b[?25hdone\n",
            "  Building wheel for chest (setup.py) ... \u001b[?25l\u001b[?25hdone\n",
            "  Building wheel for sklearn (setup.py) ... \u001b[?25l\u001b[?25hdone\n",
            "  Building wheel for wget (setup.py) ... \u001b[?25l\u001b[?25hdone\n",
            "\u001b[K     |████████████████████████████████| 52 kB 1.4 MB/s \n",
            "\u001b[K     |████████████████████████████████| 16.5 MB 53.7 MB/s \n",
            "\u001b[K     |████████████████████████████████| 182 kB 76.9 MB/s \n",
            "\u001b[K     |████████████████████████████████| 209 kB 82.8 MB/s \n",
            "\u001b[K     |████████████████████████████████| 79 kB 8.3 MB/s \n",
            "\u001b[K     |████████████████████████████████| 82 kB 538 kB/s \n",
            "\u001b[K     |████████████████████████████████| 575 kB 77.3 MB/s \n",
            "\u001b[K     |████████████████████████████████| 147 kB 84.5 MB/s \n",
            "\u001b[K     |████████████████████████████████| 78 kB 8.4 MB/s \n",
            "\u001b[K     |████████████████████████████████| 147 kB 85.0 MB/s \n",
            "\u001b[K     |████████████████████████████████| 146 kB 84.2 MB/s \n",
            "\u001b[K     |████████████████████████████████| 55 kB 4.2 MB/s \n",
            "\u001b[K     |████████████████████████████████| 62 kB 1.6 MB/s \n",
            "\u001b[?25h  Building wheel for pyterrier-colbert (setup.py) ... \u001b[?25l\u001b[?25hdone\n",
            "  Building wheel for ColBERT (setup.py) ... \u001b[?25l\u001b[?25hdone\n",
            "  Building wheel for databricks-cli (setup.py) ... \u001b[?25l\u001b[?25hdone\n",
            "Installing faiss-gpu from pip \n",
            "Looking in indexes: https://pypi.org/simple, https://us-python.pkg.dev/colab-wheels/public/simple/\n",
            "Collecting faiss-gpu==1.6.3\n",
            "  Downloading faiss_gpu-1.6.3-cp38-cp38-manylinux2010_x86_64.whl (35.5 MB)\n",
            "\u001b[K     |████████████████████████████████| 35.5 MB 424 kB/s \n",
            "\u001b[?25hRequirement already satisfied: numpy in /usr/local/lib/python3.8/dist-packages (from faiss-gpu==1.6.3) (1.21.6)\n",
            "Installing collected packages: faiss-gpu\n",
            "Successfully installed faiss-gpu-1.6.3\n"
          ]
        }
      ]
    },
    {
      "cell_type": "code",
      "source": [
        "import pyterrier as pt\n",
        "pt.init()\n",
        "checkpoint=\"http://www.dcs.gla.ac.uk/~craigm/colbert.dnn.zip\"\n",
        "!rm -rf /content/colbertindex\n",
        "import pyterrier_colbert.indexing\n",
        "indexer = pyterrier_colbert.indexing.ColBERTIndexer(checkpoint, \"/content\", \"colbertindex\", chunksize=3)\n",
        "# indexer.index(pt.get_dataset(\"irds:vaswani\").get_corpus_iter())"
      ],
      "metadata": {
        "id": "xg7_71tse24W",
        "outputId": "672e7614-fa7b-4bd0-ca93-f029462b70d3",
        "colab": {
          "base_uri": "https://localhost:8080/"
        }
      },
      "execution_count": 7,
      "outputs": [
        {
          "output_type": "stream",
          "name": "stdout",
          "text": [
            "terrier-assemblies 5.7 jar-with-dependencies not found, downloading to /root/.pyterrier...\n",
            "Done\n",
            "terrier-python-helper 0.0.7 jar not found, downloading to /root/.pyterrier...\n",
            "Done\n"
          ]
        },
        {
          "output_type": "stream",
          "name": "stderr",
          "text": [
            "PyTerrier 0.9.1 has loaded Terrier 5.7 (built by craigm on 2022-11-10 18:30) and terrier-helper 0.0.7\n",
            "\n"
          ]
        }
      ]
    },
    {
      "cell_type": "code",
      "source": [
        "import pandas as pd\n",
        "path = '/content/reverb_wikipedia_tuples-1.1.txt'\n",
        "df = pd.read_csv(path, sep='\\t', header=None)\n",
        "reverb_columns_name = ['ExID', 'arg1', 'rel', 'arg2', 'narg1', 'nrel', 'narg2', 'csents', 'conf', 'urls']\n",
        "df.columns = reverb_columns_name\n",
        "df = df.dropna()\n",
        "df = df.drop_duplicates()\n",
        "df['normal_text'] = df.apply(lambda row:' '.join([row['narg1'], row['nrel'], row['narg2']]).strip(), axis=1)\n",
        "df['text'] = df.apply(lambda row:' '.join([row['arg1'], row['rel'], row['arg2']]).strip(), axis=1)\n",
        "df = df[['normal_text', 'text']]\n",
        "df['docno'] = (df.index).astype(str)\n",
        "df"
      ],
      "metadata": {
        "id": "iEPG_rp8guzX",
        "outputId": "d8385da3-5fcb-4362-c9f7-2bfe6a1d16d4",
        "colab": {
          "base_uri": "https://localhost:8080/",
          "height": 424
        }
      },
      "execution_count": 8,
      "outputs": [
        {
          "output_type": "execute_result",
          "data": {
            "text/plain": [
              "                                              normal_text  \\\n",
              "0                                $ 10 be deduct for board   \n",
              "1                                 $ 10,000 come from j.j.   \n",
              "2       $ 13.8 million have be raise for construction ...   \n",
              "3                          $ 15.3 million be pay to japan   \n",
              "4                      $ 16,896 be need just for dredging   \n",
              "...                                                   ...   \n",
              "407242                    zinc be an ingredient in enzyte   \n",
              "407243                   zinc acetate consist of zn2+ ion   \n",
              "407244     zinc concentrate normally contain zinc sulfide   \n",
              "407245               zone 3 be north of the arctic circle   \n",
              "407246              zwieback be produce in friedrichsdorf   \n",
              "\n",
              "                                                     text   docno  \n",
              "0                             $ 10 was deducted for board       0  \n",
              "1                                 $ 10,000 came from J.J.       1  \n",
              "2       $ 13.8 million had been raised for constructio...       2  \n",
              "3                        $ 15.3 million was paid to Japan       3  \n",
              "4                   $ 16,896 was needed just for dredging       4  \n",
              "...                                                   ...     ...  \n",
              "407242                    zinc is an ingredient in Enzyte  407242  \n",
              "407243                 zinc acetate consists of Zn2+ ions  407243  \n",
              "407244    zinc concentrate normally contains zinc sulfide  407244  \n",
              "407245               zone 3 is north of the Arctic Circle  407245  \n",
              "407246            zwieback was produced in Friedrichsdorf  407246  \n",
              "\n",
              "[407236 rows x 3 columns]"
            ],
            "text/html": [
              "\n",
              "  <div id=\"df-4138923c-3733-482e-a248-09903ec50779\">\n",
              "    <div class=\"colab-df-container\">\n",
              "      <div>\n",
              "<style scoped>\n",
              "    .dataframe tbody tr th:only-of-type {\n",
              "        vertical-align: middle;\n",
              "    }\n",
              "\n",
              "    .dataframe tbody tr th {\n",
              "        vertical-align: top;\n",
              "    }\n",
              "\n",
              "    .dataframe thead th {\n",
              "        text-align: right;\n",
              "    }\n",
              "</style>\n",
              "<table border=\"1\" class=\"dataframe\">\n",
              "  <thead>\n",
              "    <tr style=\"text-align: right;\">\n",
              "      <th></th>\n",
              "      <th>normal_text</th>\n",
              "      <th>text</th>\n",
              "      <th>docno</th>\n",
              "    </tr>\n",
              "  </thead>\n",
              "  <tbody>\n",
              "    <tr>\n",
              "      <th>0</th>\n",
              "      <td>$ 10 be deduct for board</td>\n",
              "      <td>$ 10 was deducted for board</td>\n",
              "      <td>0</td>\n",
              "    </tr>\n",
              "    <tr>\n",
              "      <th>1</th>\n",
              "      <td>$ 10,000 come from j.j.</td>\n",
              "      <td>$ 10,000 came from J.J.</td>\n",
              "      <td>1</td>\n",
              "    </tr>\n",
              "    <tr>\n",
              "      <th>2</th>\n",
              "      <td>$ 13.8 million have be raise for construction ...</td>\n",
              "      <td>$ 13.8 million had been raised for constructio...</td>\n",
              "      <td>2</td>\n",
              "    </tr>\n",
              "    <tr>\n",
              "      <th>3</th>\n",
              "      <td>$ 15.3 million be pay to japan</td>\n",
              "      <td>$ 15.3 million was paid to Japan</td>\n",
              "      <td>3</td>\n",
              "    </tr>\n",
              "    <tr>\n",
              "      <th>4</th>\n",
              "      <td>$ 16,896 be need just for dredging</td>\n",
              "      <td>$ 16,896 was needed just for dredging</td>\n",
              "      <td>4</td>\n",
              "    </tr>\n",
              "    <tr>\n",
              "      <th>...</th>\n",
              "      <td>...</td>\n",
              "      <td>...</td>\n",
              "      <td>...</td>\n",
              "    </tr>\n",
              "    <tr>\n",
              "      <th>407242</th>\n",
              "      <td>zinc be an ingredient in enzyte</td>\n",
              "      <td>zinc is an ingredient in Enzyte</td>\n",
              "      <td>407242</td>\n",
              "    </tr>\n",
              "    <tr>\n",
              "      <th>407243</th>\n",
              "      <td>zinc acetate consist of zn2+ ion</td>\n",
              "      <td>zinc acetate consists of Zn2+ ions</td>\n",
              "      <td>407243</td>\n",
              "    </tr>\n",
              "    <tr>\n",
              "      <th>407244</th>\n",
              "      <td>zinc concentrate normally contain zinc sulfide</td>\n",
              "      <td>zinc concentrate normally contains zinc sulfide</td>\n",
              "      <td>407244</td>\n",
              "    </tr>\n",
              "    <tr>\n",
              "      <th>407245</th>\n",
              "      <td>zone 3 be north of the arctic circle</td>\n",
              "      <td>zone 3 is north of the Arctic Circle</td>\n",
              "      <td>407245</td>\n",
              "    </tr>\n",
              "    <tr>\n",
              "      <th>407246</th>\n",
              "      <td>zwieback be produce in friedrichsdorf</td>\n",
              "      <td>zwieback was produced in Friedrichsdorf</td>\n",
              "      <td>407246</td>\n",
              "    </tr>\n",
              "  </tbody>\n",
              "</table>\n",
              "<p>407236 rows × 3 columns</p>\n",
              "</div>\n",
              "      <button class=\"colab-df-convert\" onclick=\"convertToInteractive('df-4138923c-3733-482e-a248-09903ec50779')\"\n",
              "              title=\"Convert this dataframe to an interactive table.\"\n",
              "              style=\"display:none;\">\n",
              "        \n",
              "  <svg xmlns=\"http://www.w3.org/2000/svg\" height=\"24px\"viewBox=\"0 0 24 24\"\n",
              "       width=\"24px\">\n",
              "    <path d=\"M0 0h24v24H0V0z\" fill=\"none\"/>\n",
              "    <path d=\"M18.56 5.44l.94 2.06.94-2.06 2.06-.94-2.06-.94-.94-2.06-.94 2.06-2.06.94zm-11 1L8.5 8.5l.94-2.06 2.06-.94-2.06-.94L8.5 2.5l-.94 2.06-2.06.94zm10 10l.94 2.06.94-2.06 2.06-.94-2.06-.94-.94-2.06-.94 2.06-2.06.94z\"/><path d=\"M17.41 7.96l-1.37-1.37c-.4-.4-.92-.59-1.43-.59-.52 0-1.04.2-1.43.59L10.3 9.45l-7.72 7.72c-.78.78-.78 2.05 0 2.83L4 21.41c.39.39.9.59 1.41.59.51 0 1.02-.2 1.41-.59l7.78-7.78 2.81-2.81c.8-.78.8-2.07 0-2.86zM5.41 20L4 18.59l7.72-7.72 1.47 1.35L5.41 20z\"/>\n",
              "  </svg>\n",
              "      </button>\n",
              "      \n",
              "  <style>\n",
              "    .colab-df-container {\n",
              "      display:flex;\n",
              "      flex-wrap:wrap;\n",
              "      gap: 12px;\n",
              "    }\n",
              "\n",
              "    .colab-df-convert {\n",
              "      background-color: #E8F0FE;\n",
              "      border: none;\n",
              "      border-radius: 50%;\n",
              "      cursor: pointer;\n",
              "      display: none;\n",
              "      fill: #1967D2;\n",
              "      height: 32px;\n",
              "      padding: 0 0 0 0;\n",
              "      width: 32px;\n",
              "    }\n",
              "\n",
              "    .colab-df-convert:hover {\n",
              "      background-color: #E2EBFA;\n",
              "      box-shadow: 0px 1px 2px rgba(60, 64, 67, 0.3), 0px 1px 3px 1px rgba(60, 64, 67, 0.15);\n",
              "      fill: #174EA6;\n",
              "    }\n",
              "\n",
              "    [theme=dark] .colab-df-convert {\n",
              "      background-color: #3B4455;\n",
              "      fill: #D2E3FC;\n",
              "    }\n",
              "\n",
              "    [theme=dark] .colab-df-convert:hover {\n",
              "      background-color: #434B5C;\n",
              "      box-shadow: 0px 1px 3px 1px rgba(0, 0, 0, 0.15);\n",
              "      filter: drop-shadow(0px 1px 2px rgba(0, 0, 0, 0.3));\n",
              "      fill: #FFFFFF;\n",
              "    }\n",
              "  </style>\n",
              "\n",
              "      <script>\n",
              "        const buttonEl =\n",
              "          document.querySelector('#df-4138923c-3733-482e-a248-09903ec50779 button.colab-df-convert');\n",
              "        buttonEl.style.display =\n",
              "          google.colab.kernel.accessAllowed ? 'block' : 'none';\n",
              "\n",
              "        async function convertToInteractive(key) {\n",
              "          const element = document.querySelector('#df-4138923c-3733-482e-a248-09903ec50779');\n",
              "          const dataTable =\n",
              "            await google.colab.kernel.invokeFunction('convertToInteractive',\n",
              "                                                     [key], {});\n",
              "          if (!dataTable) return;\n",
              "\n",
              "          const docLinkHtml = 'Like what you see? Visit the ' +\n",
              "            '<a target=\"_blank\" href=https://colab.research.google.com/notebooks/data_table.ipynb>data table notebook</a>'\n",
              "            + ' to learn more about interactive tables.';\n",
              "          element.innerHTML = '';\n",
              "          dataTable['output_type'] = 'display_data';\n",
              "          await google.colab.output.renderOutput(dataTable, element);\n",
              "          const docLink = document.createElement('div');\n",
              "          docLink.innerHTML = docLinkHtml;\n",
              "          element.appendChild(docLink);\n",
              "        }\n",
              "      </script>\n",
              "    </div>\n",
              "  </div>\n",
              "  "
            ]
          },
          "metadata": {},
          "execution_count": 8
        }
      ]
    },
    {
      "cell_type": "code",
      "source": [
        "indexer.index(df[['text', 'docno']].to_dict(orient=\"records\"))"
      ],
      "metadata": {
        "id": "cxlHCPjzf1FA",
        "outputId": "b2d0bf41-89a2-4ef8-f80c-8e92307f4395",
        "colab": {
          "base_uri": "https://localhost:8080/",
          "height": 1000,
          "referenced_widgets": [
            "6c90b24b867e4a7293db85a9aa75b8c4",
            "f007da5115014480a3b51ddb412044ee",
            "f8a8ea4033f3465c8f80f44c3153c025",
            "aed3802eb81f44a3bddc9cd26b2eb834",
            "c95a3315fb5343b8beac0c6e880ee962",
            "d99781d450664e9090228f29c869ee42",
            "0c822f469ac2484d9ba7ad3455f95594",
            "11b0d380eb494094bd731695a8980640",
            "36a01bb943654310a827aecac9071dfd",
            "6ca18e1964f84a94980b39b6d3615e50",
            "8c8a30c8b65b4227af5fc441407315d8",
            "db5984445b0c4655a1af0d5b41cc9771",
            "51dd0b1b9980465b942606fa8ddeec0f",
            "45505c6443044e8b8411c408e7a3ddd8",
            "0c0badd239a844e4ad917ad52d470657",
            "e44cf8c0b48e45db94057fa19537ce2e",
            "ee90a20043ac4db8b74a96361483751b",
            "bc95985ee0c84562837ebe3e73a61180",
            "a51ce9a45eb74b1f96a2475dc31feb96",
            "e5c524d0c0cc4c06b2ffa148800a9af4",
            "928ccf94d86c4969869633793754cd57",
            "54d431f4a0814777bc26a6f090cc50e8"
          ]
        }
      },
      "execution_count": 9,
      "outputs": [
        {
          "output_type": "stream",
          "name": "stdout",
          "text": [
            "[Dec 12, 08:05:47] [0] \t\t #> Local args.bsize = 128\n",
            "[Dec 12, 08:05:47] [0] \t\t #> args.index_root = /content\n",
            "[Dec 12, 08:05:47] [0] \t\t #> self.possible_subset_sizes = [69905]\n"
          ]
        },
        {
          "output_type": "stream",
          "name": "stderr",
          "text": [
            "Some weights of the model checkpoint at bert-base-uncased were not used when initializing ColBERT: ['cls.seq_relationship.bias', 'cls.predictions.transform.LayerNorm.bias', 'cls.predictions.transform.LayerNorm.weight', 'cls.seq_relationship.weight', 'cls.predictions.transform.dense.bias', 'cls.predictions.decoder.weight', 'cls.predictions.bias', 'cls.predictions.transform.dense.weight']\n",
            "- This IS expected if you are initializing ColBERT from the checkpoint of a model trained on another task or with another architecture (e.g. initializing a BertForSequenceClassification model from a BertForPreTraining model).\n",
            "- This IS NOT expected if you are initializing ColBERT from the checkpoint of a model that you expect to be exactly identical (initializing a BertForSequenceClassification model from a BertForSequenceClassification model).\n",
            "Some weights of ColBERT were not initialized from the model checkpoint at bert-base-uncased and are newly initialized: ['linear.weight']\n",
            "You should probably TRAIN this model on a down-stream task to be able to use it for predictions and inference.\n"
          ]
        },
        {
          "output_type": "stream",
          "name": "stdout",
          "text": [
            "[Dec 12, 08:05:51] #> Loading model checkpoint.\n",
            "[Dec 12, 08:05:51] #> Loading checkpoint http://www.dcs.gla.ac.uk/~craigm/colbert.dnn.zip\n"
          ]
        },
        {
          "output_type": "stream",
          "name": "stderr",
          "text": [
            "Downloading: \"http://www.dcs.gla.ac.uk/~craigm/colbert.dnn.zip\" to /root/.cache/torch/hub/checkpoints/colbert.dnn.zip\n"
          ]
        },
        {
          "output_type": "display_data",
          "data": {
            "text/plain": [
              "  0%|          | 0.00/1.11G [00:00<?, ?B/s]"
            ],
            "application/vnd.jupyter.widget-view+json": {
              "version_major": 2,
              "version_minor": 0,
              "model_id": "6c90b24b867e4a7293db85a9aa75b8c4"
            }
          },
          "metadata": {}
        },
        {
          "output_type": "stream",
          "name": "stderr",
          "text": [
            "/usr/local/lib/python3.8/dist-packages/torch/hub.py:651: UserWarning: Falling back to the old format < 1.6. This support will be deprecated in favor of default zipfile format introduced in 1.6. Please redo torch.save() to save it in the new zipfile format.\n",
            "  warnings.warn('Falling back to the old format < 1.6. This support will be '\n"
          ]
        },
        {
          "output_type": "stream",
          "name": "stdout",
          "text": [
            "[Dec 12, 08:07:38] #> checkpoint['epoch'] = 0\n",
            "[Dec 12, 08:07:38] #> checkpoint['batch'] = 44500\n",
            "\n",
            "\n"
          ]
        },
        {
          "output_type": "display_data",
          "data": {
            "text/plain": [
              "Downloading:   0%|          | 0.00/466k [00:00<?, ?B/s]"
            ],
            "application/vnd.jupyter.widget-view+json": {
              "version_major": 2,
              "version_minor": 0,
              "model_id": "db5984445b0c4655a1af0d5b41cc9771"
            }
          },
          "metadata": {}
        },
        {
          "output_type": "stream",
          "name": "stdout",
          "text": [
            "\n",
            "\n",
            "[Dec 12, 08:07:43] #> Note: Output directory /content already exists\n",
            "\n",
            "\n",
            "\n",
            "\n",
            "[Dec 12, 08:07:43] #> Creating directory /content/colbertindex \n",
            "\n",
            "\n",
            "[Dec 12, 08:09:43] [0] \t\t #> Completed batch #0 (starting at passage #0) \t\tPassages/min: 34.9k (overall),  35.0k (this encoding),  88849.3M (this saving)\n",
            "[Dec 12, 08:09:44] [0] \t\t #> Saved batch #0 to /content/colbertindex/0.pt \t\t Saving Throughput = 9.7M passages per minute.\n",
            "\n",
            "[Dec 12, 08:11:42] [0] \t\t #> Completed batch #1 (starting at passage #69905) \t\tPassages/min: 35.1k (overall),  35.5k (this encoding),  87960.8M (this saving)\n",
            "[Dec 12, 08:11:42] [0] \t\t #> Saved batch #1 to /content/colbertindex/1.pt \t\t Saving Throughput = 9.1M passages per minute.\n",
            "\n",
            "[Dec 12, 08:14:15] [0] \t\t #> Completed batch #2 (starting at passage #139810) \t\tPassages/min: 32.2k (overall),  27.5k (this encoding),  124767.2M (this saving)\n",
            "[Dec 12, 08:14:15] [0] \t\t #> Saved batch #2 to /content/colbertindex/2.pt \t\t Saving Throughput = 10.4M passages per minute.\n",
            "\n",
            "[Dec 12, 08:16:12] [0] \t\t #> Completed batch #3 (starting at passage #209715) \t\tPassages/min: 33.0k (overall),  35.8k (this encoding),  90216.3M (this saving)\n",
            "[Dec 12, 08:16:13] [0] \t\t #> Saved batch #3 to /content/colbertindex/3.pt \t\t Saving Throughput = 8.8M passages per minute.\n",
            "\n",
            "[Dec 12, 08:18:16] [0] \t\t #> Completed batch #4 (starting at passage #279620) \t\tPassages/min: 33.2k (overall),  34.1k (this encoding),  92590.4M (this saving)\n",
            "[Dec 12, 08:18:16] [0] \t\t #> Saved batch #4 to /content/colbertindex/4.pt \t\t Saving Throughput = 9.7M passages per minute.\n",
            "\n",
            "[Dec 12, 08:19:56] [0] \t\t #> Completed batch #5 (starting at passage #349525) \t\tPassages/min: 33.4k (overall),  34.7k (this encoding),  86449.1M (this saving)\n",
            "[Dec 12, 08:19:56] [0] \t\t [NOTE] Done with local share.\n",
            "[Dec 12, 08:19:56] [0] \t\t #> Joining saver thread.\n",
            "[Dec 12, 08:19:56] [0] \t\t #> Saved batch #5 to /content/colbertindex/5.pt \t\t Saving Throughput = 10.9M passages per minute.\n",
            "\n",
            "#> num_embeddings = 4491340\n",
            "[Dec 12, 08:19:56] #> Starting..\n",
            "[Dec 12, 08:19:56] #> Processing slice #1 of 1 (range 0..6).\n",
            "[Dec 12, 08:19:56] #> Will write to /content/colbertindex/ivfpq.100.faiss.\n",
            "[Dec 12, 08:19:56] #> Loading /content/colbertindex/0.sample ...\n",
            "[Dec 12, 08:19:56] #> Loading /content/colbertindex/1.sample ...\n",
            "[Dec 12, 08:19:56] #> Loading /content/colbertindex/2.sample ...\n",
            "[Dec 12, 08:19:56] #> Loading /content/colbertindex/3.sample ...\n",
            "[Dec 12, 08:19:56] #> Loading /content/colbertindex/4.sample ...\n",
            "[Dec 12, 08:19:56] #> Loading /content/colbertindex/5.sample ...\n",
            "#> Sample has shape (224564, 128)\n",
            "[Dec 12, 08:19:56] Preparing resources for 1 GPUs.\n",
            "[Dec 12, 08:19:56] #> Training with the vectors...\n",
            "[Dec 12, 08:19:56] #> Training now (using 1 GPUs)...\n",
            "105.41812324523926\n",
            "65.1667377948761\n",
            "0.0009152889251708984\n",
            "[Dec 12, 08:22:47] Done training!\n",
            "\n",
            "[Dec 12, 08:22:47] #> Indexing the vectors...\n",
            "[Dec 12, 08:22:47] #> Loading ('/content/colbertindex/0.pt', '/content/colbertindex/1.pt', '/content/colbertindex/2.pt') (from queue)...\n",
            "[Dec 12, 08:22:48] #> Processing a sub_collection with shape (2288061, 128)\n",
            "[Dec 12, 08:22:48] Add data with shape (2288061, 128) (offset = 0)..\n",
            "2228224/2288061 (12.780 s)   Flush indexes to CPU\n",
            "add(.) time: 13.174 s \t\t--\t\t index.ntotal = 2288061\n",
            "[Dec 12, 08:23:02] #> Loading ('/content/colbertindex/3.pt', '/content/colbertindex/4.pt', '/content/colbertindex/5.pt') (from queue)...\n",
            "[Dec 12, 08:23:02] #> Processing a sub_collection with shape (2203279, 128)\n",
            "[Dec 12, 08:23:02] Add data with shape (2203279, 128) (offset = 2288061)..\n",
            "2162688/2203279 (12.446 s)   Flush indexes to CPU\n",
            "add(.) time: 12.838 s \t\t--\t\t index.ntotal = 4491340\n",
            "[Dec 12, 08:23:15] Done indexing!\n",
            "[Dec 12, 08:23:15] Writing index to /content/colbertindex/ivfpq.100.faiss ...\n",
            "[Dec 12, 08:23:15] \n",
            "\n",
            "Done! All complete (for slice #1 of 1)!\n",
            "#> Faiss encoding complete\n",
            "#> Indexing complete, Time elapsed 1047.55 seconds\n"
          ]
        }
      ]
    },
    {
      "cell_type": "code",
      "source": [
        "pyterrier_colbert_factory = indexer.ranking_factory()\n",
        "colbert_e2e = pyterrier_colbert_factory.end_to_end()\n",
        " "
      ],
      "metadata": {
        "id": "kTfZb6wPlxkC",
        "outputId": "1a740541-0fec-4e04-c5a2-5339cbc66680",
        "colab": {
          "base_uri": "https://localhost:8080/",
          "height": 120,
          "referenced_widgets": [
            "605e3fae3e654184965d9014e9afc2a3",
            "fcbadebdc9e94932a46242717fb591f3",
            "7f3fee6a38534257925d006b100d1883",
            "7cfbc31e807b4951b4949a582bc6c6ed",
            "89effdab6cbb42da94c958aa14a24888",
            "2c44275f56004370a121dc69b451eec6",
            "41bc90490dff4c899458abb07bc67cf9",
            "38c30bbe4b97426bb318e99f35d11cb9",
            "74ea8de68ecc488da5e2621f63b1675e",
            "1eaf1ebd374f4446a7235ab13c53f32b",
            "56354a198ec04078a8170d269644bee5"
          ]
        }
      },
      "execution_count": 10,
      "outputs": [
        {
          "output_type": "stream",
          "name": "stdout",
          "text": [
            "[Dec 12, 08:26:51] #> Loading the FAISS index from /content/colbertindex/ivfpq.100.faiss ..\n",
            "[Dec 12, 08:26:51] #> Building the emb2pid mapping..\n",
            "[Dec 12, 08:26:53] len(self.emb2pid) = 4491340\n",
            "Loading reranking index, memtype=mem\n"
          ]
        },
        {
          "output_type": "display_data",
          "data": {
            "text/plain": [
              "Loading index shards to memory:   0%|          | 0/6 [00:00<?, ?shard/s]"
            ],
            "application/vnd.jupyter.widget-view+json": {
              "version_major": 2,
              "version_minor": 0,
              "model_id": "605e3fae3e654184965d9014e9afc2a3"
            }
          },
          "metadata": {}
        }
      ]
    },
    {
      "cell_type": "code",
      "source": [
        "type((colbert_e2e % 10).search(\"chemical reactions\"))    "
      ],
      "metadata": {
        "id": "u_U5BBMQoNte",
        "outputId": "9e7368dc-f507-4944-87c2-5767cae5b66d",
        "colab": {
          "base_uri": "https://localhost:8080/"
        }
      },
      "execution_count": 11,
      "outputs": [
        {
          "output_type": "execute_result",
          "data": {
            "text/plain": [
              "pandas.core.frame.DataFrame"
            ]
          },
          "metadata": {},
          "execution_count": 11
        }
      ]
    },
    {
      "cell_type": "code",
      "source": [
        "from train import *\n",
        "from graph import *\n",
        "from utils import get_hit\n",
        "import sys\n",
        "import re"
      ],
      "metadata": {
        "id": "c5cBgdJyBLGY"
      },
      "execution_count": 12,
      "outputs": []
    },
    {
      "cell_type": "code",
      "source": [
        "device = torch.device(\"cuda:0\" if torch.cuda.is_available() else \"cpu\")\n",
        "bert = BertModel.from_pretrained(\"bert-base-uncased\")\n",
        "tokenizer = BertTokenizer.from_pretrained(\"bert-base-uncased\")\n",
        "node_edge_detector = NodeEdgeDetector(bert, tokenizer, dropout=torch.tensor(0.5))\n",
        "optimizer = AdamW\n",
        "kw = {'lr':0.0002, 'weight_decay':0.1}\n",
        "tl = TrainingLoop(node_edge_detector, optimizer, True, **kw)\n",
        "loss = mse_loss\n",
        "tl.load()\n",
        "\n"
      ],
      "metadata": {
        "id": "jtHL4oSDREJS",
        "outputId": "634ca05b-806b-4e0b-8f6e-64e44c36949d",
        "colab": {
          "base_uri": "https://localhost:8080/"
        }
      },
      "execution_count": 13,
      "outputs": [
        {
          "output_type": "stream",
          "name": "stderr",
          "text": [
            "Some weights of the model checkpoint at bert-base-uncased were not used when initializing BertModel: ['cls.seq_relationship.bias', 'cls.predictions.transform.LayerNorm.bias', 'cls.predictions.transform.LayerNorm.weight', 'cls.seq_relationship.weight', 'cls.predictions.transform.dense.bias', 'cls.predictions.decoder.weight', 'cls.predictions.bias', 'cls.predictions.transform.dense.weight']\n",
            "- This IS expected if you are initializing BertModel from the checkpoint of a model trained on another task or with another architecture (e.g. initializing a BertForSequenceClassification model from a BertForPreTraining model).\n",
            "- This IS NOT expected if you are initializing BertModel from the checkpoint of a model that you expect to be exactly identical (initializing a BertForSequenceClassification model from a BertForSequenceClassification model).\n",
            "/usr/local/lib/python3.8/dist-packages/transformers/optimization.py:306: FutureWarning: This implementation of AdamW is deprecated and will be removed in a future version. Use the PyTorch implementation torch.optim.AdamW instead, or set `no_deprecation_warning=True` to disable this warning\n",
            "  warnings.warn(\n"
          ]
        }
      ]
    },
    {
      "cell_type": "code",
      "source": [
        "test_df = pd.read_excel('/content/BERT-QA/data/test.xlsx')\n",
        "actual = test_df['Reverb_no'].to_list()\n",
        "system_results = []\n",
        "for index, row in tqdm(test_df.iterrows(), total=test_df.shape[0]):\n",
        "  # node, edge = tl.readable_predict(device, _input=row['Question'], print_result=False)\n",
        "  # node = ' '.join(node); edge = ' '.join(edge)\n",
        "  # node = node.replace(' ##', ''); edge = edge.replace(' ##', '')\n",
        "  # if index%1000 == 0:\n",
        "  #   print(f\"Question Number {index+1}: \", row['Question'].lower().split())\n",
        "  #   print(f'Node: {node}, Edge: {edge}')\n",
        "  # q = ' '.join([node, edge])\n",
        "  q = row['Question']\n",
        "  q = re.sub(r'[^\\w]', ' ', q)\n",
        "  temp = (colbert_e2e % 10).search(q)['docno'].to_list()\n",
        "  temp = [[int(item)] for item in temp]\n",
        "  system_results.append(temp)\n",
        "  \n",
        "print(get_hit(actual, system_results))\n"
      ],
      "metadata": {
        "id": "-wP8yY4dA_AJ",
        "outputId": "eae81693-ab2f-42df-ce4a-3bc64e20cded",
        "colab": {
          "base_uri": "https://localhost:8080/"
        }
      },
      "execution_count": 14,
      "outputs": [
        {
          "output_type": "stream",
          "name": "stderr",
          "text": [
            "100%|██████████| 5003/5003 [40:12<00:00,  2.07it/s]"
          ]
        },
        {
          "output_type": "stream",
          "name": "stdout",
          "text": [
            "(0.7955226863881671, 0.932240655606636, 0.9520287827303617, 0.9700179892064761, 0.9700179892064761)\n"
          ]
        },
        {
          "output_type": "stream",
          "name": "stderr",
          "text": [
            "\n"
          ]
        }
      ]
    },
    {
      "cell_type": "code",
      "source": [],
      "metadata": {
        "id": "eQtLN_3nInyo"
      },
      "execution_count": null,
      "outputs": []
    }
  ]
}