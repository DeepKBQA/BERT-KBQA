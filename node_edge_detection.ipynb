{
  "nbformat": 4,
  "nbformat_minor": 0,
  "metadata": {
    "colab": {
      "name": "node_edge_detection.ipynb",
      "provenance": [],
      "collapsed_sections": [],
      "authorship_tag": "ABX9TyNMY2AnVWP/QrbEUMu6Ockl",
      "include_colab_link": true
    },
    "kernelspec": {
      "name": "python3",
      "display_name": "Python 3"
    },
    "accelerator": "GPU"
  },
  "cells": [
    {
      "cell_type": "markdown",
      "metadata": {
        "id": "view-in-github",
        "colab_type": "text"
      },
      "source": [
        "<a href=\"https://colab.research.google.com/github/meti-94/BERT-QA/blob/main/node_edge_detection.ipynb\" target=\"_parent\"><img src=\"https://colab.research.google.com/assets/colab-badge.svg\" alt=\"Open In Colab\"/></a>"
      ]
    },
    {
      "cell_type": "code",
      "metadata": {
        "colab": {
          "base_uri": "https://localhost:8080/"
        },
        "id": "DQ-LV62ByxcR",
        "outputId": "be61eec5-ac8d-44a0-f7a7-67f942a66058"
      },
      "source": [
        "!pip install transformers\r\n",
        "!pip uninstall -y tensorflow"
      ],
      "execution_count": null,
      "outputs": [
        {
          "output_type": "stream",
          "text": [
            "Collecting transformers\n",
            "\u001b[?25l  Downloading https://files.pythonhosted.org/packages/cd/40/866cbfac4601e0f74c7303d533a9c5d4a53858bd402e08e3e294dd271f25/transformers-4.2.1-py3-none-any.whl (1.8MB)\n",
            "\r\u001b[K     |▏                               | 10kB 20.7MB/s eta 0:00:01\r\u001b[K     |▍                               | 20kB 28.3MB/s eta 0:00:01\r\u001b[K     |▋                               | 30kB 23.5MB/s eta 0:00:01\r\u001b[K     |▊                               | 40kB 21.7MB/s eta 0:00:01\r\u001b[K     |█                               | 51kB 23.4MB/s eta 0:00:01\r\u001b[K     |█▏                              | 61kB 16.6MB/s eta 0:00:01\r\u001b[K     |█▎                              | 71kB 16.4MB/s eta 0:00:01\r\u001b[K     |█▌                              | 81kB 16.1MB/s eta 0:00:01\r\u001b[K     |█▊                              | 92kB 16.0MB/s eta 0:00:01\r\u001b[K     |█▉                              | 102kB 16.6MB/s eta 0:00:01\r\u001b[K     |██                              | 112kB 16.6MB/s eta 0:00:01\r\u001b[K     |██▎                             | 122kB 16.6MB/s eta 0:00:01\r\u001b[K     |██▍                             | 133kB 16.6MB/s eta 0:00:01\r\u001b[K     |██▋                             | 143kB 16.6MB/s eta 0:00:01\r\u001b[K     |██▉                             | 153kB 16.6MB/s eta 0:00:01\r\u001b[K     |███                             | 163kB 16.6MB/s eta 0:00:01\r\u001b[K     |███▏                            | 174kB 16.6MB/s eta 0:00:01\r\u001b[K     |███▍                            | 184kB 16.6MB/s eta 0:00:01\r\u001b[K     |███▌                            | 194kB 16.6MB/s eta 0:00:01\r\u001b[K     |███▊                            | 204kB 16.6MB/s eta 0:00:01\r\u001b[K     |████                            | 215kB 16.6MB/s eta 0:00:01\r\u001b[K     |████                            | 225kB 16.6MB/s eta 0:00:01\r\u001b[K     |████▎                           | 235kB 16.6MB/s eta 0:00:01\r\u001b[K     |████▌                           | 245kB 16.6MB/s eta 0:00:01\r\u001b[K     |████▋                           | 256kB 16.6MB/s eta 0:00:01\r\u001b[K     |████▉                           | 266kB 16.6MB/s eta 0:00:01\r\u001b[K     |█████                           | 276kB 16.6MB/s eta 0:00:01\r\u001b[K     |█████▏                          | 286kB 16.6MB/s eta 0:00:01\r\u001b[K     |█████▍                          | 296kB 16.6MB/s eta 0:00:01\r\u001b[K     |█████▋                          | 307kB 16.6MB/s eta 0:00:01\r\u001b[K     |█████▊                          | 317kB 16.6MB/s eta 0:00:01\r\u001b[K     |██████                          | 327kB 16.6MB/s eta 0:00:01\r\u001b[K     |██████▏                         | 337kB 16.6MB/s eta 0:00:01\r\u001b[K     |██████▎                         | 348kB 16.6MB/s eta 0:00:01\r\u001b[K     |██████▌                         | 358kB 16.6MB/s eta 0:00:01\r\u001b[K     |██████▊                         | 368kB 16.6MB/s eta 0:00:01\r\u001b[K     |██████▉                         | 378kB 16.6MB/s eta 0:00:01\r\u001b[K     |███████                         | 389kB 16.6MB/s eta 0:00:01\r\u001b[K     |███████▎                        | 399kB 16.6MB/s eta 0:00:01\r\u001b[K     |███████▍                        | 409kB 16.6MB/s eta 0:00:01\r\u001b[K     |███████▋                        | 419kB 16.6MB/s eta 0:00:01\r\u001b[K     |███████▉                        | 430kB 16.6MB/s eta 0:00:01\r\u001b[K     |████████                        | 440kB 16.6MB/s eta 0:00:01\r\u001b[K     |████████▏                       | 450kB 16.6MB/s eta 0:00:01\r\u001b[K     |████████▍                       | 460kB 16.6MB/s eta 0:00:01\r\u001b[K     |████████▌                       | 471kB 16.6MB/s eta 0:00:01\r\u001b[K     |████████▊                       | 481kB 16.6MB/s eta 0:00:01\r\u001b[K     |█████████                       | 491kB 16.6MB/s eta 0:00:01\r\u001b[K     |█████████                       | 501kB 16.6MB/s eta 0:00:01\r\u001b[K     |█████████▎                      | 512kB 16.6MB/s eta 0:00:01\r\u001b[K     |█████████▌                      | 522kB 16.6MB/s eta 0:00:01\r\u001b[K     |█████████▋                      | 532kB 16.6MB/s eta 0:00:01\r\u001b[K     |█████████▉                      | 542kB 16.6MB/s eta 0:00:01\r\u001b[K     |██████████                      | 552kB 16.6MB/s eta 0:00:01\r\u001b[K     |██████████▏                     | 563kB 16.6MB/s eta 0:00:01\r\u001b[K     |██████████▍                     | 573kB 16.6MB/s eta 0:00:01\r\u001b[K     |██████████▋                     | 583kB 16.6MB/s eta 0:00:01\r\u001b[K     |██████████▊                     | 593kB 16.6MB/s eta 0:00:01\r\u001b[K     |███████████                     | 604kB 16.6MB/s eta 0:00:01\r\u001b[K     |███████████▏                    | 614kB 16.6MB/s eta 0:00:01\r\u001b[K     |███████████▎                    | 624kB 16.6MB/s eta 0:00:01\r\u001b[K     |███████████▌                    | 634kB 16.6MB/s eta 0:00:01\r\u001b[K     |███████████▊                    | 645kB 16.6MB/s eta 0:00:01\r\u001b[K     |███████████▉                    | 655kB 16.6MB/s eta 0:00:01\r\u001b[K     |████████████                    | 665kB 16.6MB/s eta 0:00:01\r\u001b[K     |████████████▎                   | 675kB 16.6MB/s eta 0:00:01\r\u001b[K     |████████████▍                   | 686kB 16.6MB/s eta 0:00:01\r\u001b[K     |████████████▋                   | 696kB 16.6MB/s eta 0:00:01\r\u001b[K     |████████████▉                   | 706kB 16.6MB/s eta 0:00:01\r\u001b[K     |█████████████                   | 716kB 16.6MB/s eta 0:00:01\r\u001b[K     |█████████████▏                  | 727kB 16.6MB/s eta 0:00:01\r\u001b[K     |█████████████▍                  | 737kB 16.6MB/s eta 0:00:01\r\u001b[K     |█████████████▌                  | 747kB 16.6MB/s eta 0:00:01\r\u001b[K     |█████████████▊                  | 757kB 16.6MB/s eta 0:00:01\r\u001b[K     |██████████████                  | 768kB 16.6MB/s eta 0:00:01\r\u001b[K     |██████████████                  | 778kB 16.6MB/s eta 0:00:01\r\u001b[K     |██████████████▎                 | 788kB 16.6MB/s eta 0:00:01\r\u001b[K     |██████████████▌                 | 798kB 16.6MB/s eta 0:00:01\r\u001b[K     |██████████████▋                 | 808kB 16.6MB/s eta 0:00:01\r\u001b[K     |██████████████▉                 | 819kB 16.6MB/s eta 0:00:01\r\u001b[K     |███████████████                 | 829kB 16.6MB/s eta 0:00:01\r\u001b[K     |███████████████▏                | 839kB 16.6MB/s eta 0:00:01\r\u001b[K     |███████████████▍                | 849kB 16.6MB/s eta 0:00:01\r\u001b[K     |███████████████▋                | 860kB 16.6MB/s eta 0:00:01\r\u001b[K     |███████████████▊                | 870kB 16.6MB/s eta 0:00:01\r\u001b[K     |████████████████                | 880kB 16.6MB/s eta 0:00:01\r\u001b[K     |████████████████▏               | 890kB 16.6MB/s eta 0:00:01\r\u001b[K     |████████████████▎               | 901kB 16.6MB/s eta 0:00:01\r\u001b[K     |████████████████▌               | 911kB 16.6MB/s eta 0:00:01\r\u001b[K     |████████████████▊               | 921kB 16.6MB/s eta 0:00:01\r\u001b[K     |████████████████▉               | 931kB 16.6MB/s eta 0:00:01\r\u001b[K     |█████████████████               | 942kB 16.6MB/s eta 0:00:01\r\u001b[K     |█████████████████▎              | 952kB 16.6MB/s eta 0:00:01\r\u001b[K     |█████████████████▍              | 962kB 16.6MB/s eta 0:00:01\r\u001b[K     |█████████████████▋              | 972kB 16.6MB/s eta 0:00:01\r\u001b[K     |█████████████████▉              | 983kB 16.6MB/s eta 0:00:01\r\u001b[K     |██████████████████              | 993kB 16.6MB/s eta 0:00:01\r\u001b[K     |██████████████████▏             | 1.0MB 16.6MB/s eta 0:00:01\r\u001b[K     |██████████████████▍             | 1.0MB 16.6MB/s eta 0:00:01\r\u001b[K     |██████████████████▌             | 1.0MB 16.6MB/s eta 0:00:01\r\u001b[K     |██████████████████▊             | 1.0MB 16.6MB/s eta 0:00:01\r\u001b[K     |███████████████████             | 1.0MB 16.6MB/s eta 0:00:01\r\u001b[K     |███████████████████             | 1.1MB 16.6MB/s eta 0:00:01\r\u001b[K     |███████████████████▎            | 1.1MB 16.6MB/s eta 0:00:01\r\u001b[K     |███████████████████▌            | 1.1MB 16.6MB/s eta 0:00:01\r\u001b[K     |███████████████████▋            | 1.1MB 16.6MB/s eta 0:00:01\r\u001b[K     |███████████████████▉            | 1.1MB 16.6MB/s eta 0:00:01\r\u001b[K     |████████████████████            | 1.1MB 16.6MB/s eta 0:00:01\r\u001b[K     |████████████████████▏           | 1.1MB 16.6MB/s eta 0:00:01\r\u001b[K     |████████████████████▍           | 1.1MB 16.6MB/s eta 0:00:01\r\u001b[K     |████████████████████▋           | 1.1MB 16.6MB/s eta 0:00:01\r\u001b[K     |████████████████████▊           | 1.1MB 16.6MB/s eta 0:00:01\r\u001b[K     |█████████████████████           | 1.2MB 16.6MB/s eta 0:00:01\r\u001b[K     |█████████████████████▏          | 1.2MB 16.6MB/s eta 0:00:01\r\u001b[K     |█████████████████████▎          | 1.2MB 16.6MB/s eta 0:00:01\r\u001b[K     |█████████████████████▌          | 1.2MB 16.6MB/s eta 0:00:01\r\u001b[K     |█████████████████████▊          | 1.2MB 16.6MB/s eta 0:00:01\r\u001b[K     |█████████████████████▉          | 1.2MB 16.6MB/s eta 0:00:01\r\u001b[K     |██████████████████████          | 1.2MB 16.6MB/s eta 0:00:01\r\u001b[K     |██████████████████████▎         | 1.2MB 16.6MB/s eta 0:00:01\r\u001b[K     |██████████████████████▍         | 1.2MB 16.6MB/s eta 0:00:01\r\u001b[K     |██████████████████████▋         | 1.2MB 16.6MB/s eta 0:00:01\r\u001b[K     |██████████████████████▉         | 1.3MB 16.6MB/s eta 0:00:01\r\u001b[K     |███████████████████████         | 1.3MB 16.6MB/s eta 0:00:01\r\u001b[K     |███████████████████████▏        | 1.3MB 16.6MB/s eta 0:00:01\r\u001b[K     |███████████████████████▍        | 1.3MB 16.6MB/s eta 0:00:01\r\u001b[K     |███████████████████████▋        | 1.3MB 16.6MB/s eta 0:00:01\r\u001b[K     |███████████████████████▊        | 1.3MB 16.6MB/s eta 0:00:01\r\u001b[K     |████████████████████████        | 1.3MB 16.6MB/s eta 0:00:01\r\u001b[K     |████████████████████████▏       | 1.3MB 16.6MB/s eta 0:00:01\r\u001b[K     |████████████████████████▎       | 1.3MB 16.6MB/s eta 0:00:01\r\u001b[K     |████████████████████████▌       | 1.4MB 16.6MB/s eta 0:00:01\r\u001b[K     |████████████████████████▊       | 1.4MB 16.6MB/s eta 0:00:01\r\u001b[K     |████████████████████████▉       | 1.4MB 16.6MB/s eta 0:00:01\r\u001b[K     |█████████████████████████       | 1.4MB 16.6MB/s eta 0:00:01\r\u001b[K     |█████████████████████████▎      | 1.4MB 16.6MB/s eta 0:00:01\r\u001b[K     |█████████████████████████▍      | 1.4MB 16.6MB/s eta 0:00:01\r\u001b[K     |█████████████████████████▋      | 1.4MB 16.6MB/s eta 0:00:01\r\u001b[K     |█████████████████████████▉      | 1.4MB 16.6MB/s eta 0:00:01\r\u001b[K     |██████████████████████████      | 1.4MB 16.6MB/s eta 0:00:01\r\u001b[K     |██████████████████████████▏     | 1.4MB 16.6MB/s eta 0:00:01\r\u001b[K     |██████████████████████████▍     | 1.5MB 16.6MB/s eta 0:00:01\r\u001b[K     |██████████████████████████▌     | 1.5MB 16.6MB/s eta 0:00:01\r\u001b[K     |██████████████████████████▊     | 1.5MB 16.6MB/s eta 0:00:01\r\u001b[K     |███████████████████████████     | 1.5MB 16.6MB/s eta 0:00:01\r\u001b[K     |███████████████████████████     | 1.5MB 16.6MB/s eta 0:00:01\r\u001b[K     |███████████████████████████▎    | 1.5MB 16.6MB/s eta 0:00:01\r\u001b[K     |███████████████████████████▌    | 1.5MB 16.6MB/s eta 0:00:01\r\u001b[K     |███████████████████████████▋    | 1.5MB 16.6MB/s eta 0:00:01\r\u001b[K     |███████████████████████████▉    | 1.5MB 16.6MB/s eta 0:00:01\r\u001b[K     |████████████████████████████    | 1.5MB 16.6MB/s eta 0:00:01\r\u001b[K     |████████████████████████████▏   | 1.6MB 16.6MB/s eta 0:00:01\r\u001b[K     |████████████████████████████▍   | 1.6MB 16.6MB/s eta 0:00:01\r\u001b[K     |████████████████████████████▋   | 1.6MB 16.6MB/s eta 0:00:01\r\u001b[K     |████████████████████████████▊   | 1.6MB 16.6MB/s eta 0:00:01\r\u001b[K     |█████████████████████████████   | 1.6MB 16.6MB/s eta 0:00:01\r\u001b[K     |█████████████████████████████▏  | 1.6MB 16.6MB/s eta 0:00:01\r\u001b[K     |█████████████████████████████▎  | 1.6MB 16.6MB/s eta 0:00:01\r\u001b[K     |█████████████████████████████▌  | 1.6MB 16.6MB/s eta 0:00:01\r\u001b[K     |█████████████████████████████▊  | 1.6MB 16.6MB/s eta 0:00:01\r\u001b[K     |█████████████████████████████▉  | 1.6MB 16.6MB/s eta 0:00:01\r\u001b[K     |██████████████████████████████  | 1.7MB 16.6MB/s eta 0:00:01\r\u001b[K     |██████████████████████████████▎ | 1.7MB 16.6MB/s eta 0:00:01\r\u001b[K     |██████████████████████████████▍ | 1.7MB 16.6MB/s eta 0:00:01\r\u001b[K     |██████████████████████████████▋ | 1.7MB 16.6MB/s eta 0:00:01\r\u001b[K     |██████████████████████████████▉ | 1.7MB 16.6MB/s eta 0:00:01\r\u001b[K     |███████████████████████████████ | 1.7MB 16.6MB/s eta 0:00:01\r\u001b[K     |███████████████████████████████▏| 1.7MB 16.6MB/s eta 0:00:01\r\u001b[K     |███████████████████████████████▍| 1.7MB 16.6MB/s eta 0:00:01\r\u001b[K     |███████████████████████████████▌| 1.7MB 16.6MB/s eta 0:00:01\r\u001b[K     |███████████████████████████████▊| 1.8MB 16.6MB/s eta 0:00:01\r\u001b[K     |████████████████████████████████| 1.8MB 16.6MB/s eta 0:00:01\r\u001b[K     |████████████████████████████████| 1.8MB 16.6MB/s \n",
            "\u001b[?25hRequirement already satisfied: filelock in /usr/local/lib/python3.6/dist-packages (from transformers) (3.0.12)\n",
            "Requirement already satisfied: packaging in /usr/local/lib/python3.6/dist-packages (from transformers) (20.8)\n",
            "Collecting tokenizers==0.9.4\n",
            "\u001b[?25l  Downloading https://files.pythonhosted.org/packages/0f/1c/e789a8b12e28be5bc1ce2156cf87cb522b379be9cadc7ad8091a4cc107c4/tokenizers-0.9.4-cp36-cp36m-manylinux2010_x86_64.whl (2.9MB)\n",
            "\u001b[K     |████████████████████████████████| 2.9MB 48.5MB/s \n",
            "\u001b[?25hRequirement already satisfied: tqdm>=4.27 in /usr/local/lib/python3.6/dist-packages (from transformers) (4.41.1)\n",
            "Requirement already satisfied: numpy in /usr/local/lib/python3.6/dist-packages (from transformers) (1.19.5)\n",
            "Requirement already satisfied: regex!=2019.12.17 in /usr/local/lib/python3.6/dist-packages (from transformers) (2019.12.20)\n",
            "Requirement already satisfied: requests in /usr/local/lib/python3.6/dist-packages (from transformers) (2.23.0)\n",
            "Collecting sacremoses\n",
            "\u001b[?25l  Downloading https://files.pythonhosted.org/packages/7d/34/09d19aff26edcc8eb2a01bed8e98f13a1537005d31e95233fd48216eed10/sacremoses-0.0.43.tar.gz (883kB)\n",
            "\u001b[K     |████████████████████████████████| 890kB 52.3MB/s \n",
            "\u001b[?25hRequirement already satisfied: importlib-metadata; python_version < \"3.8\" in /usr/local/lib/python3.6/dist-packages (from transformers) (3.3.0)\n",
            "Requirement already satisfied: dataclasses; python_version < \"3.7\" in /usr/local/lib/python3.6/dist-packages (from transformers) (0.8)\n",
            "Requirement already satisfied: pyparsing>=2.0.2 in /usr/local/lib/python3.6/dist-packages (from packaging->transformers) (2.4.7)\n",
            "Requirement already satisfied: certifi>=2017.4.17 in /usr/local/lib/python3.6/dist-packages (from requests->transformers) (2020.12.5)\n",
            "Requirement already satisfied: chardet<4,>=3.0.2 in /usr/local/lib/python3.6/dist-packages (from requests->transformers) (3.0.4)\n",
            "Requirement already satisfied: idna<3,>=2.5 in /usr/local/lib/python3.6/dist-packages (from requests->transformers) (2.10)\n",
            "Requirement already satisfied: urllib3!=1.25.0,!=1.25.1,<1.26,>=1.21.1 in /usr/local/lib/python3.6/dist-packages (from requests->transformers) (1.24.3)\n",
            "Requirement already satisfied: six in /usr/local/lib/python3.6/dist-packages (from sacremoses->transformers) (1.15.0)\n",
            "Requirement already satisfied: click in /usr/local/lib/python3.6/dist-packages (from sacremoses->transformers) (7.1.2)\n",
            "Requirement already satisfied: joblib in /usr/local/lib/python3.6/dist-packages (from sacremoses->transformers) (1.0.0)\n",
            "Requirement already satisfied: typing-extensions>=3.6.4; python_version < \"3.8\" in /usr/local/lib/python3.6/dist-packages (from importlib-metadata; python_version < \"3.8\"->transformers) (3.7.4.3)\n",
            "Requirement already satisfied: zipp>=0.5 in /usr/local/lib/python3.6/dist-packages (from importlib-metadata; python_version < \"3.8\"->transformers) (3.4.0)\n",
            "Building wheels for collected packages: sacremoses\n",
            "  Building wheel for sacremoses (setup.py) ... \u001b[?25l\u001b[?25hdone\n",
            "  Created wheel for sacremoses: filename=sacremoses-0.0.43-cp36-none-any.whl size=893261 sha256=c1a512baebbeaaa41f07c8a268777b0ecbb5ba468e993ca295137d5e482a88a1\n",
            "  Stored in directory: /root/.cache/pip/wheels/29/3c/fd/7ce5c3f0666dab31a50123635e6fb5e19ceb42ce38d4e58f45\n",
            "Successfully built sacremoses\n",
            "Installing collected packages: tokenizers, sacremoses, transformers\n",
            "Successfully installed sacremoses-0.0.43 tokenizers-0.9.4 transformers-4.2.1\n",
            "Uninstalling tensorflow-2.4.0:\n",
            "  Would remove:\n",
            "    /usr/local/bin/estimator_ckpt_converter\n",
            "    /usr/local/bin/import_pb_to_tensorboard\n",
            "    /usr/local/bin/saved_model_cli\n",
            "    /usr/local/bin/tensorboard\n",
            "    /usr/local/bin/tf_upgrade_v2\n",
            "    /usr/local/bin/tflite_convert\n",
            "    /usr/local/bin/toco\n",
            "    /usr/local/bin/toco_from_protos\n",
            "    /usr/local/lib/python3.6/dist-packages/tensorflow-2.4.0.dist-info/*\n",
            "    /usr/local/lib/python3.6/dist-packages/tensorflow/*\n",
            "Proceed (y/n)? y\n",
            "  Successfully uninstalled tensorflow-2.4.0\n"
          ],
          "name": "stdout"
        }
      ]
    },
    {
      "cell_type": "code",
      "metadata": {
        "colab": {
          "base_uri": "https://localhost:8080/"
        },
        "id": "lK5AY1cWmoqG",
        "outputId": "62b3bfbb-0a8e-481a-c1f0-dd163c3fab0f"
      },
      "source": [
        "!git clone https://github.com/meti-94/BERT-QA.git"
      ],
      "execution_count": null,
      "outputs": [
        {
          "output_type": "stream",
          "text": [
            "Cloning into 'BERT-QA'...\n",
            "remote: Enumerating objects: 164, done.\u001b[K\n",
            "remote: Counting objects: 100% (164/164), done.\u001b[K\n",
            "remote: Compressing objects: 100% (136/136), done.\u001b[K\n",
            "remote: Total 164 (delta 36), reused 139 (delta 16), pack-reused 0\u001b[K\n",
            "Receiving objects: 100% (164/164), 29.32 MiB | 21.68 MiB/s, done.\n",
            "Resolving deltas: 100% (36/36), done.\n"
          ],
          "name": "stdout"
        }
      ]
    },
    {
      "cell_type": "code",
      "metadata": {
        "colab": {
          "base_uri": "https://localhost:8080/"
        },
        "id": "2-eIIezrzF9g",
        "outputId": "efc384fd-9ae1-495a-e54b-a09371bb3b49"
      },
      "source": [
        "%cd /content/BERT-QA/\r\n",
        "!python node_edge_bert.py"
      ],
      "execution_count": null,
      "outputs": [
        {
          "output_type": "stream",
          "text": [
            "/content/BERT-QA\n",
            "DEBUG:urllib3.connectionpool:Starting new HTTPS connection (1): huggingface.co:443\n",
            "DEBUG:urllib3.connectionpool:https://huggingface.co:443 \"HEAD /bert-base-uncased/resolve/main/config.json HTTP/1.1\" 200 0\n",
            "DEBUG:filelock:Attempting to acquire lock 140143631780216 on /root/.cache/huggingface/transformers/3c61d016573b14f7f008c02c4e51a366c67ab274726fe2910691e2a761acf43e.637c6035640bacb831febcc2b7f7bee0a96f9b30c2d7e9ef84082d9f252f3170.lock\n",
            "INFO:filelock:Lock 140143631780216 acquired on /root/.cache/huggingface/transformers/3c61d016573b14f7f008c02c4e51a366c67ab274726fe2910691e2a761acf43e.637c6035640bacb831febcc2b7f7bee0a96f9b30c2d7e9ef84082d9f252f3170.lock\n",
            "DEBUG:urllib3.connectionpool:Starting new HTTPS connection (1): huggingface.co:443\n",
            "DEBUG:urllib3.connectionpool:https://huggingface.co:443 \"GET /bert-base-uncased/resolve/main/config.json HTTP/1.1\" 200 433\n",
            "Downloading: 100% 433/433 [00:00<00:00, 675kB/s]\n",
            "DEBUG:filelock:Attempting to release lock 140143631780216 on /root/.cache/huggingface/transformers/3c61d016573b14f7f008c02c4e51a366c67ab274726fe2910691e2a761acf43e.637c6035640bacb831febcc2b7f7bee0a96f9b30c2d7e9ef84082d9f252f3170.lock\n",
            "INFO:filelock:Lock 140143631780216 released on /root/.cache/huggingface/transformers/3c61d016573b14f7f008c02c4e51a366c67ab274726fe2910691e2a761acf43e.637c6035640bacb831febcc2b7f7bee0a96f9b30c2d7e9ef84082d9f252f3170.lock\n",
            "DEBUG:urllib3.connectionpool:Starting new HTTPS connection (1): huggingface.co:443\n",
            "DEBUG:urllib3.connectionpool:https://huggingface.co:443 \"HEAD /bert-base-uncased/resolve/main/pytorch_model.bin HTTP/1.1\" 302 0\n",
            "DEBUG:filelock:Attempting to acquire lock 140142025739176 on /root/.cache/huggingface/transformers/a8041bf617d7f94ea26d15e218abd04afc2004805632abc0ed2066aa16d50d04.faf6ea826ae9c5867d12b22257f9877e6b8367890837bd60f7c54a29633f7f2f.lock\n",
            "INFO:filelock:Lock 140142025739176 acquired on /root/.cache/huggingface/transformers/a8041bf617d7f94ea26d15e218abd04afc2004805632abc0ed2066aa16d50d04.faf6ea826ae9c5867d12b22257f9877e6b8367890837bd60f7c54a29633f7f2f.lock\n",
            "DEBUG:urllib3.connectionpool:Starting new HTTPS connection (1): cdn-lfs.huggingface.co:443\n",
            "DEBUG:urllib3.connectionpool:https://cdn-lfs.huggingface.co:443 \"GET /bert-base-uncased/097417381d6c7230bd9e3557456d726de6e83245ec8b24f529f60198a67b203a HTTP/1.1\" 200 440473133\n",
            "Downloading: 100% 440M/440M [00:04<00:00, 92.1MB/s]\n",
            "DEBUG:filelock:Attempting to release lock 140142025739176 on /root/.cache/huggingface/transformers/a8041bf617d7f94ea26d15e218abd04afc2004805632abc0ed2066aa16d50d04.faf6ea826ae9c5867d12b22257f9877e6b8367890837bd60f7c54a29633f7f2f.lock\n",
            "INFO:filelock:Lock 140142025739176 released on /root/.cache/huggingface/transformers/a8041bf617d7f94ea26d15e218abd04afc2004805632abc0ed2066aa16d50d04.faf6ea826ae9c5867d12b22257f9877e6b8367890837bd60f7c54a29633f7f2f.lock\n",
            "DEBUG:urllib3.connectionpool:Starting new HTTPS connection (1): huggingface.co:443\n",
            "DEBUG:urllib3.connectionpool:https://huggingface.co:443 \"HEAD /bert-base-uncased/resolve/main/vocab.txt HTTP/1.1\" 200 0\n",
            "DEBUG:filelock:Attempting to acquire lock 140142010178752 on /root/.cache/huggingface/transformers/45c3f7a79a80e1cf0a489e5c62b43f173c15db47864303a55d623bb3c96f72a5.d789d64ebfe299b0e416afc4a169632f903f693095b4629a7ea271d5a0cf2c99.lock\n",
            "INFO:filelock:Lock 140142010178752 acquired on /root/.cache/huggingface/transformers/45c3f7a79a80e1cf0a489e5c62b43f173c15db47864303a55d623bb3c96f72a5.d789d64ebfe299b0e416afc4a169632f903f693095b4629a7ea271d5a0cf2c99.lock\n",
            "DEBUG:urllib3.connectionpool:Starting new HTTPS connection (1): huggingface.co:443\n",
            "DEBUG:urllib3.connectionpool:https://huggingface.co:443 \"GET /bert-base-uncased/resolve/main/vocab.txt HTTP/1.1\" 200 231508\n",
            "Downloading: 100% 232k/232k [00:00<00:00, 23.6MB/s]\n",
            "DEBUG:filelock:Attempting to release lock 140142010178752 on /root/.cache/huggingface/transformers/45c3f7a79a80e1cf0a489e5c62b43f173c15db47864303a55d623bb3c96f72a5.d789d64ebfe299b0e416afc4a169632f903f693095b4629a7ea271d5a0cf2c99.lock\n",
            "INFO:filelock:Lock 140142010178752 released on /root/.cache/huggingface/transformers/45c3f7a79a80e1cf0a489e5c62b43f173c15db47864303a55d623bb3c96f72a5.d789d64ebfe299b0e416afc4a169632f903f693095b4629a7ea271d5a0cf2c99.lock\n",
            "Train Epoch Number 1: 100% 27/27 [00:28<00:00,  1.07s/it]\n",
            "INFO:root:Epoch number: 1 Train Loss is equal: 2179.946044921875\n",
            "Eval Epoch Number 1: 100% 19/19 [00:01<00:00, 12.26it/s]\n",
            "INFO:root:Epoch number: 1 Eval Loss is equal: 130.82327270507812\n",
            "Train Epoch Number 2: 100% 27/27 [00:29<00:00,  1.08s/it]\n",
            "INFO:root:Epoch number: 2 Train Loss is equal: 366.5761413574219\n",
            "Eval Epoch Number 2: 100% 19/19 [00:01<00:00, 12.02it/s]\n",
            "INFO:root:Epoch number: 2 Eval Loss is equal: 52.839664459228516\n",
            "Train Epoch Number 3: 100% 27/27 [00:29<00:00,  1.09s/it]\n",
            "INFO:root:Epoch number: 3 Train Loss is equal: 166.30288696289062\n",
            "Eval Epoch Number 3: 100% 19/19 [00:01<00:00, 11.79it/s]\n",
            "INFO:root:Epoch number: 3 Eval Loss is equal: 20.6501407623291\n",
            "Train Epoch Number 4: 100% 27/27 [00:30<00:00,  1.13s/it]\n",
            "INFO:root:Epoch number: 4 Train Loss is equal: 95.94692993164062\n",
            "Eval Epoch Number 4: 100% 19/19 [00:01<00:00, 11.50it/s]\n",
            "INFO:root:Epoch number: 4 Eval Loss is equal: 14.36962890625\n",
            "Train Epoch Number 5: 100% 27/27 [00:31<00:00,  1.15s/it]\n",
            "INFO:root:Epoch number: 5 Train Loss is equal: 70.58059692382812\n",
            "Eval Epoch Number 5: 100% 19/19 [00:01<00:00, 11.48it/s]\n",
            "INFO:root:Epoch number: 5 Eval Loss is equal: 11.527140617370605\n",
            "Train Epoch Number 6: 100% 27/27 [00:30<00:00,  1.14s/it]\n",
            "INFO:root:Epoch number: 6 Train Loss is equal: 58.30671310424805\n",
            "Eval Epoch Number 6: 100% 19/19 [00:01<00:00, 11.32it/s]\n",
            "INFO:root:Epoch number: 6 Eval Loss is equal: 10.188664436340332\n",
            "Predicting ...: 100% 27/27 [00:05<00:00,  4.96it/s]\n",
            "INFO:root:Dataset-wide F1, precision and recall:\n",
            "INFO:root:0.9893518906682318, 0.988523079500712, 0.9901820928085928\n",
            "INFO:root:Averaged F1, precision and recall:\n",
            "INFO:root:nan, 0.990500662982442, 0.9908650808482615\n",
            "INFO:root:Span accuracy\n",
            "INFO:root:0.9876658568491871\n",
            "\n",
            "INFO:root:Dataset-wide F1, precision and recall:\n",
            "INFO:root:0.9812773122719801, 0.979510164879142, 0.9830508474576272\n",
            "INFO:root:Averaged F1, precision and recall:\n",
            "INFO:root:nan, 0.973974305351618, 0.9778199001521745\n",
            "INFO:root:Span accuracy\n",
            "INFO:root:0.9706596897776116\n",
            "Question                    Node               Edge\n",
            "--------------------------  -----------------  -------\n",
            "Where was Bill Gates Born?  ['bill', 'gates']  ['was']\n"
          ],
          "name": "stdout"
        }
      ]
    },
    {
      "cell_type": "code",
      "metadata": {
        "id": "7ZMwunGQwrHd",
        "colab": {
          "base_uri": "https://localhost:8080/"
        },
        "outputId": "7811e492-3bd2-4b5b-a43f-3c8a82cc25da"
      },
      "source": [
        "!pip install networkx\r\n",
        "!pip install fuzzywuzzy[speedup]"
      ],
      "execution_count": null,
      "outputs": [
        {
          "output_type": "stream",
          "text": [
            "Requirement already satisfied: networkx in /usr/local/lib/python3.6/dist-packages (2.5)\n",
            "Requirement already satisfied: decorator>=4.3.0 in /usr/local/lib/python3.6/dist-packages (from networkx) (4.4.2)\n",
            "Collecting fuzzywuzzy[speedup]\n",
            "  Using cached https://files.pythonhosted.org/packages/43/ff/74f23998ad2f93b945c0309f825be92e04e0348e062026998b5eefef4c33/fuzzywuzzy-0.18.0-py2.py3-none-any.whl\n",
            "Collecting python-levenshtein>=0.12; extra == \"speedup\"\n",
            "\u001b[?25l  Downloading https://files.pythonhosted.org/packages/42/a9/d1785c85ebf9b7dfacd08938dd028209c34a0ea3b1bcdb895208bd40a67d/python-Levenshtein-0.12.0.tar.gz (48kB)\n",
            "\u001b[K     |████████████████████████████████| 51kB 7.8MB/s \n",
            "\u001b[?25hRequirement already satisfied: setuptools in /usr/local/lib/python3.6/dist-packages (from python-levenshtein>=0.12; extra == \"speedup\"->fuzzywuzzy[speedup]) (51.1.1)\n",
            "Building wheels for collected packages: python-levenshtein\n",
            "  Building wheel for python-levenshtein (setup.py) ... \u001b[?25l\u001b[?25hdone\n",
            "  Created wheel for python-levenshtein: filename=python_Levenshtein-0.12.0-cp36-cp36m-linux_x86_64.whl size=144805 sha256=7e1eb281fc9e77f64f39ab57d44814cdd5a0efe7eb84aad14a8b3220d8ca1129\n",
            "  Stored in directory: /root/.cache/pip/wheels/de/c2/93/660fd5f7559049268ad2dc6d81c4e39e9e36518766eaf7e342\n",
            "Successfully built python-levenshtein\n",
            "Installing collected packages: python-levenshtein, fuzzywuzzy\n",
            "Successfully installed fuzzywuzzy-0.18.0 python-levenshtein-0.12.0\n"
          ],
          "name": "stdout"
        }
      ]
    },
    {
      "cell_type": "code",
      "metadata": {
        "id": "S6h_BRN-zs6k",
        "colab": {
          "base_uri": "https://localhost:8080/"
        },
        "outputId": "7dfa75e5-995d-4c1c-98c9-62e29d5880e7"
      },
      "source": [
        "!python main.py"
      ],
      "execution_count": null,
      "outputs": [
        {
          "output_type": "stream",
          "text": [
            "DEBUG:urllib3.connectionpool:Starting new HTTPS connection (1): huggingface.co:443\n",
            "DEBUG:urllib3.connectionpool:https://huggingface.co:443 \"HEAD /bert-base-uncased/resolve/main/config.json HTTP/1.1\" 200 0\n",
            "DEBUG:urllib3.connectionpool:Starting new HTTPS connection (1): huggingface.co:443\n",
            "DEBUG:urllib3.connectionpool:https://huggingface.co:443 \"HEAD /bert-base-uncased/resolve/main/pytorch_model.bin HTTP/1.1\" 302 0\n",
            "DEBUG:urllib3.connectionpool:Starting new HTTPS connection (1): huggingface.co:443\n",
            "DEBUG:urllib3.connectionpool:https://huggingface.co:443 \"HEAD /bert-base-uncased/resolve/main/vocab.txt HTTP/1.1\" 200 0\n",
            "INFO:numexpr.utils:NumExpr defaulting to 2 threads.\n",
            "Reading Graph ...: 100% 407236/407236 [00:50<00:00, 8006.94it/s]\n",
            "[(402752, 'Lenin', 60, 'fled to', 100, 'Finland'), (394626, 'Kent', 54, 'fled to', 100, 'Paulinus')]\n",
            "  0% 0/5351 [00:00<?, ?it/s]Node: upstate new york, Edge:lives in\n",
            "[(405966, 'New York City', 86, 'lives in', 100, 'Antoine'), (405966, 'New York City', 86, 'lives in', 100, 'Barnes'), (405966, 'New York City', 86, 'lives in', 100, 'Baron'), (405966, 'New York City', 86, 'lives in', 100, 'Burke'), (405966, 'New York City', 86, 'lives in', 100, 'Castel'), (405966, 'New York City', 86, 'lives in', 100, 'Dotson'), (405966, 'New York City', 86, 'lives in', 100, 'Dr. Ben'), (405966, 'New York City', 86, 'lives in', 100, 'Fancher'), (405966, 'New York City', 86, 'lives in', 100, 'Goldman'), (405966, 'New York City', 86, 'lives in', 100, 'Gunn'), (405966, 'New York City', 86, 'lives in', 100, 'Harris'), (405966, 'New York City', 86, 'lives in', 100, 'LeShan'), (405966, 'New York City', 86, 'lives in', 100, 'Leventhal'), (405966, 'New York City', 86, 'lives in', 100, 'Matthew'), (405966, 'New York City', 86, 'lives in', 100, 'Mead'), (405966, 'New York City', 86, 'lives in', 100, 'Michael'), (405966, 'New York City', 86, 'lives in', 100, 'Patterson'), (405966, 'New York City', 86, 'lives in', 100, 'Pellegrino'), (405966, 'New York City', 86, 'lives in', 100, 'Pierpont'), (405966, 'New York City', 86, 'lives in', 100, 'Robbins'), (405966, 'New York City', 86, 'lives in', 100, 'Rose'), (405966, 'New York City', 86, 'lives in', 100, 'Ruth Gruber'), (405966, 'New York City', 86, 'lives in', 100, 'Sarah'), (405966, 'New York City', 86, 'lives in', 100, 'Schmehl'), (405966, 'New York City', 86, 'lives in', 100, 'Seaman'), (405966, 'New York City', 86, 'lives in', 100, 'Sokolov'), (405966, 'New York City', 86, 'lives in', 100, 'Wain'), (404284, 'New South Wales', 86, 'lives in', 100, 'Jackie'), (404284, 'New South Wales', 86, 'lives in', 100, 'Wendy'), (406710, 'New Zealand', 86, 'lives in', 100, 'Arthur'), (406710, 'New Zealand', 86, 'lives in', 100, 'Morrison'), (405570, 'New Jersey', 86, 'lives in', 100, 'Mr Scott'), (405570, 'New Jersey', 86, 'lives in', 100, 'Nagy'), (405570, 'New Jersey', 86, 'lives in', 100, 'Orrico'), (406837, 'New York', 86, 'lives in', 100, 'Alex'), (406837, 'New York', 86, 'lives in', 100, 'Eddie'), (406837, 'New York', 86, 'lives in', 100, 'Jodi'), (406837, 'New York', 86, 'lives in', 100, 'King'), (406837, 'New York', 86, 'lives in', 100, 'Kobryn'), (406837, 'New York', 86, 'lives in', 100, 'Mia'), (406837, 'New York', 86, 'lives in', 100, 'Milford'), (406837, 'New York', 86, 'lives in', 100, 'Ms. Noonan'), (406837, 'New York', 86, 'lives in', 100, 'Schnabel'), (406837, 'New York', 86, 'lives in', 100, 'Winner')]\n",
            "  0% 1/5351 [00:42<63:46:02, 42.91s/it]Node: ganon, Edge:is kidnapped by\n",
            "[(392350, 'Ganon', 60, 'is kidnapped by', 100, 'Zelda')]\n",
            "  0% 2/5351 [01:14<58:43:10, 39.52s/it]Node: 1872, Edge:was constructed in\n",
            "[(390690, '1872', 60, 'was constructed in', 100, 'A railroad')]\n",
            "  0% 3/5351 [01:46<55:12:03, 37.16s/it]Node: jackson, Edge:the club\n"
          ],
          "name": "stdout"
        }
      ]
    },
    {
      "cell_type": "code",
      "metadata": {
        "id": "ws4lrw2mnf8b"
      },
      "source": [
        ""
      ],
      "execution_count": null,
      "outputs": []
    }
  ]
}