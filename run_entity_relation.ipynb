{
  "nbformat": 4,
  "nbformat_minor": 0,
  "metadata": {
    "colab": {
      "name": "run_entity/relation.ipynb",
      "provenance": [],
      "collapsed_sections": [],
      "mount_file_id": "1ijW9vmiz2T1Z_WRQHnFDxf4Vbd_CwGS6",
      "authorship_tag": "ABX9TyMSky7p/vJHuIrwloJjiVNy",
      "include_colab_link": true
    },
    "kernelspec": {
      "name": "python3",
      "display_name": "Python 3"
    },
    "accelerator": "GPU"
  },
  "cells": [
    {
      "cell_type": "markdown",
      "metadata": {
        "id": "view-in-github",
        "colab_type": "text"
      },
      "source": [
        "<a href=\"https://colab.research.google.com/github/meti-94/BERT-QA/blob/main/run_entity_relation.ipynb\" target=\"_parent\"><img src=\"https://colab.research.google.com/assets/colab-badge.svg\" alt=\"Open In Colab\"/></a>"
      ]
    },
    {
      "cell_type": "code",
      "metadata": {
        "colab": {
          "base_uri": "https://localhost:8080/"
        },
        "id": "5Y1CHqD9OxL-",
        "outputId": "6a896222-8fd6-44bb-e291-83951aa91462"
      },
      "source": [
        "# install libraries \r\n",
        "!pip install Unidecode\r\n",
        "!pip install pytorch_pretrained_bert\r\n",
        "!pip install fuzzywuzzy\r\n",
        "!pip install sklearn\r\n",
        "!pip install fuzzyset\r\n",
        "!pip install bloom_filter"
      ],
      "execution_count": 41,
      "outputs": [
        {
          "output_type": "stream",
          "text": [
            "Requirement already satisfied: Unidecode in /usr/local/lib/python3.6/dist-packages (1.1.2)\n",
            "Requirement already satisfied: pytorch_pretrained_bert in /usr/local/lib/python3.6/dist-packages (0.6.2)\n",
            "Requirement already satisfied: torch>=0.4.1 in /usr/local/lib/python3.6/dist-packages (from pytorch_pretrained_bert) (1.7.0+cu101)\n",
            "Requirement already satisfied: boto3 in /usr/local/lib/python3.6/dist-packages (from pytorch_pretrained_bert) (1.16.43)\n",
            "Requirement already satisfied: tqdm in /usr/local/lib/python3.6/dist-packages (from pytorch_pretrained_bert) (4.41.1)\n",
            "Requirement already satisfied: requests in /usr/local/lib/python3.6/dist-packages (from pytorch_pretrained_bert) (2.23.0)\n",
            "Requirement already satisfied: numpy in /usr/local/lib/python3.6/dist-packages (from pytorch_pretrained_bert) (1.19.4)\n",
            "Requirement already satisfied: regex in /usr/local/lib/python3.6/dist-packages (from pytorch_pretrained_bert) (2019.12.20)\n",
            "Requirement already satisfied: dataclasses in /usr/local/lib/python3.6/dist-packages (from torch>=0.4.1->pytorch_pretrained_bert) (0.8)\n",
            "Requirement already satisfied: typing-extensions in /usr/local/lib/python3.6/dist-packages (from torch>=0.4.1->pytorch_pretrained_bert) (3.7.4.3)\n",
            "Requirement already satisfied: future in /usr/local/lib/python3.6/dist-packages (from torch>=0.4.1->pytorch_pretrained_bert) (0.16.0)\n",
            "Requirement already satisfied: botocore<1.20.0,>=1.19.43 in /usr/local/lib/python3.6/dist-packages (from boto3->pytorch_pretrained_bert) (1.19.43)\n",
            "Requirement already satisfied: s3transfer<0.4.0,>=0.3.0 in /usr/local/lib/python3.6/dist-packages (from boto3->pytorch_pretrained_bert) (0.3.3)\n",
            "Requirement already satisfied: jmespath<1.0.0,>=0.7.1 in /usr/local/lib/python3.6/dist-packages (from boto3->pytorch_pretrained_bert) (0.10.0)\n",
            "Requirement already satisfied: idna<3,>=2.5 in /usr/local/lib/python3.6/dist-packages (from requests->pytorch_pretrained_bert) (2.10)\n",
            "Requirement already satisfied: certifi>=2017.4.17 in /usr/local/lib/python3.6/dist-packages (from requests->pytorch_pretrained_bert) (2020.12.5)\n",
            "Requirement already satisfied: urllib3!=1.25.0,!=1.25.1,<1.26,>=1.21.1 in /usr/local/lib/python3.6/dist-packages (from requests->pytorch_pretrained_bert) (1.24.3)\n",
            "Requirement already satisfied: chardet<4,>=3.0.2 in /usr/local/lib/python3.6/dist-packages (from requests->pytorch_pretrained_bert) (3.0.4)\n",
            "Requirement already satisfied: python-dateutil<3.0.0,>=2.1 in /usr/local/lib/python3.6/dist-packages (from botocore<1.20.0,>=1.19.43->boto3->pytorch_pretrained_bert) (2.8.1)\n",
            "Requirement already satisfied: six>=1.5 in /usr/local/lib/python3.6/dist-packages (from python-dateutil<3.0.0,>=2.1->botocore<1.20.0,>=1.19.43->boto3->pytorch_pretrained_bert) (1.15.0)\n",
            "Requirement already satisfied: fuzzywuzzy in /usr/local/lib/python3.6/dist-packages (0.18.0)\n",
            "Requirement already satisfied: sklearn in /usr/local/lib/python3.6/dist-packages (0.0)\n",
            "Requirement already satisfied: scikit-learn in /usr/local/lib/python3.6/dist-packages (from sklearn) (0.22.2.post1)\n",
            "Requirement already satisfied: numpy>=1.11.0 in /usr/local/lib/python3.6/dist-packages (from scikit-learn->sklearn) (1.19.4)\n",
            "Requirement already satisfied: scipy>=0.17.0 in /usr/local/lib/python3.6/dist-packages (from scikit-learn->sklearn) (1.4.1)\n",
            "Requirement already satisfied: joblib>=0.11 in /usr/local/lib/python3.6/dist-packages (from scikit-learn->sklearn) (1.0.0)\n",
            "Requirement already satisfied: fuzzyset in /usr/local/lib/python3.6/dist-packages (0.0.19)\n",
            "Requirement already satisfied: texttable in /usr/local/lib/python3.6/dist-packages (from fuzzyset) (1.6.3)\n",
            "Requirement already satisfied: python-levenshtein in /usr/local/lib/python3.6/dist-packages (from fuzzyset) (0.12.0)\n",
            "Requirement already satisfied: setuptools in /usr/local/lib/python3.6/dist-packages (from python-levenshtein->fuzzyset) (51.0.0)\n",
            "Requirement already satisfied: bloom_filter in /usr/local/lib/python3.6/dist-packages (1.3)\n"
          ],
          "name": "stdout"
        }
      ]
    },
    {
      "cell_type": "code",
      "metadata": {
        "colab": {
          "base_uri": "https://localhost:8080/"
        },
        "id": "73p1zXfzOBtq",
        "outputId": "521d5d6f-4041-4514-fb1c-4bdd4df8eae1"
      },
      "source": [
        "!git clone https://github.com/meti-94/BERT-QA.git\r\n",
        "%cd /content/BERT-QA/qelos-util/\r\n",
        "!python setup.py develop\r\n",
        "%cd /content/BERT-QA/semparse/\r\n",
        "!python setup.py develop"
      ],
      "execution_count": 42,
      "outputs": [
        {
          "output_type": "stream",
          "text": [
            "Cloning into 'BERT-QA'...\n",
            "remote: Enumerating objects: 107, done.\u001b[K\n",
            "remote: Counting objects:   0% (1/107)\u001b[K\rremote: Counting objects:   1% (2/107)\u001b[K\rremote: Counting objects:   2% (3/107)\u001b[K\rremote: Counting objects:   3% (4/107)\u001b[K\rremote: Counting objects:   4% (5/107)\u001b[K\rremote: Counting objects:   5% (6/107)\u001b[K\rremote: Counting objects:   6% (7/107)\u001b[K\rremote: Counting objects:   7% (8/107)\u001b[K\rremote: Counting objects:   8% (9/107)\u001b[K\rremote: Counting objects:   9% (10/107)\u001b[K\rremote: Counting objects:  10% (11/107)\u001b[K\rremote: Counting objects:  11% (12/107)\u001b[K\rremote: Counting objects:  12% (13/107)\u001b[K\rremote: Counting objects:  13% (14/107)\u001b[K\rremote: Counting objects:  14% (15/107)\u001b[K\rremote: Counting objects:  15% (17/107)\u001b[K\rremote: Counting objects:  16% (18/107)\u001b[K\rremote: Counting objects:  17% (19/107)\u001b[K\rremote: Counting objects:  18% (20/107)\u001b[K\rremote: Counting objects:  19% (21/107)\u001b[K\rremote: Counting objects:  20% (22/107)\u001b[K\rremote: Counting objects:  21% (23/107)\u001b[K\rremote: Counting objects:  22% (24/107)\u001b[K\rremote: Counting objects:  23% (25/107)\u001b[K\rremote: Counting objects:  24% (26/107)\u001b[K\rremote: Counting objects:  25% (27/107)\u001b[K\rremote: Counting objects:  26% (28/107)\u001b[K\rremote: Counting objects:  27% (29/107)\u001b[K\rremote: Counting objects:  28% (30/107)\u001b[K\rremote: Counting objects:  29% (32/107)\u001b[K\rremote: Counting objects:  30% (33/107)\u001b[K\rremote: Counting objects:  31% (34/107)\u001b[K\rremote: Counting objects:  32% (35/107)\u001b[K\rremote: Counting objects:  33% (36/107)\u001b[K\rremote: Counting objects:  34% (37/107)\u001b[K\rremote: Counting objects:  35% (38/107)\u001b[K\rremote: Counting objects:  36% (39/107)\u001b[K\rremote: Counting objects:  37% (40/107)\u001b[K\rremote: Counting objects:  38% (41/107)\u001b[K\rremote: Counting objects:  39% (42/107)\u001b[K\rremote: Counting objects:  40% (43/107)\u001b[K\rremote: Counting objects:  41% (44/107)\u001b[K\rremote: Counting objects:  42% (45/107)\u001b[K\rremote: Counting objects:  43% (47/107)\u001b[K\rremote: Counting objects:  44% (48/107)\u001b[K\rremote: Counting objects:  45% (49/107)\u001b[K\rremote: Counting objects:  46% (50/107)\u001b[K\rremote: Counting objects:  47% (51/107)\u001b[K\rremote: Counting objects:  48% (52/107)\u001b[K\rremote: Counting objects:  49% (53/107)\u001b[K\rremote: Counting objects:  50% (54/107)\u001b[K\rremote: Counting objects:  51% (55/107)\u001b[K\rremote: Counting objects:  52% (56/107)\u001b[K\rremote: Counting objects:  53% (57/107)\u001b[K\rremote: Counting objects:  54% (58/107)\u001b[K\rremote: Counting objects:  55% (59/107)\u001b[K\rremote: Counting objects:  56% (60/107)\u001b[K\rremote: Counting objects:  57% (61/107)\u001b[K\rremote: Counting objects:  58% (63/107)\u001b[K\rremote: Counting objects:  59% (64/107)\u001b[K\rremote: Counting objects:  60% (65/107)\u001b[K\rremote: Counting objects:  61% (66/107)\u001b[K\rremote: Counting objects:  62% (67/107)\u001b[K\rremote: Counting objects:  63% (68/107)\u001b[K\rremote: Counting objects:  64% (69/107)\u001b[K\rremote: Counting objects:  65% (70/107)\u001b[K\rremote: Counting objects:  66% (71/107)\u001b[K\rremote: Counting objects:  67% (72/107)\u001b[K\rremote: Counting objects:  68% (73/107)\u001b[K\rremote: Counting objects:  69% (74/107)\u001b[K\rremote: Counting objects:  70% (75/107)\u001b[K\rremote: Counting objects:  71% (76/107)\u001b[K\rremote: Counting objects:  72% (78/107)\u001b[K\rremote: Counting objects:  73% (79/107)\u001b[K\rremote: Counting objects:  74% (80/107)\u001b[K\rremote: Counting objects:  75% (81/107)\u001b[K\rremote: Counting objects:  76% (82/107)\u001b[K\rremote: Counting objects:  77% (83/107)\u001b[K\rremote: Counting objects:  78% (84/107)\u001b[K\rremote: Counting objects:  79% (85/107)\u001b[K\rremote: Counting objects:  80% (86/107)\u001b[K\rremote: Counting objects:  81% (87/107)\u001b[K\rremote: Counting objects:  82% (88/107)\u001b[K\rremote: Counting objects:  83% (89/107)\u001b[K\rremote: Counting objects:  84% (90/107)\u001b[K\rremote: Counting objects:  85% (91/107)\u001b[K\rremote: Counting objects:  86% (93/107)\u001b[K\rremote: Counting objects:  87% (94/107)\u001b[K\rremote: Counting objects:  88% (95/107)\u001b[K\rremote: Counting objects:  89% (96/107)\u001b[K\rremote: Counting objects:  90% (97/107)\u001b[K\rremote: Counting objects:  91% (98/107)\u001b[K\rremote: Counting objects:  92% (99/107)\u001b[K\rremote: Counting objects:  93% (100/107)\u001b[K\rremote: Counting objects:  94% (101/107)\u001b[K\rremote: Counting objects:  95% (102/107)\u001b[K\rremote: Counting objects:  96% (103/107)\u001b[K\rremote: Counting objects:  97% (104/107)\u001b[K\rremote: Counting objects:  98% (105/107)\u001b[K\rremote: Counting objects:  99% (106/107)\u001b[K\rremote: Counting objects: 100% (107/107)\u001b[K\rremote: Counting objects: 100% (107/107), done.\u001b[K\n",
            "remote: Compressing objects: 100% (91/91), done.\u001b[K\n",
            "remote: Total 107 (delta 8), reused 107 (delta 8), pack-reused 0\u001b[K\n",
            "Receiving objects: 100% (107/107), 32.31 MiB | 21.65 MiB/s, done.\n",
            "Resolving deltas: 100% (8/8), done.\n",
            "/content/BERT-QA/qelos-util\n",
            "running develop\n",
            "running egg_info\n",
            "writing qelos_util.egg-info/PKG-INFO\n",
            "writing dependency_links to qelos_util.egg-info/dependency_links.txt\n",
            "writing top-level names to qelos_util.egg-info/top_level.txt\n",
            "writing manifest file 'qelos_util.egg-info/SOURCES.txt'\n",
            "running build_ext\n",
            "Creating /usr/local/lib/python3.6/dist-packages/qelos-util.egg-link (link to .)\n",
            "qelos-util 0.0.0 is already the active version in easy-install.pth\n",
            "\n",
            "Installed /content/BERT-QA/qelos-util\n",
            "Processing dependencies for qelos-util==0.0.0\n",
            "Finished processing dependencies for qelos-util==0.0.0\n",
            "/content/BERT-QA/semparse\n",
            "running develop\n",
            "running egg_info\n",
            "writing semparse.egg-info/PKG-INFO\n",
            "writing dependency_links to semparse.egg-info/dependency_links.txt\n",
            "writing top-level names to semparse.egg-info/top_level.txt\n",
            "writing manifest file 'semparse.egg-info/SOURCES.txt'\n",
            "running build_ext\n",
            "Creating /usr/local/lib/python3.6/dist-packages/semparse.egg-link (link to .)\n",
            "semparse 0.0.0 is already the active version in easy-install.pth\n",
            "\n",
            "Installed /content/BERT-QA/semparse\n",
            "Processing dependencies for semparse==0.0.0\n",
            "Finished processing dependencies for semparse==0.0.0\n"
          ],
          "name": "stdout"
        }
      ]
    },
    {
      "cell_type": "code",
      "metadata": {
        "colab": {
          "base_uri": "https://localhost:8080/"
        },
        "id": "WoeSIWuyOPSs",
        "outputId": "113cadcf-5601-45ea-f7b7-665343d79984"
      },
      "source": [
        "%cd /content/BERT-QA/semparse/semparse/simplequestions/\r\n",
        "!python run_bert.py"
      ],
      "execution_count": 43,
      "outputs": [
        {
          "output_type": "stream",
          "text": [
            "/content/BERT-QA/semparse/semparse/simplequestions\n",
            "{'data_type': 'entity', 'freezeemb': False, 'savep': 'exp_bert_span_borders_', 'sched': 'ang', 'warmup': -1.0, 'balanced': False, 'gpu': 0, 'cuda': True, 'smoothing': 0.0, 'epochs': 6, 'batsize': 100, 'initwreg': 0.0, 'wreg': 0.01, 'dropout': 0.5, 'lr': 0.0001, 'settings': {'data_type': 'entity', 'freezeemb': False, 'savep': 'exp_bert_span_borders_', 'sched': 'ang', 'warmup': -1.0, 'balanced': False, 'gpu': 0, 'cuda': True, 'smoothing': 0.0, 'epochs': 6, 'batsize': 100, 'initwreg': 0.0, 'wreg': 0.01, 'dropout': 0.5, 'lr': 0.0001}}\n",
            "script: running span border with BERT\n",
            "script: loading data\n",
            "script: data loaded in 0.016 second\n",
            "script: Train/Dev/Test sizes: 10612 1873 5351\n",
            "script: loading BERT\n",
            "script: loaded BERT in 11.305 seconds\n",
            "script: training\n",
            "/usr/local/lib/python3.6/dist-packages/pytorch_pretrained_bert/optimization.py:275: UserWarning: This overload of add_ is deprecated:\n",
            "\tadd_(Number alpha, Tensor other)\n",
            "Consider using one of the following signatures instead:\n",
            "\tadd_(Tensor other, *, Number alpha) (Triggered internally at  /pytorch/torch/csrc/utils/python_arg_parser.cpp:882.)\n",
            "  next_m.mul_(beta1).add_(1 - beta1, grad)\n",
            "\u001b[Krunner: Epoch 1/6 -- 0.2103 :: 95.1609 :: 0.9056 -- 0.0634 :: 97.8709 :: 0.9754 in 1 minute, 25 seconds\n",
            "\u001b[Krunner: Epoch 2/6 -- 0.0454 :: 99.0130 :: 0.9818 -- 0.0354 :: 98.3667 :: 0.9872 in 1 minute, 32 seconds\n",
            "\u001b[Krunner: Epoch 3/6 -- 0.0144 :: 99.5958 :: 0.9934 -- 0.0408 :: 98.3938 :: 0.9888 in 1 minute, 31 seconds\n",
            "\u001b[Krunner: Epoch 4/6 -- 0.0058 :: 99.7194 :: 0.9968 -- 0.0476 :: 98.4538 :: 0.9899 in 1 minute, 31 seconds\n",
            "\u001b[Krunner: Epoch 5/6 -- 0.0030 :: 99.8185 :: 0.9987 -- 0.0449 :: 98.4757 :: 0.9904 in 1 minute, 31 seconds\n",
            "\u001b[Krunner: Epoch 6/6 -- 0.0018 :: 99.8146 :: 0.9987 -- 0.0469 :: 98.4116 :: 0.9893 in 1 minute, 31 seconds\n",
            "script: done training in 9 minutes, 2 seconds\n",
            "script: testing\n",
            "\u001b[K0.0479 :: 98.8438 :: 0.9869\n",
            "script: tested in 13.049 seconds\n",
            "script: making predictions and saving\n",
            "testing: testing\n",
            "\u001b[K-: eval done in 13.010 seconds\n",
            "testing: tested in 13.010 seconds\n",
            "testing: testing\n",
            "\u001b[K-: eval done in 4.382 seconds\n",
            "testing: tested in 4.382 seconds\n",
            "script: done in 19.135 seconds\n",
            "{'data_type': 'relation', 'freezeemb': False, 'savep': 'exp_bert_span_borders_', 'sched': 'ang', 'warmup': -1.0, 'balanced': False, 'gpu': 0, 'cuda': True, 'smoothing': 0.0, 'epochs': 6, 'batsize': 100, 'initwreg': 0.0, 'wreg': 0.01, 'dropout': 0.5, 'lr': 0.0001, 'settings': {'data_type': 'relation', 'freezeemb': False, 'savep': 'exp_bert_span_borders_', 'sched': 'ang', 'warmup': -1.0, 'balanced': False, 'gpu': 0, 'cuda': True, 'smoothing': 0.0, 'epochs': 6, 'batsize': 100, 'initwreg': 0.0, 'wreg': 0.01, 'dropout': 0.5, 'lr': 0.0001}}\n",
            "script: running span border with BERT\n",
            "script: loading data\n",
            "script: data loaded in 0.008 second\n",
            "script: Train/Dev/Test sizes: 10612 1873 5351\n",
            "script: loading BERT\n",
            "script: loaded BERT in 6.251 seconds\n",
            "script: training\n",
            "\u001b[Krunner: Epoch 1/6 -- 0.2754 :: 92.7840 :: 0.8793 -- 0.0912 :: 97.1789 :: 0.9626 in 1 minute, 32 seconds\n",
            "\u001b[Krunner: Epoch 2/6 -- 0.0698 :: 98.3047 :: 0.9705 -- 0.0650 :: 97.6346 :: 0.9712 in 1 minute, 31 seconds\n",
            "\u001b[Krunner: Epoch 3/6 -- 0.0355 :: 99.1129 :: 0.9856 -- 0.0596 :: 97.8222 :: 0.9770 in 1 minute, 31 seconds\n",
            "\u001b[Krunner: Epoch 4/6 -- 0.0172 :: 99.5009 :: 0.9926 -- 0.0670 :: 97.9343 :: 0.9786 in 1 minute, 31 seconds\n",
            "\u001b[Krunner: Epoch 5/6 -- 0.0089 :: 99.7309 :: 0.9958 -- 0.0674 :: 97.9374 :: 0.9797 in 1 minute, 31 seconds\n",
            "\u001b[Krunner: Epoch 6/6 -- 0.0067 :: 99.8042 :: 0.9975 -- 0.0667 :: 98.0798 :: 0.9808 in 1 minute, 31 seconds\n",
            "script: done training in 9 minutes, 8 seconds\n",
            "script: testing\n",
            "\u001b[K0.0769 :: 98.3140 :: 0.9750\n",
            "script: tested in 13.001 seconds\n",
            "script: making predictions and saving\n",
            "testing: testing\n",
            "\u001b[K-: eval done in 12.995 seconds\n",
            "testing: tested in 12.995 seconds\n",
            "testing: testing\n",
            "\u001b[K-: eval done in 4.381 seconds\n",
            "testing: tested in 4.381 seconds\n",
            "script: done in 18.847 seconds\n"
          ],
          "name": "stdout"
        }
      ]
    },
    {
      "cell_type": "code",
      "metadata": {
        "colab": {
          "base_uri": "https://localhost:8080/"
        },
        "id": "6Y-feDOZQCfm",
        "outputId": "57abde85-1a01-406a-dd6e-3090f7aca016"
      },
      "source": [
        "%cd /content/BERT-QA\r\n",
        "!python aftertrain.py"
      ],
      "execution_count": 44,
      "outputs": [
        {
          "output_type": "stream",
          "text": [
            "/content/BERT-QA\n",
            "results for entity recognation:\n",
            "/content/BERT-QA/semparse/semparse/simplequestions/exp_bert_span_borders_0\n",
            "Dataset-wide F1, precision and recall:\n",
            "0.9923722147941589 0.9912919998168945 0.9934547543525696\n",
            "aftertrain.py:396: UserWarning: This overload of nonzero is deprecated:\n",
            "\tnonzero()\n",
            "Consider using one of the following signatures instead:\n",
            "\tnonzero(*, bool as_tuple) (Triggered internally at  /pytorch/torch/csrc/utils/python_arg_parser.cpp:882.)\n",
            "  print((recall > 1).nonzero(), (precision > 1).nonzero())\n",
            "tensor([], size=(0, 2), dtype=torch.int64) tensor([], size=(0, 2), dtype=torch.int64)\n",
            "Averaged F1, precision and recall:\n",
            "0.9929863214492798 0.9933448433876038 0.9946328997612\n",
            "Span accuracy\n",
            "tensor(0.9869)\n",
            "\n",
            "\n",
            "\n",
            "results for relation recognation:\n",
            "/content/BERT-QA/semparse/semparse/simplequestions/exp_bert_span_borders_1\n",
            "Dataset-wide F1, precision and recall:\n",
            "0.9897791743278503 0.9877600073814392 0.9918065667152405\n",
            "tensor([], size=(0, 2), dtype=torch.int64) tensor([], size=(0, 2), dtype=torch.int64)\n",
            "Averaged F1, precision and recall:\n",
            "0.9876540899276733 0.988336443901062 0.9910617470741272\n",
            "Span accuracy\n",
            "tensor(0.9750)\n"
          ],
          "name": "stdout"
        }
      ]
    },
    {
      "cell_type": "code",
      "metadata": {
        "id": "hL78jVLZX1mI"
      },
      "source": [
        "!rm -rf /content/BERT-QA/semparse/semparse/simplequestions/exp_bert_span_borders_0\r\n",
        "!rm -rf /content/BERT-QA/semparse/semparse/simplequestions/exp_bert_span_borders_1\r\n"
      ],
      "execution_count": 25,
      "outputs": []
    },
    {
      "cell_type": "code",
      "metadata": {
        "id": "9k4dVIBbiy4q"
      },
      "source": [
        ""
      ],
      "execution_count": null,
      "outputs": []
    }
  ]
}